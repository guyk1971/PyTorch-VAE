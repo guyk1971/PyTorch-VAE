{
 "cells": [
  {
   "cell_type": "markdown",
   "metadata": {},
   "source": [
    "# VTON Dataset\n",
    "a notebook to explore the [VTON](https://drive.google.com/file/d/1DBJY3wPyEDvcSvQjZkX8Kjg6nuRDRIa7/view) dataset in order to prepare a `Dataset` class and `Dataloader` \n"
   ]
  },
  {
   "cell_type": "code",
   "execution_count": 1,
   "metadata": {},
   "outputs": [
    {
     "name": "stdout",
     "output_type": "stream",
     "text": [
      "/usr/intel/bin/bash: /home/gkoren2/miniconda3/envs/ptvae/lib/libtinfo.so.6: no version information available (required by /usr/intel/bin/bash)\n",
      "/home/gkoren2/miniconda3/envs/ptvae/bin/python\n"
     ]
    }
   ],
   "source": [
    "import os\n",
    "import matplotlib.pyplot as plt\n",
    "import numpy as np\n",
    "from PIL import Image\n",
    "from tqdm.notebook import tqdm\n",
    "import pandas as pd\n",
    "from glob import glob as Glob\n",
    "import json\n",
    "%matplotlib inline\n",
    "\n",
    "!which python"
   ]
  },
  {
   "cell_type": "code",
   "execution_count": 2,
   "metadata": {},
   "outputs": [],
   "source": [
    "# option 1 to handle images \n",
    "def image_grid(imgs, rows, cols):\n",
    "    assert len(imgs) == rows*cols\n",
    "\n",
    "    w, h = imgs[0].size\n",
    "    grid = Image.new('RGB', size=(cols*w, rows*h))\n",
    "    grid_w, grid_h = grid.size\n",
    "    \n",
    "    for i, img in enumerate(imgs):\n",
    "        grid.paste(img, box=(i%cols*w, i//cols*h))\n",
    "    return grid"
   ]
  },
  {
   "cell_type": "markdown",
   "metadata": {},
   "source": [
    "# Exploration"
   ]
  },
  {
   "cell_type": "code",
   "execution_count": 3,
   "metadata": {},
   "outputs": [
    {
     "data": {
      "text/plain": [
       "['007586_1.jpg',\n",
       " '011086_1.jpg',\n",
       " '007806_1.jpg',\n",
       " '001593_1.jpg',\n",
       " '017559_1.jpg',\n",
       " '005021_1.jpg',\n",
       " '005223_1.jpg',\n",
       " '006035_1.jpg',\n",
       " '001509_1.jpg',\n",
       " '019197_1.jpg',\n",
       " '012728_1.jpg',\n",
       " '015710_1.jpg',\n",
       " '003004_1.jpg',\n",
       " '001666_1.jpg',\n",
       " '013472_1.jpg',\n",
       " '013396_1.jpg',\n",
       " '002153_1.jpg',\n",
       " '003884_1.jpg',\n",
       " '002479_1.jpg',\n",
       " '008600_1.jpg',\n",
       " '004635_1.jpg',\n",
       " '000193_1.jpg',\n",
       " '014393_1.jpg',\n",
       " '011983_1.jpg',\n",
       " '013013_1.jpg',\n",
       " '010144_1.jpg',\n",
       " '019509_1.jpg',\n",
       " '012160_1.jpg',\n",
       " '010267_1.jpg',\n",
       " '007510_1.jpg',\n",
       " '002689_1.jpg',\n",
       " '017662_1.jpg',\n",
       " '014833_1.jpg',\n",
       " '014407_1.jpg',\n",
       " '017128_1.jpg',\n",
       " '010581_1.jpg',\n",
       " '010023_1.jpg',\n",
       " '016079_1.jpg',\n",
       " '017448_1.jpg',\n",
       " '006913_1.jpg',\n",
       " '006463_1.jpg',\n",
       " '000723_1.jpg',\n",
       " '000321_1.jpg',\n",
       " '009415_1.jpg',\n",
       " '015941_1.jpg',\n",
       " '006274_1.jpg',\n",
       " '016648_1.jpg',\n",
       " '005043_1.jpg',\n",
       " '012420_1.jpg',\n",
       " '016297_1.jpg',\n",
       " '006085_1.jpg',\n",
       " '000637_1.jpg',\n",
       " '008712_1.jpg',\n",
       " '017361_1.jpg',\n",
       " '001232_1.jpg',\n",
       " '004016_1.jpg',\n",
       " '004488_1.jpg',\n",
       " '012859_1.jpg',\n",
       " '016306_1.jpg',\n",
       " '006626_1.jpg',\n",
       " '013930_1.jpg',\n",
       " '002824_1.jpg',\n",
       " '003801_1.jpg',\n",
       " '014602_1.jpg',\n",
       " '010015_1.jpg',\n",
       " '013061_1.jpg',\n",
       " '010589_1.jpg',\n",
       " '015518_1.jpg',\n",
       " '010196_1.jpg',\n",
       " '004119_1.jpg',\n",
       " '009133_1.jpg',\n",
       " '003459_1.jpg',\n",
       " '017972_1.jpg',\n",
       " '011234_1.jpg',\n",
       " '005660_1.jpg',\n",
       " '006261_1.jpg',\n",
       " '017415_1.jpg',\n",
       " '012312_1.jpg',\n",
       " '018963_1.jpg',\n",
       " '009313_1.jpg',\n",
       " '011985_1.jpg',\n",
       " '013967_1.jpg',\n",
       " '019301_1.jpg',\n",
       " '018437_1.jpg',\n",
       " '005409_1.jpg',\n",
       " '010903_1.jpg',\n",
       " '002012_1.jpg',\n",
       " '003799_1.jpg',\n",
       " '015721_1.jpg',\n",
       " '005301_1.jpg',\n",
       " '006271_1.jpg',\n",
       " '003385_1.jpg',\n",
       " '013399_1.jpg',\n",
       " '015641_1.jpg',\n",
       " '001828_1.jpg',\n",
       " '009412_1.jpg',\n",
       " '013067_1.jpg',\n",
       " '018052_1.jpg',\n",
       " '010456_1.jpg',\n",
       " '001818_1.jpg',\n",
       " '002175_1.jpg',\n",
       " '014769_1.jpg',\n",
       " '018457_1.jpg',\n",
       " '005046_1.jpg',\n",
       " '009239_1.jpg',\n",
       " '006505_1.jpg',\n",
       " '012519_1.jpg',\n",
       " '007033_1.jpg',\n",
       " '009227_1.jpg',\n",
       " '017508_1.jpg',\n",
       " '017312_1.jpg',\n",
       " '010190_1.jpg',\n",
       " '004940_1.jpg',\n",
       " '018800_1.jpg',\n",
       " '017745_1.jpg',\n",
       " '004688_1.jpg',\n",
       " '006664_1.jpg',\n",
       " '010998_1.jpg',\n",
       " '012327_1.jpg',\n",
       " '010073_1.jpg',\n",
       " '017442_1.jpg',\n",
       " '009296_1.jpg',\n",
       " '011538_1.jpg',\n",
       " '009501_1.jpg',\n",
       " '019177_1.jpg',\n",
       " '005428_1.jpg',\n",
       " '005319_1.jpg',\n",
       " '017809_1.jpg',\n",
       " '011001_1.jpg',\n",
       " '013209_1.jpg',\n",
       " '012933_1.jpg',\n",
       " '014337_1.jpg',\n",
       " '010447_1.jpg',\n",
       " '008467_1.jpg',\n",
       " '004886_1.jpg',\n",
       " '003130_1.jpg',\n",
       " '008232_1.jpg',\n",
       " '010624_1.jpg',\n",
       " '012234_1.jpg',\n",
       " '006876_1.jpg',\n",
       " '016381_1.jpg',\n",
       " '018283_1.jpg',\n",
       " '009391_1.jpg',\n",
       " '018247_1.jpg',\n",
       " '001441_1.jpg',\n",
       " '012021_1.jpg',\n",
       " '011126_1.jpg',\n",
       " '001130_1.jpg',\n",
       " '019441_1.jpg',\n",
       " '007127_1.jpg',\n",
       " '012259_1.jpg',\n",
       " '018077_1.jpg',\n",
       " '001712_1.jpg',\n",
       " '003166_1.jpg',\n",
       " '006071_1.jpg',\n",
       " '000730_1.jpg',\n",
       " '010118_1.jpg',\n",
       " '016286_1.jpg',\n",
       " '015847_1.jpg',\n",
       " '011361_1.jpg',\n",
       " '018345_1.jpg',\n",
       " '017798_1.jpg',\n",
       " '014213_1.jpg',\n",
       " '012387_1.jpg',\n",
       " '012645_1.jpg',\n",
       " '014073_1.jpg',\n",
       " '019284_1.jpg',\n",
       " '014221_1.jpg',\n",
       " '000171_1.jpg',\n",
       " '007590_1.jpg',\n",
       " '014158_1.jpg',\n",
       " '013208_1.jpg',\n",
       " '013339_1.jpg',\n",
       " '018941_1.jpg',\n",
       " '011450_1.jpg',\n",
       " '015028_1.jpg',\n",
       " '010897_1.jpg',\n",
       " '005146_1.jpg',\n",
       " '001686_1.jpg',\n",
       " '015488_1.jpg',\n",
       " '013509_1.jpg',\n",
       " '014210_1.jpg',\n",
       " '000431_1.jpg',\n",
       " '009143_1.jpg',\n",
       " '015383_1.jpg',\n",
       " '000224_1.jpg',\n",
       " '014225_1.jpg',\n",
       " '019168_1.jpg',\n",
       " '011281_1.jpg',\n",
       " '017771_1.jpg',\n",
       " '012352_1.jpg',\n",
       " '002572_1.jpg',\n",
       " '008921_1.jpg',\n",
       " '012031_1.jpg',\n",
       " '001049_1.jpg',\n",
       " '013140_1.jpg',\n",
       " '010680_1.jpg',\n",
       " '013971_1.jpg',\n",
       " '007578_1.jpg',\n",
       " '015612_1.jpg',\n",
       " '001006_1.jpg',\n",
       " '006893_1.jpg',\n",
       " '004640_1.jpg',\n",
       " '011032_1.jpg',\n",
       " '006053_1.jpg',\n",
       " '011532_1.jpg',\n",
       " '008039_1.jpg',\n",
       " '001659_1.jpg',\n",
       " '013071_1.jpg',\n",
       " '016321_1.jpg',\n",
       " '009514_1.jpg',\n",
       " '016508_1.jpg',\n",
       " '000040_1.jpg',\n",
       " '010740_1.jpg',\n",
       " '008349_1.jpg',\n",
       " '014236_1.jpg',\n",
       " '011325_1.jpg',\n",
       " '001111_1.jpg',\n",
       " '003702_1.jpg',\n",
       " '015770_1.jpg',\n",
       " '016586_1.jpg',\n",
       " '004898_1.jpg',\n",
       " '015909_1.jpg',\n",
       " '009969_1.jpg',\n",
       " '010617_1.jpg',\n",
       " '016719_1.jpg',\n",
       " '005010_1.jpg',\n",
       " '012229_1.jpg',\n",
       " '001270_1.jpg',\n",
       " '012026_1.jpg',\n",
       " '015307_1.jpg',\n",
       " '005326_1.jpg',\n",
       " '009918_1.jpg',\n",
       " '017571_1.jpg',\n",
       " '010963_1.jpg',\n",
       " '005362_1.jpg',\n",
       " '015244_1.jpg',\n",
       " '001129_1.jpg',\n",
       " '013745_1.jpg',\n",
       " '003417_1.jpg',\n",
       " '002354_1.jpg',\n",
       " '006518_1.jpg',\n",
       " '007482_1.jpg',\n",
       " '000288_1.jpg',\n",
       " '019379_1.jpg',\n",
       " '016847_1.jpg',\n",
       " '013403_1.jpg',\n",
       " '002811_1.jpg',\n",
       " '012000_1.jpg',\n",
       " '010550_1.jpg',\n",
       " '011252_1.jpg',\n",
       " '003872_1.jpg',\n",
       " '002666_1.jpg',\n",
       " '012515_1.jpg',\n",
       " '017955_1.jpg',\n",
       " '002704_1.jpg',\n",
       " '016260_1.jpg',\n",
       " '018725_1.jpg',\n",
       " '011679_1.jpg',\n",
       " '005121_1.jpg',\n",
       " '008555_1.jpg',\n",
       " '011238_1.jpg',\n",
       " '018480_1.jpg',\n",
       " '000144_1.jpg',\n",
       " '010048_1.jpg',\n",
       " '013129_1.jpg',\n",
       " '015635_1.jpg',\n",
       " '012696_1.jpg',\n",
       " '009379_1.jpg',\n",
       " '012108_1.jpg',\n",
       " '014441_1.jpg',\n",
       " '017951_1.jpg',\n",
       " '011257_1.jpg',\n",
       " '010236_1.jpg',\n",
       " '012593_1.jpg',\n",
       " '000613_1.jpg',\n",
       " '007796_1.jpg',\n",
       " '004337_1.jpg',\n",
       " '014697_1.jpg',\n",
       " '002730_1.jpg',\n",
       " '003293_1.jpg',\n",
       " '008432_1.jpg',\n",
       " '016898_1.jpg',\n",
       " '011573_1.jpg',\n",
       " '006471_1.jpg',\n",
       " '017780_1.jpg',\n",
       " '005659_1.jpg',\n",
       " '014580_1.jpg',\n",
       " '015080_1.jpg',\n",
       " '009761_1.jpg',\n",
       " '006392_1.jpg',\n",
       " '011460_1.jpg',\n",
       " '006149_1.jpg',\n",
       " '016617_1.jpg',\n",
       " '013010_1.jpg',\n",
       " '015818_1.jpg',\n",
       " '006653_1.jpg',\n",
       " '004094_1.jpg',\n",
       " '008125_1.jpg',\n",
       " '014233_1.jpg',\n",
       " '011847_1.jpg',\n",
       " '001976_1.jpg',\n",
       " '008345_1.jpg',\n",
       " '015009_1.jpg',\n",
       " '009548_1.jpg',\n",
       " '002091_1.jpg',\n",
       " '017862_1.jpg',\n",
       " '014926_1.jpg',\n",
       " '000051_1.jpg',\n",
       " '010569_1.jpg',\n",
       " '018392_1.jpg',\n",
       " '013511_1.jpg',\n",
       " '013712_1.jpg',\n",
       " '014924_1.jpg',\n",
       " '004443_1.jpg',\n",
       " '012777_1.jpg',\n",
       " '012405_1.jpg',\n",
       " '002836_1.jpg',\n",
       " '014295_1.jpg',\n",
       " '004971_1.jpg',\n",
       " '019576_1.jpg',\n",
       " '008789_1.jpg',\n",
       " '006309_1.jpg',\n",
       " '012649_1.jpg',\n",
       " '015791_1.jpg',\n",
       " '014501_1.jpg',\n",
       " '004998_1.jpg',\n",
       " '013126_1.jpg',\n",
       " '012038_1.jpg',\n",
       " '019094_1.jpg',\n",
       " '009947_1.jpg',\n",
       " '000622_1.jpg',\n",
       " '001731_1.jpg',\n",
       " '004741_1.jpg',\n",
       " '015681_1.jpg',\n",
       " '002330_1.jpg',\n",
       " '015079_1.jpg',\n",
       " '013152_1.jpg',\n",
       " '007746_1.jpg',\n",
       " '011917_1.jpg',\n",
       " '015358_1.jpg',\n",
       " '014734_1.jpg',\n",
       " '017838_1.jpg',\n",
       " '001803_1.jpg',\n",
       " '019235_1.jpg',\n",
       " '004685_1.jpg',\n",
       " '013424_1.jpg',\n",
       " '018989_1.jpg',\n",
       " '007271_1.jpg',\n",
       " '017687_1.jpg',\n",
       " '013974_1.jpg',\n",
       " '004554_1.jpg',\n",
       " '016464_1.jpg',\n",
       " '010322_1.jpg',\n",
       " '016360_1.jpg',\n",
       " '017485_1.jpg',\n",
       " '009035_1.jpg',\n",
       " '002088_1.jpg',\n",
       " '014107_1.jpg',\n",
       " '014682_1.jpg',\n",
       " '000914_1.jpg',\n",
       " '017108_1.jpg',\n",
       " '003054_1.jpg',\n",
       " '007636_1.jpg',\n",
       " '007400_1.jpg',\n",
       " '004589_1.jpg',\n",
       " '015954_1.jpg',\n",
       " '015285_1.jpg',\n",
       " '001931_1.jpg',\n",
       " '008401_1.jpg',\n",
       " '002235_1.jpg',\n",
       " '012206_1.jpg',\n",
       " '017403_1.jpg',\n",
       " '014036_1.jpg',\n",
       " '003366_1.jpg',\n",
       " '000717_1.jpg',\n",
       " '001374_1.jpg',\n",
       " '012858_1.jpg',\n",
       " '015700_1.jpg',\n",
       " '006342_1.jpg',\n",
       " '019391_1.jpg',\n",
       " '015774_1.jpg',\n",
       " '014117_1.jpg',\n",
       " '006084_1.jpg',\n",
       " '005571_1.jpg',\n",
       " '013987_1.jpg',\n",
       " '001216_1.jpg',\n",
       " '006013_1.jpg',\n",
       " '017870_1.jpg',\n",
       " '010193_1.jpg',\n",
       " '018885_1.jpg',\n",
       " '000260_1.jpg',\n",
       " '011845_1.jpg',\n",
       " '018015_1.jpg',\n",
       " '014819_1.jpg',\n",
       " '012883_1.jpg',\n",
       " '017577_1.jpg',\n",
       " '007612_1.jpg',\n",
       " '004349_1.jpg',\n",
       " '002992_1.jpg',\n",
       " '018476_1.jpg',\n",
       " '004328_1.jpg',\n",
       " '009924_1.jpg',\n",
       " '014925_1.jpg',\n",
       " '011592_1.jpg',\n",
       " '013252_1.jpg',\n",
       " '013488_1.jpg',\n",
       " '005418_1.jpg',\n",
       " '013791_1.jpg',\n",
       " '002537_1.jpg',\n",
       " '017336_1.jpg',\n",
       " '016091_1.jpg',\n",
       " '011721_1.jpg',\n",
       " '014831_1.jpg',\n",
       " '017344_1.jpg',\n",
       " '004802_1.jpg',\n",
       " '017670_1.jpg',\n",
       " '005041_1.jpg',\n",
       " '018584_1.jpg',\n",
       " '000377_1.jpg',\n",
       " '009769_1.jpg',\n",
       " '012576_1.jpg',\n",
       " '017174_1.jpg',\n",
       " '008486_1.jpg',\n",
       " '018172_1.jpg',\n",
       " '006280_1.jpg',\n",
       " '009667_1.jpg',\n",
       " '015293_1.jpg',\n",
       " '007418_1.jpg',\n",
       " '010784_1.jpg',\n",
       " '016976_1.jpg',\n",
       " '011346_1.jpg',\n",
       " '013453_1.jpg',\n",
       " '013433_1.jpg',\n",
       " '019508_1.jpg',\n",
       " '011624_1.jpg',\n",
       " '013898_1.jpg',\n",
       " '000657_1.jpg',\n",
       " '017680_1.jpg',\n",
       " '019371_1.jpg',\n",
       " '018648_1.jpg',\n",
       " '007332_1.jpg',\n",
       " '010342_1.jpg',\n",
       " '018181_1.jpg',\n",
       " '016945_1.jpg',\n",
       " '008289_1.jpg',\n",
       " '003855_1.jpg',\n",
       " '011642_1.jpg',\n",
       " '003068_1.jpg',\n",
       " '019247_1.jpg',\n",
       " '017161_1.jpg',\n",
       " '007161_1.jpg',\n",
       " '015875_1.jpg',\n",
       " '011821_1.jpg',\n",
       " '017624_1.jpg',\n",
       " '005307_1.jpg',\n",
       " '018495_1.jpg',\n",
       " '003026_1.jpg',\n",
       " '011581_1.jpg',\n",
       " '006532_1.jpg',\n",
       " '001513_1.jpg',\n",
       " '018065_1.jpg',\n",
       " '018568_1.jpg',\n",
       " '005849_1.jpg',\n",
       " '017237_1.jpg',\n",
       " '002786_1.jpg',\n",
       " '016293_1.jpg',\n",
       " '003931_1.jpg',\n",
       " '006766_1.jpg',\n",
       " '008298_1.jpg',\n",
       " '003064_1.jpg',\n",
       " '001100_1.jpg',\n",
       " '010323_1.jpg',\n",
       " '017946_1.jpg',\n",
       " '005257_1.jpg',\n",
       " '007575_1.jpg',\n",
       " '006962_1.jpg',\n",
       " '001832_1.jpg',\n",
       " '000903_1.jpg',\n",
       " '009279_1.jpg',\n",
       " '005236_1.jpg',\n",
       " '008854_1.jpg',\n",
       " '011080_1.jpg',\n",
       " '000970_1.jpg',\n",
       " '004259_1.jpg',\n",
       " '012119_1.jpg',\n",
       " '012230_1.jpg',\n",
       " '002004_1.jpg',\n",
       " '006765_1.jpg',\n",
       " '006840_1.jpg',\n",
       " '008217_1.jpg',\n",
       " '000636_1.jpg',\n",
       " '013009_1.jpg',\n",
       " '010687_1.jpg',\n",
       " '015073_1.jpg',\n",
       " '012220_1.jpg',\n",
       " '015544_1.jpg',\n",
       " '005160_1.jpg',\n",
       " '018046_1.jpg',\n",
       " '018143_1.jpg',\n",
       " '017647_1.jpg',\n",
       " '013774_1.jpg',\n",
       " '002462_1.jpg',\n",
       " '005872_1.jpg',\n",
       " '001015_1.jpg',\n",
       " '000315_1.jpg',\n",
       " '001341_1.jpg',\n",
       " '001424_1.jpg',\n",
       " '007652_1.jpg',\n",
       " '013903_1.jpg',\n",
       " '018078_1.jpg',\n",
       " '003447_1.jpg',\n",
       " '004868_1.jpg',\n",
       " '000472_1.jpg',\n",
       " '003665_1.jpg',\n",
       " '010113_1.jpg',\n",
       " '003223_1.jpg',\n",
       " '004018_1.jpg',\n",
       " '018758_1.jpg',\n",
       " '002141_1.jpg',\n",
       " '001721_1.jpg',\n",
       " '007458_1.jpg',\n",
       " '007961_1.jpg',\n",
       " '002650_1.jpg',\n",
       " '008676_1.jpg',\n",
       " '001033_1.jpg',\n",
       " '001711_1.jpg',\n",
       " '008178_1.jpg',\n",
       " '007555_1.jpg',\n",
       " '006746_1.jpg',\n",
       " '001362_1.jpg',\n",
       " '001549_1.jpg',\n",
       " '005015_1.jpg',\n",
       " '011301_1.jpg',\n",
       " '012156_1.jpg',\n",
       " '008344_1.jpg',\n",
       " '003614_1.jpg',\n",
       " '015199_1.jpg',\n",
       " '001978_1.jpg',\n",
       " '017679_1.jpg',\n",
       " '002979_1.jpg',\n",
       " '002716_1.jpg',\n",
       " '016869_1.jpg',\n",
       " '000439_1.jpg',\n",
       " '014866_1.jpg',\n",
       " '006762_1.jpg',\n",
       " '006001_1.jpg',\n",
       " '018323_1.jpg',\n",
       " '018537_1.jpg',\n",
       " '000738_1.jpg',\n",
       " '007027_1.jpg',\n",
       " '002571_1.jpg',\n",
       " '013357_1.jpg',\n",
       " '015146_1.jpg',\n",
       " '002977_1.jpg',\n",
       " '016792_1.jpg',\n",
       " '010895_1.jpg',\n",
       " '011770_1.jpg',\n",
       " '007868_1.jpg',\n",
       " '006489_1.jpg',\n",
       " '012277_1.jpg',\n",
       " '010894_1.jpg',\n",
       " '002047_1.jpg',\n",
       " '004916_1.jpg',\n",
       " '014345_1.jpg',\n",
       " '010043_1.jpg',\n",
       " '009692_1.jpg',\n",
       " '018119_1.jpg',\n",
       " '018969_1.jpg',\n",
       " '007360_1.jpg',\n",
       " '008702_1.jpg',\n",
       " '014493_1.jpg',\n",
       " '008968_1.jpg',\n",
       " '008883_1.jpg',\n",
       " '018303_1.jpg',\n",
       " '015263_1.jpg',\n",
       " '012902_1.jpg',\n",
       " '005916_1.jpg',\n",
       " '015416_1.jpg',\n",
       " '010871_1.jpg',\n",
       " '014105_1.jpg',\n",
       " '004236_1.jpg',\n",
       " '012654_1.jpg',\n",
       " '008419_1.jpg',\n",
       " '017069_1.jpg',\n",
       " '015668_1.jpg',\n",
       " '007227_1.jpg',\n",
       " '018950_1.jpg',\n",
       " '001703_1.jpg',\n",
       " '012560_1.jpg',\n",
       " '015313_1.jpg',\n",
       " '017960_1.jpg',\n",
       " '015888_1.jpg',\n",
       " '010029_1.jpg',\n",
       " '008821_1.jpg',\n",
       " '018770_1.jpg',\n",
       " '008660_1.jpg',\n",
       " '018664_1.jpg',\n",
       " '009617_1.jpg',\n",
       " '008564_1.jpg',\n",
       " '012389_1.jpg',\n",
       " '014820_1.jpg',\n",
       " '014589_1.jpg',\n",
       " '003110_1.jpg',\n",
       " '009963_1.jpg',\n",
       " '005004_1.jpg',\n",
       " '001119_1.jpg',\n",
       " '018625_1.jpg',\n",
       " '013503_1.jpg',\n",
       " '010135_1.jpg',\n",
       " '004991_1.jpg',\n",
       " '016283_1.jpg',\n",
       " '017995_1.jpg',\n",
       " '001040_1.jpg',\n",
       " '015566_1.jpg',\n",
       " '002509_1.jpg',\n",
       " '000333_1.jpg',\n",
       " '003433_1.jpg',\n",
       " '002342_1.jpg',\n",
       " '002950_1.jpg',\n",
       " '000280_1.jpg',\n",
       " '010214_1.jpg',\n",
       " '012518_1.jpg',\n",
       " '015674_1.jpg',\n",
       " '008957_1.jpg',\n",
       " '000269_1.jpg',\n",
       " '014762_1.jpg',\n",
       " '002657_1.jpg',\n",
       " '004262_1.jpg',\n",
       " '004005_1.jpg',\n",
       " '002101_1.jpg',\n",
       " '005909_1.jpg',\n",
       " '018951_1.jpg',\n",
       " '002855_1.jpg',\n",
       " '002194_1.jpg',\n",
       " '004459_1.jpg',\n",
       " '005994_1.jpg',\n",
       " '003104_1.jpg',\n",
       " '013326_1.jpg',\n",
       " '009622_1.jpg',\n",
       " '006515_1.jpg',\n",
       " '009663_1.jpg',\n",
       " '007936_1.jpg',\n",
       " '002770_1.jpg',\n",
       " '018535_1.jpg',\n",
       " '004536_1.jpg',\n",
       " '017561_1.jpg',\n",
       " '006270_1.jpg',\n",
       " '000687_1.jpg',\n",
       " '012523_1.jpg',\n",
       " '017637_1.jpg',\n",
       " '016821_1.jpg',\n",
       " '010107_1.jpg',\n",
       " '009118_1.jpg',\n",
       " '000490_1.jpg',\n",
       " '007766_1.jpg',\n",
       " '013819_1.jpg',\n",
       " '015415_1.jpg',\n",
       " '010466_1.jpg',\n",
       " '003351_1.jpg',\n",
       " '007245_1.jpg',\n",
       " '010151_1.jpg',\n",
       " '016007_1.jpg',\n",
       " '009609_1.jpg',\n",
       " '007804_1.jpg',\n",
       " '012957_1.jpg',\n",
       " '017656_1.jpg',\n",
       " '005757_1.jpg',\n",
       " '007311_1.jpg',\n",
       " '015078_1.jpg',\n",
       " '003266_1.jpg',\n",
       " '011357_1.jpg',\n",
       " '012812_1.jpg',\n",
       " '004191_1.jpg',\n",
       " '017342_1.jpg',\n",
       " '005447_1.jpg',\n",
       " '000669_1.jpg',\n",
       " '013945_1.jpg',\n",
       " '000811_1.jpg',\n",
       " '014335_1.jpg',\n",
       " '019406_1.jpg',\n",
       " '013034_1.jpg',\n",
       " '006894_1.jpg',\n",
       " '011324_1.jpg',\n",
       " '017971_1.jpg',\n",
       " '019187_1.jpg',\n",
       " '010769_1.jpg',\n",
       " '003747_1.jpg',\n",
       " '000064_1.jpg',\n",
       " '003796_1.jpg',\n",
       " '015479_1.jpg',\n",
       " '005371_1.jpg',\n",
       " '008558_1.jpg',\n",
       " '013121_1.jpg',\n",
       " '004037_1.jpg',\n",
       " '015135_1.jpg',\n",
       " '016712_1.jpg',\n",
       " '006553_1.jpg',\n",
       " '009304_1.jpg',\n",
       " '014851_1.jpg',\n",
       " '003352_1.jpg',\n",
       " '011956_1.jpg',\n",
       " '003969_1.jpg',\n",
       " '004817_1.jpg',\n",
       " '003532_1.jpg',\n",
       " '010860_1.jpg',\n",
       " '015880_1.jpg',\n",
       " '007630_1.jpg',\n",
       " '001461_1.jpg',\n",
       " '014136_1.jpg',\n",
       " '001816_1.jpg',\n",
       " '019085_1.jpg',\n",
       " '006337_1.jpg',\n",
       " '011942_1.jpg',\n",
       " '012181_1.jpg',\n",
       " '005623_1.jpg',\n",
       " '000534_1.jpg',\n",
       " '001276_1.jpg',\n",
       " '007893_1.jpg',\n",
       " '011226_1.jpg',\n",
       " '013613_1.jpg',\n",
       " '003966_1.jpg',\n",
       " '019273_1.jpg',\n",
       " '007647_1.jpg',\n",
       " '000261_1.jpg',\n",
       " '001478_1.jpg',\n",
       " '012270_1.jpg',\n",
       " '016245_1.jpg',\n",
       " '015486_1.jpg',\n",
       " '001965_1.jpg',\n",
       " '003941_1.jpg',\n",
       " '017209_1.jpg',\n",
       " '007041_1.jpg',\n",
       " '017011_1.jpg',\n",
       " '002722_1.jpg',\n",
       " '017117_1.jpg',\n",
       " '003108_1.jpg',\n",
       " '010582_1.jpg',\n",
       " '003169_1.jpg',\n",
       " '016331_1.jpg',\n",
       " '006176_1.jpg',\n",
       " '000985_1.jpg',\n",
       " '017515_1.jpg',\n",
       " '007281_1.jpg',\n",
       " '007136_1.jpg',\n",
       " '018432_1.jpg',\n",
       " '010548_1.jpg',\n",
       " '008272_1.jpg',\n",
       " '004960_1.jpg',\n",
       " '008650_1.jpg',\n",
       " '003125_1.jpg',\n",
       " '007567_1.jpg',\n",
       " '002429_1.jpg',\n",
       " '002830_1.jpg',\n",
       " '004902_1.jpg',\n",
       " '006355_1.jpg',\n",
       " '009814_1.jpg',\n",
       " '000485_1.jpg',\n",
       " '003135_1.jpg',\n",
       " '012153_1.jpg',\n",
       " '019237_1.jpg',\n",
       " '015747_1.jpg',\n",
       " '014208_1.jpg',\n",
       " '010129_1.jpg',\n",
       " '008338_1.jpg',\n",
       " '006644_1.jpg',\n",
       " '004171_1.jpg',\n",
       " '008034_1.jpg',\n",
       " '007039_1.jpg',\n",
       " '017210_1.jpg',\n",
       " '013494_1.jpg',\n",
       " '012141_1.jpg',\n",
       " '015255_1.jpg',\n",
       " '004945_1.jpg',\n",
       " '008838_1.jpg',\n",
       " '006975_1.jpg',\n",
       " '019309_1.jpg',\n",
       " '016303_1.jpg',\n",
       " '011966_1.jpg',\n",
       " '006979_1.jpg',\n",
       " '009276_1.jpg',\n",
       " '003670_1.jpg',\n",
       " '011077_1.jpg',\n",
       " '014143_1.jpg',\n",
       " '007573_1.jpg',\n",
       " '016012_1.jpg',\n",
       " '012846_1.jpg',\n",
       " '007163_1.jpg',\n",
       " '002713_1.jpg',\n",
       " '005056_1.jpg',\n",
       " '012199_1.jpg',\n",
       " '012516_1.jpg',\n",
       " '008005_1.jpg',\n",
       " '019358_1.jpg',\n",
       " '004439_1.jpg',\n",
       " '014868_1.jpg',\n",
       " '016434_1.jpg',\n",
       " '019258_1.jpg',\n",
       " '013551_1.jpg',\n",
       " '009443_1.jpg',\n",
       " '013616_1.jpg',\n",
       " '011246_1.jpg',\n",
       " '001595_1.jpg',\n",
       " '000695_1.jpg',\n",
       " '009220_1.jpg',\n",
       " '008824_1.jpg',\n",
       " '002132_1.jpg',\n",
       " '013246_1.jpg',\n",
       " '019471_1.jpg',\n",
       " '000904_1.jpg',\n",
       " '006687_1.jpg',\n",
       " '016008_1.jpg',\n",
       " '014202_1.jpg',\n",
       " '005890_1.jpg',\n",
       " '016113_1.jpg',\n",
       " '002595_1.jpg',\n",
       " '000316_1.jpg',\n",
       " '007624_1.jpg',\n",
       " '008067_1.jpg',\n",
       " '002724_1.jpg',\n",
       " '008504_1.jpg',\n",
       " '015374_1.jpg',\n",
       " '012916_1.jpg',\n",
       " '009707_1.jpg',\n",
       " '018193_1.jpg',\n",
       " '004330_1.jpg',\n",
       " '016583_1.jpg',\n",
       " '016249_1.jpg',\n",
       " '019306_1.jpg',\n",
       " '014400_1.jpg',\n",
       " '007822_1.jpg',\n",
       " '016479_1.jpg',\n",
       " '000283_1.jpg',\n",
       " '017439_1.jpg',\n",
       " '017022_1.jpg',\n",
       " '002527_1.jpg',\n",
       " '003653_1.jpg',\n",
       " '004350_1.jpg',\n",
       " '011193_1.jpg',\n",
       " '009121_1.jpg',\n",
       " '006059_1.jpg',\n",
       " '017602_1.jpg',\n",
       " '002051_1.jpg',\n",
       " '007993_1.jpg',\n",
       " '011358_1.jpg',\n",
       " '013148_1.jpg',\n",
       " '010739_1.jpg',\n",
       " '007300_1.jpg',\n",
       " '005245_1.jpg',\n",
       " '002366_1.jpg',\n",
       " '004165_1.jpg',\n",
       " '015872_1.jpg',\n",
       " '014331_1.jpg',\n",
       " '009272_1.jpg',\n",
       " '002140_1.jpg',\n",
       " '000843_1.jpg',\n",
       " '002033_1.jpg',\n",
       " '014328_1.jpg',\n",
       " '006558_1.jpg',\n",
       " '012952_1.jpg',\n",
       " '014007_1.jpg',\n",
       " '007669_1.jpg',\n",
       " '015786_1.jpg',\n",
       " '012501_1.jpg',\n",
       " '010935_1.jpg',\n",
       " '010572_1.jpg',\n",
       " '019031_1.jpg',\n",
       " '014867_1.jpg',\n",
       " '006814_1.jpg',\n",
       " '019378_1.jpg',\n",
       " '016809_1.jpg',\n",
       " '004582_1.jpg',\n",
       " '001684_1.jpg',\n",
       " '003339_1.jpg',\n",
       " '014779_1.jpg',\n",
       " '014309_1.jpg',\n",
       " '015964_1.jpg',\n",
       " '003946_1.jpg',\n",
       " '001730_1.jpg',\n",
       " '015661_1.jpg',\n",
       " '009543_1.jpg',\n",
       " '016015_1.jpg',\n",
       " '005184_1.jpg',\n",
       " '010904_1.jpg',\n",
       " '013984_1.jpg',\n",
       " '002045_1.jpg',\n",
       " '008113_1.jpg',\n",
       " '011456_1.jpg',\n",
       " '000076_1.jpg',\n",
       " '014193_1.jpg',\n",
       " '004876_1.jpg',\n",
       " '019456_1.jpg',\n",
       " '014671_1.jpg',\n",
       " '016399_1.jpg',\n",
       " '005654_1.jpg',\n",
       " '019102_1.jpg',\n",
       " '014982_1.jpg',\n",
       " '009385_1.jpg',\n",
       " '005080_1.jpg',\n",
       " '016830_1.jpg',\n",
       " '015841_1.jpg',\n",
       " '010923_1.jpg',\n",
       " '017096_1.jpg',\n",
       " '012258_1.jpg',\n",
       " '001660_1.jpg',\n",
       " '011709_1.jpg',\n",
       " '007461_1.jpg',\n",
       " '006619_1.jpg',\n",
       " '002064_1.jpg',\n",
       " '002301_1.jpg',\n",
       " '012950_1.jpg',\n",
       " '014024_1.jpg',\n",
       " '015046_1.jpg',\n",
       " '006188_1.jpg',\n",
       " '007474_1.jpg',\n",
       " '005545_1.jpg',\n",
       " '009645_1.jpg',\n",
       " '011094_1.jpg',\n",
       " '002909_1.jpg',\n",
       " '003672_1.jpg',\n",
       " '003448_1.jpg',\n",
       " '018534_1.jpg',\n",
       " '012508_1.jpg',\n",
       " '010909_1.jpg',\n",
       " '010775_1.jpg',\n",
       " '007280_1.jpg',\n",
       " '002061_1.jpg',\n",
       " '000245_1.jpg',\n",
       " '004511_1.jpg',\n",
       " '009599_1.jpg',\n",
       " '007810_1.jpg',\n",
       " '017654_1.jpg',\n",
       " '008473_1.jpg',\n",
       " '016740_1.jpg',\n",
       " '010360_1.jpg',\n",
       " '013434_1.jpg',\n",
       " '005547_1.jpg',\n",
       " '010855_1.jpg',\n",
       " '000006_1.jpg',\n",
       " '011848_1.jpg',\n",
       " '017752_1.jpg',\n",
       " '007287_1.jpg',\n",
       " '001779_1.jpg',\n",
       " '012319_1.jpg',\n",
       " '007677_1.jpg',\n",
       " '008237_1.jpg',\n",
       " '010508_1.jpg',\n",
       " '004367_1.jpg',\n",
       " '001037_1.jpg',\n",
       " '010530_1.jpg',\n",
       " '013413_1.jpg',\n",
       " '016535_1.jpg',\n",
       " '006485_1.jpg',\n",
       " '001652_1.jpg',\n",
       " '003695_1.jpg',\n",
       " '003589_1.jpg',\n",
       " '003744_1.jpg',\n",
       " '012737_1.jpg',\n",
       " '001819_1.jpg',\n",
       " '017901_1.jpg',\n",
       " '006629_1.jpg',\n",
       " '009968_1.jpg',\n",
       " '009207_1.jpg',\n",
       " '003089_1.jpg',\n",
       " '008200_1.jpg',\n",
       " '000225_1.jpg',\n",
       " '013354_1.jpg',\n",
       " '018205_1.jpg',\n",
       " '017131_1.jpg',\n",
       " '013079_1.jpg',\n",
       " '009536_1.jpg',\n",
       " '009558_1.jpg',\n",
       " '015453_1.jpg',\n",
       " '010334_1.jpg',\n",
       " '014231_1.jpg',\n",
       " '000800_1.jpg',\n",
       " '002531_1.jpg',\n",
       " '002192_1.jpg',\n",
       " '003073_1.jpg',\n",
       " '016923_1.jpg',\n",
       " '018135_1.jpg',\n",
       " '002050_1.jpg',\n",
       " '002408_1.jpg',\n",
       " '011846_1.jpg',\n",
       " '005387_1.jpg',\n",
       " '008503_1.jpg',\n",
       " '003741_1.jpg',\n",
       " '002369_1.jpg',\n",
       " '012549_1.jpg',\n",
       " '015332_1.jpg',\n",
       " '016140_1.jpg',\n",
       " '015846_1.jpg',\n",
       " '017460_1.jpg',\n",
       " '010890_1.jpg',\n",
       " '002838_1.jpg',\n",
       " '016850_1.jpg',\n",
       " '007464_1.jpg',\n",
       " '015820_1.jpg',\n",
       " '017549_1.jpg',\n",
       " '006572_1.jpg',\n",
       " ...]"
      ]
     },
     "execution_count": 3,
     "metadata": {},
     "output_type": "execute_result"
    }
   ],
   "source": [
    "# dataset_path = '/home/guy/sd1tb/datasets/cp-vton'   # guyx\n",
    "dataset_path = '/data/users/gkoren2/datasets/cp-vton' # gpu15\n",
    "os.listdir(dataset_path)"
   ]
  },
  {
   "cell_type": "markdown",
   "metadata": {},
   "source": [
    "### Annotations\n",
    "\n",
    "There are no annotation for this dataset"
   ]
  },
  {
   "cell_type": "markdown",
   "metadata": {},
   "source": [
    "### images"
   ]
  },
  {
   "cell_type": "code",
   "execution_count": 4,
   "metadata": {},
   "outputs": [
    {
     "data": {
      "text/plain": [
       "14221"
      ]
     },
     "execution_count": 4,
     "metadata": {},
     "output_type": "execute_result"
    }
   ],
   "source": [
    "img_fn=[i for i in Glob(f'{dataset_path}/*.jpg',recursive=True)]\n",
    "len(img_fn)"
   ]
  },
  {
   "cell_type": "code",
   "execution_count": 5,
   "metadata": {},
   "outputs": [
    {
     "data": {
      "text/plain": [
       "(192, 256)    14221\n",
       "dtype: int64"
      ]
     },
     "execution_count": 5,
     "metadata": {},
     "output_type": "execute_result"
    }
   ],
   "source": [
    "imsz = [Image.open(im).size for im in img_fn]\n",
    "pd.Series(imsz).value_counts()\n",
    "# plt.imshow(img)"
   ]
  },
  {
   "cell_type": "markdown",
   "metadata": {},
   "source": [
    "all images have the same size"
   ]
  },
  {
   "cell_type": "code",
   "execution_count": 6,
   "metadata": {},
   "outputs": [
    {
     "data": {
      "image/png": "[encoded data removed]",
      "text/plain": [
       "<PIL.Image.Image image mode=RGB size=960x512>"
      ]
     },
     "execution_count": 6,
     "metadata": {},
     "output_type": "execute_result"
    }
   ],
   "source": [
    "imgs = [Image.open(im) for im in img_fn[:10]]\n",
    "image_grid(imgs,2,5)"
   ]
  },
  {
   "cell_type": "code",
   "execution_count": null,
   "metadata": {},
   "outputs": [],
   "source": [
    "# resize the images with a limit on each axis size, while maintaining aspect ratio\n",
    "size=(256,256)\n",
    "imgs = [Image.open(im) for im in img_fn]\n",
    "[i.thumbnail(size) for i in imgs]\n",
    "[im.size for im in imgs]"
   ]
  },
  {
   "cell_type": "markdown",
   "metadata": {},
   "source": [
    "# Dataset Class\n",
    "The goal is to prepare a dataset class and dataloader that we can use to train the VAE.\n",
    "we can use the code from the `Text2Human` repo\n",
    "\n",
    "here's another [repo](https://github.com/ihciah/deep-fashion-retrieval) that uses the datasets.\n",
    "\n",
    "and here's another repo from the authors of DeepFashion: [mmfashion](https://github.com/open-mmlab/mmfashion)\n",
    "in that repo, look at the [In_shop.py](https://github.com/open-mmlab/mmfashion/blob/master/mmfashion/datasets/In_shop.py) file\n"
   ]
  },
  {
   "cell_type": "code",
   "execution_count": null,
   "metadata": {},
   "outputs": [],
   "source": [
    "import torch\n",
    "from torchvision import transforms as T\n",
    "from torch.utils.data import Dataset, DataLoader\n",
    "from torchvision.io import read_image"
   ]
  },
  {
   "cell_type": "markdown",
   "metadata": {},
   "source": [
    "## Dataset Normalization\n",
    "in order to normalize the dataset, we could either use the pytorch official normalization statistics as derived from ImageNet (see [this discussion](https://stackoverflow.com/questions/58151507/why-pytorch-officially-use-mean-0-485-0-456-0-406-and-std-0-229-0-224-0-2)):  \n",
    "`mean=[0.485, 0.456, 0.406], std=[0.229, 0.224, 0.225])` \n",
    "\n",
    "but we might want to compute the statistics by ourselves as the images in this dataset are not that natural. they all have a clean background.\n",
    "for that, lets define the dataset class without the normalization and then compute its stats"
   ]
  },
  {
   "cell_type": "code",
   "execution_count": null,
   "metadata": {},
   "outputs": [],
   "source": [
    "trn_tfms = T.Compose([\n",
    "#     T.ToPILImage(),\n",
    "    #---------comment out data augmentation------\n",
    "    # T.ColorJitter(brightness=(0.8,1.2), \n",
    "    # contrast=(0.8,1.2), \n",
    "    # saturation=(0.8,1.2), \n",
    "    # hue=0.25),\n",
    "    # T.RandomAffine(5, translate=(0.01,0.1)),\n",
    "    #---------------------------------------------\n",
    "    T.ToTensor(),\n",
    "    # T.Normalize(mean=[0.485, 0.456, 0.406], \n",
    "    #             std=[0.229, 0.224, 0.225]),\n",
    "])\n",
    "\n",
    "val_tfms = T.Compose([\n",
    "#     T.ToPILImage(),\n",
    "    T.ToTensor(),\n",
    "    # T.Normalize(mean=[0.485, 0.456, 0.406], \n",
    "    #             std=[0.229, 0.224, 0.225]),\n",
    "])\n",
    "\n",
    "\n",
    "\n",
    "class DeepFashion(Dataset):\n",
    "    \"\"\"DeepFashion dataset.\"\"\"\n",
    "\n",
    "    def __init__(self, files, transform=None):\n",
    "        self.files = files\n",
    "        self.transform = transform\n",
    "\n",
    "    def __len__(self):\n",
    "        return len(self.files)\n",
    "\n",
    "    def __getitem__(self, ix):\n",
    "        fpath = self.files[ix]\n",
    "#         clss = fname(parent(fpath))  # todo: read the label/attributes\n",
    "        img = read_image(fpath)/255.0\n",
    "        # return a dummy label at this stage as it doesnt matter\n",
    "        return img,1\n",
    "\n",
    "    def choose(self):\n",
    "        return self[np.random.randint(len(self))]\n",
    "\n",
    "    # def collate_fn(self, batch):\n",
    "    #     imgs, classes = list(zip(*batch))\n",
    "    #     if self.transform:\n",
    "    #         imgs = [self.transform(img)[None] for img in imgs]\n",
    "    #     classes = [torch.tensor([id2int[clss]]) for clss in classes]\n",
    "    #     imgs, classes = [torch.cat(i).to(device) for i in [imgs, classes]]\n",
    "    #     return imgs, classes\n",
    "\n",
    "    def collate_fn(self, batch):\n",
    "        imgs, classes = list(zip(*batch))\n",
    "        if self.transform:\n",
    "            imgs = [self.transform(img)[None] for img in imgs]\n",
    "        return imgs\n",
    "\n",
    "\n",
    "dataset = DeepFashion(img_fn,trn_tfms)\n",
    "loader = DataLoader(dataset,batch_size=10,num_workers=0,shuffle=False)"
   ]
  },
  {
   "cell_type": "code",
   "execution_count": null,
   "metadata": {},
   "outputs": [],
   "source": [
    "batch=next(iter(loader))\n",
    "b,c,h,w=next(iter(loader))[0].shape\n",
    "print(b,c,h,w)"
   ]
  },
  {
   "cell_type": "code",
   "execution_count": null,
   "metadata": {},
   "outputs": [],
   "source": [
    "T.ToPILImage()(batch[0][1])\n"
   ]
  },
  {
   "cell_type": "markdown",
   "metadata": {},
   "source": [
    "once we have the dataset defined we can compute the stats as follows ([reference](https://discuss.pytorch.org/t/computing-the-mean-and-std-of-dataset/34949))"
   ]
  },
  {
   "cell_type": "code",
   "execution_count": null,
   "metadata": {},
   "outputs": [],
   "source": [
    "# get dataset statistics. to be used for normalizing the dataset\n",
    "# h,w=next(iter(loader))[0].shape[2:]\n",
    "mean = 0.0\n",
    "for images, _ in loader:\n",
    "    batch_samples = images.size(0) \n",
    "    images = images.view(batch_samples, images.size(1), -1)\n",
    "    mean += images.mean(2).sum(0)\n",
    "mean = mean / len(loader.dataset)\n",
    "\n",
    "var = 0.0\n",
    "for images, _ in loader:\n",
    "    batch_samples = images.size(0)\n",
    "    images = images.view(batch_samples, images.size(1), -1)\n",
    "    var += ((images - mean.unsqueeze(1))**2).sum([0,2])\n",
    "std = torch.sqrt(var / (len(loader.dataset)*h*w))\n",
    "\n",
    "\n",
    "print(f'mean:{mean},std:{std}')"
   ]
  },
  {
   "cell_type": "markdown",
   "metadata": {},
   "source": [
    "## Dataset Class definition\n",
    "now that we have the dataset statistics we can create a dataset that normalizes appropriately.\n"
   ]
  },
  {
   "cell_type": "code",
   "execution_count": null,
   "metadata": {},
   "outputs": [],
   "source": [
    "trn_tfms = T.Compose([\n",
    "    T.ToPILImage(),\n",
    "    T.Resize(256),\n",
    "    T.ToTensor(),\n",
    "    # T.Normalize(mean=[0.8323, 0.8108, 0.8040], \n",
    "    #             std=[0.2332, 0.2500, 0.2564]),\n",
    "])\n",
    "\n",
    "val_tfms = T.Compose([\n",
    "    T.ToPILImage(),\n",
    "    T.Resize(256),\n",
    "    T.ToTensor(),\n",
    "    # T.Normalize(mean=[0.8323, 0.8108, 0.8040], \n",
    "    #             std=[0.2332, 0.2500, 0.2564]),\n",
    "])\n",
    "\n",
    "class DeepFashion(Dataset):\n",
    "    \"\"\"DeepFashion dataset.\"\"\"\n",
    "\n",
    "    def __init__(self, dataset_path, split='train',transform=None):\n",
    "        self.files=[i for i in Glob(f'{dataset_path}/Img/**/*.jpg',recursive=True)] \n",
    "        # read item attributes:\n",
    "        # the attribute can be the cloth attribute or it can be viewing angle or type of item (based on the folder)\n",
    "        # in the following example, we're taking the cloth attributes (463 attributes)\n",
    "        anno_filename = os.path.join(dataset_path,'Anno','attributes','list_attr_items.txt')\n",
    "        with open(anno_filename,'r') as f:\n",
    "            attr_items=f.read().splitlines()\n",
    "        attr_items=attr_items[2:]\n",
    "        attr_items=[i.split() for i in attr_items]\n",
    "        self.attr_items = {i[0]:[int(int(a)>0) for a in i[1:]] for i in attr_items}\n",
    "        # get attributes names\n",
    "        anno_filename = os.path.join(dataset_path,'Anno','attributes','list_attr_cloth.txt')\n",
    "        with open(anno_filename,'r') as f:\n",
    "            attr_cloth=f.read().splitlines()\n",
    "        self.attr_names = attr_cloth[2:]\n",
    "\n",
    "        # split the dataset and throw the irrelevant part\n",
    "        train_fraction=0.8\n",
    "        train_size = int(train_fraction* len(self.attr_items.keys()))\n",
    "\n",
    "        if split=='train':\n",
    "            self.files = self.files[:train_size]\n",
    "        else:\n",
    "            self.files = self.files[train_size:]\n",
    "\n",
    "        self.transform = transform\n",
    "\n",
    "    def __len__(self):\n",
    "        return len(self.files)\n",
    "\n",
    "    def __getitem__(self, ix):\n",
    "        fpath = self.files[ix]\n",
    "        lbl=self.attr_items[fpath.split('/')[-2]]\n",
    "        img = read_image(fpath)/255.0\n",
    "        return img,lbl\n",
    "\n",
    "    def choose(self):\n",
    "        return self[np.random.randint(len(self))]\n",
    "\n",
    "\n",
    "    def collate_fn(self, batch):\n",
    "        imgs, attrs = list(zip(*batch))\n",
    "        if self.transform:\n",
    "            imgs = [self.transform(img)[None] for img in imgs]\n",
    "        else:\n",
    "            imgs = [img[None] for img in imgs]\n",
    "        attrs=[torch.tensor(a)[None] for a in attrs]\n",
    "        imgs,attrs = [torch.cat(i) for i in [imgs,attrs]]\n",
    "        return imgs,attrs\n",
    "\n",
    "dataset = DeepFashion(dataset_path,'train')\n",
    "loader = DataLoader(dataset,batch_size=10,num_workers=0,shuffle=False,collate_fn=dataset.collate_fn)"
   ]
  },
  {
   "cell_type": "code",
   "execution_count": null,
   "metadata": {},
   "outputs": [],
   "source": [
    "dataset.files[:10]"
   ]
  },
  {
   "cell_type": "code",
   "execution_count": null,
   "metadata": {},
   "outputs": [],
   "source": [
    "batch=next(iter(loader))\n",
    "b,c,h,w=batch[0].shape\n",
    "print(b,c,h,w)\n",
    "print(batch[1].shape)"
   ]
  },
  {
   "cell_type": "code",
   "execution_count": null,
   "metadata": {},
   "outputs": [],
   "source": [
    "T.ToPILImage()(batch[0][3])"
   ]
  },
  {
   "cell_type": "code",
   "execution_count": null,
   "metadata": {},
   "outputs": [],
   "source": [
    "batch[1][0].shape"
   ]
  },
  {
   "cell_type": "markdown",
   "metadata": {},
   "source": [
    "# Draft"
   ]
  },
  {
   "cell_type": "markdown",
   "metadata": {},
   "source": [
    "## CelebA\n",
    "this is the dataset considered as a baseline"
   ]
  },
  {
   "cell_type": "markdown",
   "metadata": {},
   "source": [
    "### explore the images"
   ]
  },
  {
   "cell_type": "code",
   "execution_count": 5,
   "metadata": {},
   "outputs": [
    {
     "data": {
      "text/plain": [
       "202599"
      ]
     },
     "execution_count": 5,
     "metadata": {},
     "output_type": "execute_result"
    }
   ],
   "source": [
    "clba_path = '/home/guy/sd1tb/datasets/CelebA/celeba/img_align_celeba'\n",
    "# clba_path = '/data/users/gkoren2/datasets/celeba/celeba/img_align_celeba'   # gpu15\n",
    "imgs_filenames=os.listdir(clba_path)\n",
    "len(imgs_filenames)"
   ]
  },
  {
   "cell_type": "code",
   "execution_count": null,
   "metadata": {},
   "outputs": [],
   "source": [
    "# extract image sizes and make sure they all at sime size\n",
    "imsz = [Image.open(os.path.join(clba_path,im)).size for im in imgs_filenames]\n",
    "np.all([s==imsz[0] for s in imsz])"
   ]
  },
  {
   "cell_type": "markdown",
   "metadata": {},
   "source": [
    "Lets check the alignment by displaying the average of the images"
   ]
  },
  {
   "cell_type": "code",
   "execution_count": null,
   "metadata": {},
   "outputs": [],
   "source": [
    "img_indxs = [i for i in range(1000)]\n",
    "avg_img = np.zeros_like(Image.open(os.path.join(clba_path,imgs_filenames[0])),dtype=np.float64)\n",
    "for i,idx in enumerate(img_indxs):\n",
    "    img=Image.open(os.path.join(clba_path,imgs_filenames[idx]))\n",
    "    avg_img+=np.asarray(img)\n",
    "avg_img = avg_img/len(img_indxs)\n",
    "Image.fromarray(np.uint8(avg_img))"
   ]
  },
  {
   "cell_type": "markdown",
   "metadata": {},
   "source": [
    "ok, we see that the images are pretty much aligned. this is something that should predict the successfulness of the VAE. "
   ]
  },
  {
   "cell_type": "code",
   "execution_count": null,
   "metadata": {},
   "outputs": [],
   "source": [
    "# to make a gif from the images:\n",
    "img_indxs = [i for i in range(1000)]\n",
    "imgs = (Image.open(os.path.join(clba_path,imgs_filenames[i])) for i in img_indxs)\n",
    "img = next(imgs)  # extract first image from iterator\n",
    "img.save(fp='celeba.gif', format='GIF', append_images=imgs,save_all=True, duration=20, loop=0)"
   ]
  },
  {
   "cell_type": "markdown",
   "metadata": {},
   "source": [
    "### load CelebA dataset class\n",
    "Lets import the dataset as it is done in the VAE s.t. we understand how to prepare `DeepFashion` dataset"
   ]
  },
  {
   "cell_type": "code",
   "execution_count": 6,
   "metadata": {},
   "outputs": [
    {
     "data": {
      "text/plain": [
       "['__add__',\n",
       " '__class__',\n",
       " '__class_getitem__',\n",
       " '__delattr__',\n",
       " '__dict__',\n",
       " '__dir__',\n",
       " '__doc__',\n",
       " '__eq__',\n",
       " '__format__',\n",
       " '__ge__',\n",
       " '__getattribute__',\n",
       " '__getitem__',\n",
       " '__gt__',\n",
       " '__hash__',\n",
       " '__init__',\n",
       " '__init_subclass__',\n",
       " '__le__',\n",
       " '__len__',\n",
       " '__lt__',\n",
       " '__module__',\n",
       " '__ne__',\n",
       " '__new__',\n",
       " '__orig_bases__',\n",
       " '__parameters__',\n",
       " '__reduce__',\n",
       " '__reduce_ex__',\n",
       " '__repr__',\n",
       " '__setattr__',\n",
       " '__sizeof__',\n",
       " '__slots__',\n",
       " '__str__',\n",
       " '__subclasshook__',\n",
       " '__weakref__',\n",
       " '_check_integrity',\n",
       " '_format_transform_repr',\n",
       " '_is_protocol',\n",
       " '_load_csv',\n",
       " '_repr_indent',\n",
       " 'attr',\n",
       " 'attr_names',\n",
       " 'base_folder',\n",
       " 'bbox',\n",
       " 'download',\n",
       " 'extra_repr',\n",
       " 'file_list',\n",
       " 'filename',\n",
       " 'identity',\n",
       " 'landmarks_align',\n",
       " 'root',\n",
       " 'split',\n",
       " 'target_transform',\n",
       " 'target_type',\n",
       " 'transform',\n",
       " 'transforms']"
      ]
     },
     "execution_count": 6,
     "metadata": {},
     "output_type": "execute_result"
    }
   ],
   "source": [
    "from torchvision.datasets import CelebA\n",
    "import torch.utils.data as data\n",
    "from torchvision import transforms as T\n",
    "# clba_path = '/data/users/gkoren2/datasets/celeba/'   # gpu15\n",
    "clba_path = '/home/guy/sd1tb/datasets/CelebA/'\n",
    "patch_size=256\n",
    "trn_tfms = T.Compose([      # copied from dataset.py \n",
    "    T.RandomHorizontalFlip(),\n",
    "    T.CenterCrop(148),\n",
    "    T.Resize(patch_size),\n",
    "    T.ToTensor(),\n",
    "    ])\n",
    "\n",
    "clba = CelebA(clba_path, split='train',transform=trn_tfms,download=False)\n",
    "\n",
    "dir(clba)\n"
   ]
  },
  {
   "cell_type": "code",
   "execution_count": null,
   "metadata": {},
   "outputs": [],
   "source": [
    "getattr(clba,'collate_fn',None)"
   ]
  },
  {
   "cell_type": "code",
   "execution_count": null,
   "metadata": {},
   "outputs": [],
   "source": [
    "clba_loader = data.DataLoader(clba,batch_size=10,num_workers=0,shuffle=False)\n",
    "clba_batch=next(iter(clba_loader))"
   ]
  },
  {
   "cell_type": "code",
   "execution_count": null,
   "metadata": {},
   "outputs": [],
   "source": [
    "print(clba_batch[0].shape)       # the images tensor\n",
    "print(clba_batch[1].shape)       # the labels (attributes) tensor\n"
   ]
  },
  {
   "cell_type": "code",
   "execution_count": 7,
   "metadata": {},
   "outputs": [
    {
     "name": "stdout",
     "output_type": "stream",
     "text": [
      "41\n"
     ]
    },
    {
     "data": {
      "text/plain": [
       "['5_o_Clock_Shadow',\n",
       " 'Arched_Eyebrows',\n",
       " 'Attractive',\n",
       " 'Bags_Under_Eyes',\n",
       " 'Bald',\n",
       " 'Bangs',\n",
       " 'Big_Lips',\n",
       " 'Big_Nose',\n",
       " 'Black_Hair',\n",
       " 'Blond_Hair',\n",
       " 'Blurry',\n",
       " 'Brown_Hair',\n",
       " 'Bushy_Eyebrows',\n",
       " 'Chubby',\n",
       " 'Double_Chin',\n",
       " 'Eyeglasses',\n",
       " 'Goatee',\n",
       " 'Gray_Hair',\n",
       " 'Heavy_Makeup',\n",
       " 'High_Cheekbones',\n",
       " 'Male',\n",
       " 'Mouth_Slightly_Open',\n",
       " 'Mustache',\n",
       " 'Narrow_Eyes',\n",
       " 'No_Beard',\n",
       " 'Oval_Face',\n",
       " 'Pale_Skin',\n",
       " 'Pointy_Nose',\n",
       " 'Receding_Hairline',\n",
       " 'Rosy_Cheeks',\n",
       " 'Sideburns',\n",
       " 'Smiling',\n",
       " 'Straight_Hair',\n",
       " 'Wavy_Hair',\n",
       " 'Wearing_Earrings',\n",
       " 'Wearing_Hat',\n",
       " 'Wearing_Lipstick',\n",
       " 'Wearing_Necklace',\n",
       " 'Wearing_Necktie',\n",
       " 'Young',\n",
       " '']"
      ]
     },
     "execution_count": 7,
     "metadata": {},
     "output_type": "execute_result"
    }
   ],
   "source": [
    "print(len(clba.attr_names))\n",
    "clba.attr_names"
   ]
  },
  {
   "cell_type": "code",
   "execution_count": null,
   "metadata": {},
   "outputs": [],
   "source": [
    "clba_batch[0].std()"
   ]
  },
  {
   "cell_type": "markdown",
   "metadata": {},
   "source": [
    "it looks like the only normalization they have applied is scaling s.t. the value of the pixels are in [0,1]. they havent normalized it to `mean=0 , stdev=1`"
   ]
  },
  {
   "cell_type": "code",
   "execution_count": null,
   "metadata": {},
   "outputs": [],
   "source": [
    "T.ToPILImage()(clba_batch[0][1])"
   ]
  },
  {
   "cell_type": "code",
   "execution_count": null,
   "metadata": {},
   "outputs": [],
   "source": [
    "clba_batch[1][0].shape"
   ]
  },
  {
   "cell_type": "code",
   "execution_count": null,
   "metadata": {},
   "outputs": [],
   "source": [
    "clba_batch[1][0]"
   ]
  },
  {
   "cell_type": "markdown",
   "metadata": {},
   "source": [
    "## DeepFashion dataset\n"
   ]
  },
  {
   "cell_type": "markdown",
   "metadata": {},
   "source": [
    "### In-Shop Clothes Retrieval\n",
    "\n",
    "- Images (Img/img.zip):   52,712 in-shop clothes images (~200,000 cross-pose/scale pairs).\n",
    "    - Images are centered and resized to 256*256;\n",
    "    - The aspect ratios of original images are kept unchanged\n",
    "- Bounding Box Annotations (Anno/list_bbox_inshop.txt)\n",
    "- Fashion Landmark Annotations (Anno/list_landmarks_inshop.txt)\n",
    "- Item Annotations (Anno/list_item_inshop.txt)\n",
    "- Description Annotations (Anno/list_description_inshop.json)\n",
    "- Attribute Annotations (Anno/attributes/list_attr_cloth.txt & Anno/attributes/list_attr_items.txt & Anno/attributes/list_color_cloth.txt)\n",
    "- Segmentation Mask Annotations (Anno/segmentation/DeepFashion_instances_train.json & Anno/segmentation/DeepFashion_instances_query.json & Anno/segmentation/DeepFashion_instances_gallery.json)\n",
    "- Dense Pose Annotations (Anno/densepose/img_iuv.zip)\n",
    "- Evaluation Partitions (Eval/list_eval_partition.txt)\n"
   ]
  },
  {
   "cell_type": "code",
   "execution_count": null,
   "metadata": {},
   "outputs": [],
   "source": [
    "dataset_path = '/data/users/gkoren2/datasets/DeepFashion/In-shop-Clothes-Retrieval/In-shop Clothes Retrieval Benchmark' # gpu15\n",
    "# benchmarks = [os.path.basename(bm) for bm in Glob(dataset_path+'/*') if os.path.isdir(bm)]\n",
    "# benchmarks\n",
    "os.listdir(dataset_path)"
   ]
  },
  {
   "cell_type": "markdown",
   "metadata": {},
   "source": [
    "#### Annotations"
   ]
  },
  {
   "cell_type": "code",
   "execution_count": null,
   "metadata": {},
   "outputs": [],
   "source": [
    "anno_filename = os.path.join(dataset_path,'Anno','list_item_inshop.txt')\n",
    "with open(anno_filename,'r') as f:\n",
    "    item_list=f.read().splitlines()\n",
    "\n",
    "len(item_list)"
   ]
  },
  {
   "cell_type": "code",
   "execution_count": null,
   "metadata": {},
   "outputs": [],
   "source": [
    "item_list[:10]"
   ]
  },
  {
   "cell_type": "code",
   "execution_count": null,
   "metadata": {},
   "outputs": [],
   "source": [
    "anno_filename = os.path.join(dataset_path,'Anno','list_description_inshop.json')\n",
    "with open(anno_filename,'r') as f:\n",
    "    item_desc = json.load(f)\n",
    "desc_df=pd.DataFrame(item_desc)"
   ]
  },
  {
   "cell_type": "code",
   "execution_count": null,
   "metadata": {},
   "outputs": [],
   "source": [
    "desc_df.head()"
   ]
  },
  {
   "cell_type": "code",
   "execution_count": null,
   "metadata": {},
   "outputs": [],
   "source": [
    "desc_df.item.value_counts()"
   ]
  },
  {
   "cell_type": "code",
   "execution_count": null,
   "metadata": {},
   "outputs": [],
   "source": [
    "desc_df.loc[desc_df['item']=='id_00000001',:]"
   ]
  },
  {
   "cell_type": "code",
   "execution_count": null,
   "metadata": {},
   "outputs": [],
   "source": [
    "anno_filename = os.path.join(dataset_path,'Anno','attributes','list_attr_cloth.txt')\n",
    "with open(anno_filename,'r') as f:\n",
    "    attr_cloth=f.read().splitlines()\n",
    "attr_cloth = attr_cloth[2:]\n",
    "len(attr_cloth)"
   ]
  },
  {
   "cell_type": "code",
   "execution_count": null,
   "metadata": {},
   "outputs": [],
   "source": [
    "attr_cloth[:10]"
   ]
  },
  {
   "cell_type": "code",
   "execution_count": null,
   "metadata": {},
   "outputs": [],
   "source": [
    "anno_filename = os.path.join(dataset_path,'Anno','attributes','list_attr_items.txt')\n",
    "with open(anno_filename,'r') as f:\n",
    "    attr_items=f.read().splitlines()\n",
    "attr_items=attr_items[2:]\n",
    "attr_items=[i.split() for i in attr_items]\n",
    "attr_items = {i[0]:[int(int(a)>0) for a in i[1:]] for i in attr_items}\n",
    "len(attr_items)"
   ]
  },
  {
   "cell_type": "code",
   "execution_count": null,
   "metadata": {},
   "outputs": [],
   "source": [
    "print(len(attr_items['id_00000013']))\n",
    "attr_items['id_00000013']"
   ]
  },
  {
   "cell_type": "markdown",
   "metadata": {},
   "source": [
    "Notes:\n",
    "1. The order of attribute labels accords with the order of attribute names;\n",
    "2. In attribute labels, \"1\" represents positive while \"-1\" represents negative, '0' represents unknown;\n",
    "3. Attribute prediction is treated as a multi-label tagging problem.\n"
   ]
  },
  {
   "cell_type": "code",
   "execution_count": null,
   "metadata": {},
   "outputs": [],
   "source": [
    "attr_item_desc={i[0]:[attr_cloth[ai] for ai in range(len(attr_cloth)) if i[ai+1]=='1'] for i in attr_items}"
   ]
  },
  {
   "cell_type": "code",
   "execution_count": null,
   "metadata": {},
   "outputs": [],
   "source": [
    "attr_item_desc['id_00000013']"
   ]
  },
  {
   "cell_type": "code",
   "execution_count": null,
   "metadata": {},
   "outputs": [],
   "source": [
    "anno_filename = os.path.join(dataset_path,'Anno','attributes','list_color_cloth.txt')\n",
    "with open(anno_filename,'r') as f:\n",
    "    color_cloth=f.read().splitlines()\n",
    "\n",
    "len(color_cloth)"
   ]
  },
  {
   "cell_type": "code",
   "execution_count": null,
   "metadata": {},
   "outputs": [],
   "source": [
    "color_cloth[:10]"
   ]
  },
  {
   "cell_type": "markdown",
   "metadata": {},
   "source": [
    "#### Eval partitions"
   ]
  },
  {
   "cell_type": "code",
   "execution_count": null,
   "metadata": {},
   "outputs": [],
   "source": [
    "eval_part_filename = os.path.join(dataset_path,'Eval','list_eval_partition.txt')\n",
    "with open(eval_part_filename,'r') as f:\n",
    "    eval_part_list=f.read().splitlines()\n",
    "eval_part_list=eval_part_list[2:]\n",
    "eval_part_list=[i.split() for i in eval_part_list]\n",
    "eval_part_list = {i[1]:i[2] for i in eval_part_list}\n"
   ]
  },
  {
   "cell_type": "code",
   "execution_count": null,
   "metadata": {},
   "outputs": [],
   "source": [
    "pd.DataFrame(eval_part_list.values()).value_counts()"
   ]
  },
  {
   "cell_type": "code",
   "execution_count": null,
   "metadata": {},
   "outputs": [],
   "source": [
    "epl0=eval_part_list[2]\n",
    "epl0.split()"
   ]
  },
  {
   "cell_type": "markdown",
   "metadata": {},
   "source": [
    "#### Images"
   ]
  },
  {
   "cell_type": "markdown",
   "metadata": {},
   "source": [
    "##### explore"
   ]
  },
  {
   "cell_type": "code",
   "execution_count": null,
   "metadata": {},
   "outputs": [],
   "source": [
    "! tree \"{os.path.join(dataset_path,'Img/img')}\" -L 2"
   ]
  },
  {
   "cell_type": "code",
   "execution_count": null,
   "metadata": {},
   "outputs": [],
   "source": [
    "img_fn=[i for i in Glob(f'{dataset_path}/Img/**/*.jpg',recursive=True)] #  if 'side' in i]\n",
    "len(img_fn)"
   ]
  },
  {
   "cell_type": "code",
   "execution_count": null,
   "metadata": {},
   "outputs": [],
   "source": [
    "# base name\n",
    "img_bn=[s.split('img')[1] for s in img_fn]\n",
    "len(img_bn)"
   ]
  },
  {
   "cell_type": "code",
   "execution_count": null,
   "metadata": {},
   "outputs": [],
   "source": [
    "[f for f in img_fn if 'id_00003321' in f]"
   ]
  },
  {
   "cell_type": "code",
   "execution_count": null,
   "metadata": {},
   "outputs": [],
   "source": [
    "! tree \"{os.path.join(os.path.dirname(dataset_path),'img_highres')}\" -L 2"
   ]
  },
  {
   "cell_type": "code",
   "execution_count": null,
   "metadata": {},
   "outputs": [],
   "source": [
    "img_hres_fn = [i for i in Glob(f\"{os.path.join(os.path.dirname(dataset_path),'img_highres')}/**/*.jpg\",recursive=True)]\n",
    "len(img_hres_fn)"
   ]
  },
  {
   "cell_type": "code",
   "execution_count": null,
   "metadata": {},
   "outputs": [],
   "source": [
    "img_hres_fn[:10]"
   ]
  },
  {
   "cell_type": "code",
   "execution_count": null,
   "metadata": {},
   "outputs": [],
   "source": [
    "img_hres_bn=[s.split('img_highres')[1] for s in img_hres_fn]\n",
    "len(img_hres_bn)"
   ]
  },
  {
   "cell_type": "code",
   "execution_count": null,
   "metadata": {},
   "outputs": [],
   "source": [
    "# comapre the names - make sure we have exact copy of each image as highres\n",
    "np.all(np.array(img_bn)==np.array(img_hres_bn))"
   ]
  },
  {
   "cell_type": "code",
   "execution_count": null,
   "metadata": {},
   "outputs": [],
   "source": [
    "# lets see an image and its highres variant\n",
    "img_id = 2345\n",
    "img = Image.open(img_fn[img_id])\n",
    "img_hres=Image.open(img_hres_fn[img_id])\n",
    "print(f'{img.size} , {img_hres.size}')\n"
   ]
  },
  {
   "cell_type": "markdown",
   "metadata": {},
   "source": [
    "we'll ignore the high res images. look only at the low res"
   ]
  },
  {
   "cell_type": "markdown",
   "metadata": {},
   "source": [
    "##### get item images"
   ]
  },
  {
   "cell_type": "code",
   "execution_count": null,
   "metadata": {},
   "outputs": [],
   "source": [
    "img_fn=[i for i in Glob(f'{dataset_path}/Img/**/*.jpg',recursive=True)] #  if 'side' in i]\n",
    "img_hres_fn = [i for i in Glob(f\"{os.path.join(os.path.dirname(dataset_path),'img_highres')}/**/*.jpg\",recursive=True)]"
   ]
  },
  {
   "cell_type": "code",
   "execution_count": null,
   "metadata": {},
   "outputs": [],
   "source": [
    "def get_item_images(item_id,hres=False):\n",
    "    img_fns=img_hres_fn if hres else img_fn\n",
    "    img_filenames = [f for f in img_fns if item_id in f]\n",
    "    if len(img_filenames)==0:\n",
    "        print(f'item {item_id} not found')\n",
    "        return None\n",
    "    else:\n",
    "        imgs = {os.path.basename(f):Image.open(f) for f in img_filenames}\n",
    "        print(f'found {len(imgs)} for item {item_id}')\n",
    "        return imgs"
   ]
  },
  {
   "cell_type": "code",
   "execution_count": null,
   "metadata": {},
   "outputs": [],
   "source": [
    "imgs = get_item_images('id_00000002',False)\n",
    "imgs"
   ]
  },
  {
   "cell_type": "code",
   "execution_count": null,
   "metadata": {},
   "outputs": [],
   "source": [
    "image_grid(list(imgs.values()),2,2)"
   ]
  },
  {
   "cell_type": "code",
   "execution_count": null,
   "metadata": {},
   "outputs": [],
   "source": [
    "# get image stats\n",
    "img_indxs = [i for i in range(len(img_fn))]\n",
    "avg_img = np.zeros_like(Image.open(img_fn[0]),dtype=np.float64)\n",
    "for i,idx in enumerate(img_indxs):\n",
    "    img=Image.open(img_fn[idx])\n",
    "    avg_img+=np.asarray(img)\n",
    "avg_img = avg_img/len(img_indxs)\n",
    "# Image.fromarray(np.uint8(avg_img))"
   ]
  },
  {
   "cell_type": "code",
   "execution_count": null,
   "metadata": {},
   "outputs": [],
   "source": [
    "len(img_fn)"
   ]
  },
  {
   "cell_type": "code",
   "execution_count": null,
   "metadata": {},
   "outputs": [],
   "source": [
    "img_fn[:10]"
   ]
  },
  {
   "cell_type": "code",
   "execution_count": null,
   "metadata": {},
   "outputs": [],
   "source": [
    "img_fn[0].split('/')[-2]"
   ]
  },
  {
   "cell_type": "code",
   "execution_count": null,
   "metadata": {},
   "outputs": [],
   "source": [
    "avg_img.shape"
   ]
  },
  {
   "cell_type": "code",
   "execution_count": null,
   "metadata": {},
   "outputs": [],
   "source": [
    "avg_img[:,:,0].mean()/255"
   ]
  },
  {
   "cell_type": "code",
   "execution_count": null,
   "metadata": {},
   "outputs": [],
   "source": [
    "ai1=avg_img.reshape([-1,3]).mean(axis=0)/255\n",
    "ai1"
   ]
  },
  {
   "cell_type": "code",
   "execution_count": null,
   "metadata": {},
   "outputs": [],
   "source": [
    "ai1-np.array([0.485, 0.456, 0.406])/np.array([0.229, 0.224, 0.225])"
   ]
  },
  {
   "cell_type": "markdown",
   "metadata": {},
   "source": [
    "### Category and Attribute Prediction\n",
    "\n",
    "- Images (Img/img.zip):  289,222 diverse clothes images. \n",
    "    - The long side of images are resized to 300;\n",
    "    - The aspect ratios of original images are kept unchanged.\n",
    "- Bounding Box Annotations (Anno/list_bbox.txt) bounding box labels. \n",
    "- Fashion Landmark Annotations (Anno/list_landmarks.txt) fashion landmark labels\n",
    "- Category Annotations (Anno/list_category_cloth.txt & Anno/list_category_img.txt) clothing category labels. \n",
    "- Attribute Annotations (Anno/list_attr_cloth.txt & Anno/list_attr_img.txt) clothing attribute labels. \n",
    "- Evaluation Partitions (Eval/list_eval_partition.txt) image names for training, validation and testing set respectively.\n"
   ]
  },
  {
   "cell_type": "code",
   "execution_count": null,
   "metadata": {},
   "outputs": [],
   "source": [
    "dataset_path = '/data/users/gkoren2/datasets/DeepFashion/Category-and-Attribute-Prediction' # gpu15\n",
    "# benchmarks = [os.path.basename(bm) for bm in Glob(dataset_path+'/*') if os.path.isdir(bm)]\n",
    "# benchmarks\n",
    "os.listdir(dataset_path)"
   ]
  },
  {
   "cell_type": "markdown",
   "metadata": {},
   "source": [
    "#### Annotations"
   ]
  },
  {
   "cell_type": "code",
   "execution_count": null,
   "metadata": {},
   "outputs": [],
   "source": []
  },
  {
   "cell_type": "markdown",
   "metadata": {},
   "source": [
    "#### Images"
   ]
  },
  {
   "cell_type": "code",
   "execution_count": null,
   "metadata": {},
   "outputs": [],
   "source": [
    "img_fn=[i for i in Glob(f'{dataset_path}/img/**/*.jpg',recursive=True)] #  if 'side' in i]\n",
    "img_hres_fn = [i for i in Glob(f\"{os.path.join(dataset_path,'img_highres')}/**/*.jpg\",recursive=True)]"
   ]
  },
  {
   "cell_type": "code",
   "execution_count": null,
   "metadata": {},
   "outputs": [],
   "source": [
    "print(len(img_fn))\n",
    "print(len(img_hres_fn))"
   ]
  },
  {
   "cell_type": "code",
   "execution_count": null,
   "metadata": {},
   "outputs": [],
   "source": [
    "img_fn[:10]"
   ]
  },
  {
   "cell_type": "code",
   "execution_count": null,
   "metadata": {},
   "outputs": [],
   "source": [
    "os.path.basename(os.path.dirname(img_fn[0]))"
   ]
  },
  {
   "cell_type": "code",
   "execution_count": null,
   "metadata": {},
   "outputs": [],
   "source": [
    "imgs=[Image.open(f) for f in img_fn[100:110]]\n",
    "image_grid(imgs,2,5)"
   ]
  },
  {
   "cell_type": "markdown",
   "metadata": {},
   "source": [
    "### Other Benchmarks"
   ]
  },
  {
   "cell_type": "code",
   "execution_count": null,
   "metadata": {},
   "outputs": [],
   "source": [
    "dataset_path = '/data/users/gkoren2/datasets/DeepFashion/In-shop-Clothes-Retrieval' # gpu15\n",
    "# dataset_path = '/home/guy/sd1tb/datasets/deep_fashion/DeepFashion' # guy-x\n",
    "benchmarks = [os.path.basename(bm) for bm in Glob(dataset_path+'/*') if os.path.isdir(bm)]\n",
    "benchmarks"
   ]
  },
  {
   "cell_type": "code",
   "execution_count": null,
   "metadata": {},
   "outputs": [],
   "source": [
    "img_fn=[i for i in Glob(f'{dataset_path}/{benchmarks[0]}/Img/**/*.jpg',recursive=True)] #  if 'side' in i]\n",
    "len(img_fn)"
   ]
  },
  {
   "cell_type": "code",
   "execution_count": null,
   "metadata": {},
   "outputs": [],
   "source": [
    "imsz = [Image.open(im).size for im in img_fn]\n",
    "df=pd.DataFrame(imsz,columns=['x','y'])\n",
    "df['new_col'] = list(zip(df.x, df.y))\n",
    "df['img_fn']=img_fn\n",
    "df['new_col'].value_counts()"
   ]
  },
  {
   "cell_type": "code",
   "execution_count": null,
   "metadata": {},
   "outputs": [],
   "source": [
    "# display the smallest image in the dataset\n",
    "# img=Image.open(df.loc[df['x']==70,'img_fn'])\n",
    "img=Image.open(df.loc[df['x']==df['x'].min(),'img_fn'].values[0])\n",
    "print(img.size)\n",
    "img"
   ]
  },
  {
   "cell_type": "code",
   "execution_count": null,
   "metadata": {},
   "outputs": [],
   "source": [
    "df['y'].hist()"
   ]
  },
  {
   "cell_type": "code",
   "execution_count": null,
   "metadata": {},
   "outputs": [],
   "source": [
    "df['x'].sort_values"
   ]
  },
  {
   "cell_type": "code",
   "execution_count": null,
   "metadata": {},
   "outputs": [],
   "source": [
    "imgs=[Image.open(m) for m in img_fn[200:225]]\n",
    "image_grid(imgs,5,5)\n"
   ]
  },
  {
   "cell_type": "code",
   "execution_count": null,
   "metadata": {},
   "outputs": [],
   "source": [
    "# show the average image \n",
    "img_indxs = [i for i in range(len(img_fn))]\n",
    "avg_img = np.zeros_like(Image.open(img_fn[0]),dtype=np.float64)\n",
    "for i,idx in enumerate(img_indxs):\n",
    "    img=Image.open(img_fn[idx])\n",
    "    avg_img+=np.asarray(img)\n",
    "avg_img = avg_img/len(img_indxs)\n",
    "Image.fromarray(np.uint8(avg_img))"
   ]
  },
  {
   "cell_type": "markdown",
   "metadata": {},
   "source": [
    "OK, the average image looks poor. it would be interesting to see whether the VAE can capture the variance in the dataset and get farther from the average image."
   ]
  },
  {
   "cell_type": "markdown",
   "metadata": {},
   "source": [
    "OK, lets start with the `In-Shop-Clothes-Retreival-Benchmark` dataset and try to find a disentangled representation using VAEs"
   ]
  },
  {
   "cell_type": "markdown",
   "metadata": {},
   "source": []
  },
  {
   "cell_type": "code",
   "execution_count": null,
   "metadata": {},
   "outputs": [],
   "source": [
    "import os.path\n",
    "\n",
    "import numpy as np\n",
    "import torch\n",
    "import torch.utils.data as data\n",
    "from torchvision.io import read_image\n",
    "from torchvision import transforms as T"
   ]
  },
  {
   "cell_type": "code",
   "execution_count": null,
   "metadata": {},
   "outputs": [],
   "source": [
    "dataset_path = '/data/users/gkoren2/datasets/DeepFashion/In-shop-Clothes-Retrieval/In-shop Clothes Retrieval Benchmark' # gpu15"
   ]
  },
  {
   "cell_type": "code",
   "execution_count": null,
   "metadata": {},
   "outputs": [],
   "source": [
    "os.listdir(dataset_path)"
   ]
  },
  {
   "cell_type": "markdown",
   "metadata": {},
   "source": [
    "things we'll need to do:\n",
    "- transform to tensor\n",
    "- normalize the dataset\n",
    "\n",
    "we wont do any further adjustments or augmentations at this stage.\n",
    "\n",
    "\n"
   ]
  }
 ],
 "metadata": {
  "kernelspec": {
   "display_name": "Python 3.9.13 ('ptvae')",
   "language": "python",
   "name": "python3"
  },
  "language_info": {
   "codemirror_mode": {
    "name": "ipython",
    "version": 3
   },
   "file_extension": ".py",
   "mimetype": "text/x-python",
   "name": "python",
   "nbconvert_exporter": "python",
   "pygments_lexer": "ipython3",
   "version": "3.9.13"
  },
  "vscode": {
   "interpreter": {
    "hash": "56681f32b047566157fb60ffac65a2814c6eb720e5ca2d0a1d28762cefafd161"
   }
  }
 },
 "nbformat": 4,
 "nbformat_minor": 2
}

{
 "cells": [
  {
   "cell_type": "markdown",
   "metadata": {},
   "source": [
    "# H&M Fashion Dataset\n",
    "a notebook to explore the [H&M Fashion dataset](https://www.kaggle.com/competitions/h-and-m-personalized-fashion-recommendations) in order to prepare a `Dataset` class and `Dataloader` \n"
   ]
  },
  {
   "cell_type": "code",
   "execution_count": 1,
   "metadata": {},
   "outputs": [
    {
     "name": "stdout",
     "output_type": "stream",
     "text": [
      "/usr/intel/bin/bash: /home/gkoren2/miniconda3/envs/ptvae/lib/libtinfo.so.6: no version information available (required by /usr/intel/bin/bash)\n",
      "/home/gkoren2/miniconda3/envs/ptvae/bin/python\n"
     ]
    }
   ],
   "source": [
    "import os\n",
    "import matplotlib.pyplot as plt\n",
    "import numpy as np\n",
    "from PIL import Image\n",
    "from tqdm.notebook import tqdm\n",
    "import pandas as pd\n",
    "from glob import glob as Glob\n",
    "import json\n",
    "%matplotlib inline\n",
    "\n",
    "!which python"
   ]
  },
  {
   "cell_type": "code",
   "execution_count": 2,
   "metadata": {},
   "outputs": [],
   "source": [
    "# option 1 to handle images \n",
    "def image_grid(imgs, rows, cols):\n",
    "    assert len(imgs) == rows*cols\n",
    "\n",
    "    w, h = imgs[0].size\n",
    "    grid = Image.new('RGB', size=(cols*w, rows*h))\n",
    "    grid_w, grid_h = grid.size\n",
    "    \n",
    "    for i, img in enumerate(imgs):\n",
    "        grid.paste(img, box=(i%cols*w, i//cols*h))\n",
    "    return grid"
   ]
  },
  {
   "cell_type": "markdown",
   "metadata": {},
   "source": [
    "# Exploration\n",
    "Description provided by the site:\n",
    "- images/ - a folder of images corresponding to each article_id; images are placed in subfolders starting with the first three digits of the article_id; note, not all article_id values have a corresponding image.\n",
    "- articles.csv - detailed metadata for each article_id available for purchase\n",
    "- customers.csv - metadata for each customer_id in dataset\n",
    "- sample_submission.csv - a sample submission file in the correct format\n",
    "- transactions_train.csv - the training data, consisting of the purchases each customer for each date, as well as additional information. Duplicate rows correspond to multiple purchases of the same item. Your task is to predict the article_ids each customer will purchase during the 7-day period immediately after the training data period."
   ]
  },
  {
   "cell_type": "code",
   "execution_count": 3,
   "metadata": {},
   "outputs": [
    {
     "data": {
      "text/plain": [
       "['customers.csv',\n",
       " 'articles.csv',\n",
       " 'transactions_train.csv',\n",
       " 'images',\n",
       " 'sample_submission.csv']"
      ]
     },
     "execution_count": 3,
     "metadata": {},
     "output_type": "execute_result"
    }
   ],
   "source": [
    "dataset_path = '/data/users/gkoren2/datasets/h-and-m-personalized-fashion-recommendation'\n",
    "\n",
    "os.listdir(dataset_path)"
   ]
  },
  {
   "cell_type": "code",
   "execution_count": null,
   "metadata": {},
   "outputs": [],
   "source": [
    "# option 2 to handle images\n",
    "import cv2\n",
    "def plot_figures(figures, nrows = 1, ncols=1,figsize=(8, 8)):\n",
    "    \"\"\"Plot a dictionary of figures.\n",
    "\n",
    "    Parameters\n",
    "    ----------\n",
    "    figures : <title, figure> dictionary\n",
    "    ncols : number of columns of subplots wanted in the display\n",
    "    nrows : number of rows of subplots wanted in the figure\n",
    "    \"\"\"\n",
    "\n",
    "    fig, axeslist = plt.subplots(ncols=ncols, nrows=nrows,figsize=figsize)\n",
    "    for ind,title in enumerate(figures):\n",
    "        axeslist.ravel()[ind].imshow(cv2.cvtColor(figures[title], cv2.COLOR_BGR2RGB))\n",
    "        axeslist.ravel()[ind].set_title(title)\n",
    "        axeslist.ravel()[ind].set_axis_off()\n",
    "    plt.tight_layout() # optional\n",
    "    \n",
    "def img_path(img):\n",
    "    return dataset_path+\"/images/\"+img\n",
    "\n",
    "def load_image(img, resized_fac = 0.1):\n",
    "    img     = cv2.imread(img_path(img))\n",
    "    w, h, _ = img.shape\n",
    "    resized = cv2.resize(img, (int(h*resized_fac), int(w*resized_fac)), interpolation = cv2.INTER_AREA)\n",
    "    return resized"
   ]
  },
  {
   "cell_type": "markdown",
   "metadata": {},
   "source": [
    "### Annotations"
   ]
  },
  {
   "cell_type": "code",
   "execution_count": 15,
   "metadata": {},
   "outputs": [
    {
     "name": "stdout",
     "output_type": "stream",
     "text": [
      "(105542, 25)\n"
     ]
    },
    {
     "data": {
      "text/html": [
       "<div>\n",
       "<style scoped>\n",
       "    .dataframe tbody tr th:only-of-type {\n",
       "        vertical-align: middle;\n",
       "    }\n",
       "\n",
       "    .dataframe tbody tr th {\n",
       "        vertical-align: top;\n",
       "    }\n",
       "\n",
       "    .dataframe thead th {\n",
       "        text-align: right;\n",
       "    }\n",
       "</style>\n",
       "<table border=\"1\" class=\"dataframe\">\n",
       "  <thead>\n",
       "    <tr style=\"text-align: right;\">\n",
       "      <th></th>\n",
       "      <th>article_id</th>\n",
       "      <th>product_code</th>\n",
       "      <th>prod_name</th>\n",
       "      <th>product_type_no</th>\n",
       "      <th>product_type_name</th>\n",
       "      <th>product_group_name</th>\n",
       "      <th>graphical_appearance_no</th>\n",
       "      <th>graphical_appearance_name</th>\n",
       "      <th>colour_group_code</th>\n",
       "      <th>colour_group_name</th>\n",
       "      <th>...</th>\n",
       "      <th>department_name</th>\n",
       "      <th>index_code</th>\n",
       "      <th>index_name</th>\n",
       "      <th>index_group_no</th>\n",
       "      <th>index_group_name</th>\n",
       "      <th>section_no</th>\n",
       "      <th>section_name</th>\n",
       "      <th>garment_group_no</th>\n",
       "      <th>garment_group_name</th>\n",
       "      <th>detail_desc</th>\n",
       "    </tr>\n",
       "  </thead>\n",
       "  <tbody>\n",
       "    <tr>\n",
       "      <th>0</th>\n",
       "      <td>108775015</td>\n",
       "      <td>108775</td>\n",
       "      <td>Strap top</td>\n",
       "      <td>253</td>\n",
       "      <td>Vest top</td>\n",
       "      <td>Garment Upper body</td>\n",
       "      <td>1010016</td>\n",
       "      <td>Solid</td>\n",
       "      <td>9</td>\n",
       "      <td>Black</td>\n",
       "      <td>...</td>\n",
       "      <td>Jersey Basic</td>\n",
       "      <td>A</td>\n",
       "      <td>Ladieswear</td>\n",
       "      <td>1</td>\n",
       "      <td>Ladieswear</td>\n",
       "      <td>16</td>\n",
       "      <td>Womens Everyday Basics</td>\n",
       "      <td>1002</td>\n",
       "      <td>Jersey Basic</td>\n",
       "      <td>Jersey top with narrow shoulder straps.</td>\n",
       "    </tr>\n",
       "    <tr>\n",
       "      <th>1</th>\n",
       "      <td>108775044</td>\n",
       "      <td>108775</td>\n",
       "      <td>Strap top</td>\n",
       "      <td>253</td>\n",
       "      <td>Vest top</td>\n",
       "      <td>Garment Upper body</td>\n",
       "      <td>1010016</td>\n",
       "      <td>Solid</td>\n",
       "      <td>10</td>\n",
       "      <td>White</td>\n",
       "      <td>...</td>\n",
       "      <td>Jersey Basic</td>\n",
       "      <td>A</td>\n",
       "      <td>Ladieswear</td>\n",
       "      <td>1</td>\n",
       "      <td>Ladieswear</td>\n",
       "      <td>16</td>\n",
       "      <td>Womens Everyday Basics</td>\n",
       "      <td>1002</td>\n",
       "      <td>Jersey Basic</td>\n",
       "      <td>Jersey top with narrow shoulder straps.</td>\n",
       "    </tr>\n",
       "    <tr>\n",
       "      <th>2</th>\n",
       "      <td>108775051</td>\n",
       "      <td>108775</td>\n",
       "      <td>Strap top (1)</td>\n",
       "      <td>253</td>\n",
       "      <td>Vest top</td>\n",
       "      <td>Garment Upper body</td>\n",
       "      <td>1010017</td>\n",
       "      <td>Stripe</td>\n",
       "      <td>11</td>\n",
       "      <td>Off White</td>\n",
       "      <td>...</td>\n",
       "      <td>Jersey Basic</td>\n",
       "      <td>A</td>\n",
       "      <td>Ladieswear</td>\n",
       "      <td>1</td>\n",
       "      <td>Ladieswear</td>\n",
       "      <td>16</td>\n",
       "      <td>Womens Everyday Basics</td>\n",
       "      <td>1002</td>\n",
       "      <td>Jersey Basic</td>\n",
       "      <td>Jersey top with narrow shoulder straps.</td>\n",
       "    </tr>\n",
       "    <tr>\n",
       "      <th>3</th>\n",
       "      <td>110065001</td>\n",
       "      <td>110065</td>\n",
       "      <td>OP T-shirt (Idro)</td>\n",
       "      <td>306</td>\n",
       "      <td>Bra</td>\n",
       "      <td>Underwear</td>\n",
       "      <td>1010016</td>\n",
       "      <td>Solid</td>\n",
       "      <td>9</td>\n",
       "      <td>Black</td>\n",
       "      <td>...</td>\n",
       "      <td>Clean Lingerie</td>\n",
       "      <td>B</td>\n",
       "      <td>Lingeries/Tights</td>\n",
       "      <td>1</td>\n",
       "      <td>Ladieswear</td>\n",
       "      <td>61</td>\n",
       "      <td>Womens Lingerie</td>\n",
       "      <td>1017</td>\n",
       "      <td>Under-, Nightwear</td>\n",
       "      <td>Microfibre T-shirt bra with underwired, moulde...</td>\n",
       "    </tr>\n",
       "    <tr>\n",
       "      <th>4</th>\n",
       "      <td>110065002</td>\n",
       "      <td>110065</td>\n",
       "      <td>OP T-shirt (Idro)</td>\n",
       "      <td>306</td>\n",
       "      <td>Bra</td>\n",
       "      <td>Underwear</td>\n",
       "      <td>1010016</td>\n",
       "      <td>Solid</td>\n",
       "      <td>10</td>\n",
       "      <td>White</td>\n",
       "      <td>...</td>\n",
       "      <td>Clean Lingerie</td>\n",
       "      <td>B</td>\n",
       "      <td>Lingeries/Tights</td>\n",
       "      <td>1</td>\n",
       "      <td>Ladieswear</td>\n",
       "      <td>61</td>\n",
       "      <td>Womens Lingerie</td>\n",
       "      <td>1017</td>\n",
       "      <td>Under-, Nightwear</td>\n",
       "      <td>Microfibre T-shirt bra with underwired, moulde...</td>\n",
       "    </tr>\n",
       "  </tbody>\n",
       "</table>\n",
       "<p>5 rows × 25 columns</p>\n",
       "</div>"
      ],
      "text/plain": [
       "   article_id  product_code          prod_name  product_type_no  \\\n",
       "0   108775015        108775          Strap top              253   \n",
       "1   108775044        108775          Strap top              253   \n",
       "2   108775051        108775      Strap top (1)              253   \n",
       "3   110065001        110065  OP T-shirt (Idro)              306   \n",
       "4   110065002        110065  OP T-shirt (Idro)              306   \n",
       "\n",
       "  product_type_name  product_group_name  graphical_appearance_no  \\\n",
       "0          Vest top  Garment Upper body                  1010016   \n",
       "1          Vest top  Garment Upper body                  1010016   \n",
       "2          Vest top  Garment Upper body                  1010017   \n",
       "3               Bra           Underwear                  1010016   \n",
       "4               Bra           Underwear                  1010016   \n",
       "\n",
       "  graphical_appearance_name  colour_group_code colour_group_name  ...  \\\n",
       "0                     Solid                  9             Black  ...   \n",
       "1                     Solid                 10             White  ...   \n",
       "2                    Stripe                 11         Off White  ...   \n",
       "3                     Solid                  9             Black  ...   \n",
       "4                     Solid                 10             White  ...   \n",
       "\n",
       "   department_name index_code        index_name index_group_no  \\\n",
       "0     Jersey Basic          A        Ladieswear              1   \n",
       "1     Jersey Basic          A        Ladieswear              1   \n",
       "2     Jersey Basic          A        Ladieswear              1   \n",
       "3   Clean Lingerie          B  Lingeries/Tights              1   \n",
       "4   Clean Lingerie          B  Lingeries/Tights              1   \n",
       "\n",
       "   index_group_name section_no            section_name garment_group_no  \\\n",
       "0        Ladieswear         16  Womens Everyday Basics             1002   \n",
       "1        Ladieswear         16  Womens Everyday Basics             1002   \n",
       "2        Ladieswear         16  Womens Everyday Basics             1002   \n",
       "3        Ladieswear         61         Womens Lingerie             1017   \n",
       "4        Ladieswear         61         Womens Lingerie             1017   \n",
       "\n",
       "   garment_group_name                                        detail_desc  \n",
       "0        Jersey Basic            Jersey top with narrow shoulder straps.  \n",
       "1        Jersey Basic            Jersey top with narrow shoulder straps.  \n",
       "2        Jersey Basic            Jersey top with narrow shoulder straps.  \n",
       "3   Under-, Nightwear  Microfibre T-shirt bra with underwired, moulde...  \n",
       "4   Under-, Nightwear  Microfibre T-shirt bra with underwired, moulde...  \n",
       "\n",
       "[5 rows x 25 columns]"
      ]
     },
     "execution_count": 15,
     "metadata": {},
     "output_type": "execute_result"
    }
   ],
   "source": [
    "adf = pd.read_csv(dataset_path + \"/articles.csv\",on_bad_lines='skip')\n",
    "# df['image'] = df.apply(lambda row: str(row['id']) + \".jpg\", axis=1)\n",
    "# df = df.reset_index(drop=True)\n",
    "print(adf.shape)\n",
    "adf.head()"
   ]
  },
  {
   "cell_type": "code",
   "execution_count": 16,
   "metadata": {},
   "outputs": [
    {
     "data": {
      "text/plain": [
       "Index(['article_id', 'product_code', 'prod_name', 'product_type_no',\n",
       "       'product_type_name', 'product_group_name', 'graphical_appearance_no',\n",
       "       'graphical_appearance_name', 'colour_group_code', 'colour_group_name',\n",
       "       'perceived_colour_value_id', 'perceived_colour_value_name',\n",
       "       'perceived_colour_master_id', 'perceived_colour_master_name',\n",
       "       'department_no', 'department_name', 'index_code', 'index_name',\n",
       "       'index_group_no', 'index_group_name', 'section_no', 'section_name',\n",
       "       'garment_group_no', 'garment_group_name', 'detail_desc'],\n",
       "      dtype='object')"
      ]
     },
     "execution_count": 16,
     "metadata": {},
     "output_type": "execute_result"
    }
   ],
   "source": [
    "adf.columns"
   ]
  },
  {
   "cell_type": "code",
   "execution_count": 5,
   "metadata": {},
   "outputs": [
    {
     "data": {
      "text/plain": [
       "{'article_id': 105542,\n",
       " 'product_code': 47224,\n",
       " 'prod_name': 45875,\n",
       " 'product_type_no': 132,\n",
       " 'product_type_name': 131,\n",
       " 'product_group_name': 19,\n",
       " 'graphical_appearance_no': 30,\n",
       " 'graphical_appearance_name': 30,\n",
       " 'colour_group_code': 50,\n",
       " 'colour_group_name': 50,\n",
       " 'perceived_colour_value_id': 8,\n",
       " 'perceived_colour_value_name': 8,\n",
       " 'perceived_colour_master_id': 20,\n",
       " 'perceived_colour_master_name': 20,\n",
       " 'department_no': 299,\n",
       " 'department_name': 250,\n",
       " 'index_code': 10,\n",
       " 'index_name': 10,\n",
       " 'index_group_no': 5,\n",
       " 'index_group_name': 5,\n",
       " 'section_no': 57,\n",
       " 'section_name': 56,\n",
       " 'garment_group_no': 21,\n",
       " 'garment_group_name': 21,\n",
       " 'detail_desc': 43404}"
      ]
     },
     "execution_count": 5,
     "metadata": {},
     "output_type": "execute_result"
    }
   ],
   "source": [
    "# measure how many unique values in each column:\n",
    "{c:len(adf[c].value_counts()) for c in adf.columns}"
   ]
  },
  {
   "cell_type": "code",
   "execution_count": 18,
   "metadata": {},
   "outputs": [
    {
     "data": {
      "text/plain": [
       "Black              22585\n",
       "Blue               18469\n",
       "White              12665\n",
       "Pink                9403\n",
       "Grey                8924\n",
       "Red                 5878\n",
       "Beige               5657\n",
       "Green               3526\n",
       "Khaki green         3181\n",
       "Yellow              3121\n",
       "Orange              2734\n",
       "Brown               2269\n",
       "Metal               2180\n",
       "Turquoise           1829\n",
       "Mole                1223\n",
       "Lilac Purple        1100\n",
       "Unknown              685\n",
       "undefined            105\n",
       "Yellowish Green        5\n",
       "Bluish Green           3\n",
       "Name: perceived_colour_master_name, dtype: int64"
      ]
     },
     "execution_count": 18,
     "metadata": {},
     "output_type": "execute_result"
    }
   ],
   "source": [
    "adf['perceived_colour_master_name'].value_counts()"
   ]
  },
  {
   "cell_type": "code",
   "execution_count": 20,
   "metadata": {},
   "outputs": [
    {
     "data": {
      "text/plain": [
       "Dark            42706\n",
       "Dusty Light     22152\n",
       "Light           15739\n",
       "Medium Dusty    12630\n",
       "Bright           6471\n",
       "Medium           5711\n",
       "Undefined         105\n",
       "Unknown            28\n",
       "Name: perceived_colour_value_name, dtype: int64"
      ]
     },
     "execution_count": 20,
     "metadata": {},
     "output_type": "execute_result"
    }
   ],
   "source": [
    "adf['perceived_colour_value_name'].value_counts()"
   ]
  },
  {
   "cell_type": "code",
   "execution_count": 21,
   "metadata": {},
   "outputs": [
    {
     "data": {
      "text/plain": [
       "Black              22670\n",
       "Dark Blue          12171\n",
       "White               9542\n",
       "Light Pink          5811\n",
       "Grey                4487\n",
       "Light Beige         3356\n",
       "Blue                3308\n",
       "Red                 3056\n",
       "Light Blue          3012\n",
       "Greenish Khaki      2767\n",
       "Dark Grey           2731\n",
       "Off White           2726\n",
       "Beige               2712\n",
       "Dark Red            2340\n",
       "Dark Green          2106\n",
       "Light Grey          2105\n",
       "Pink                2063\n",
       "Yellow              1645\n",
       "Light Orange        1520\n",
       "Yellowish Brown     1471\n",
       "Gold                1377\n",
       "Dark Beige          1084\n",
       "Light Turquoise     1027\n",
       "Light Yellow         984\n",
       "Dark Orange          886\n",
       "Dark Pink            818\n",
       "Green                815\n",
       "Orange               779\n",
       "Other Pink           750\n",
       "Silver               709\n",
       "Light Green          681\n",
       "Dark Yellow          574\n",
       "Light Purple         553\n",
       "Dark Turquoise       473\n",
       "Turquoise            435\n",
       "Dark Purple          315\n",
       "Light Red            285\n",
       "Greyish Beige        226\n",
       "Other Yellow         225\n",
       "Purple               182\n",
       "Other Orange         153\n",
       "Other Green          129\n",
       "Other Red            114\n",
       "Other                105\n",
       "Bronze/Copper         94\n",
       "Other Blue            51\n",
       "Other Purple          46\n",
       "Transparent           31\n",
       "Unknown               28\n",
       "Other Turquoise       14\n",
       "Name: colour_group_name, dtype: int64"
      ]
     },
     "execution_count": 21,
     "metadata": {},
     "output_type": "execute_result"
    }
   ],
   "source": [
    "adf['colour_group_name'].value_counts()"
   ]
  },
  {
   "cell_type": "code",
   "execution_count": 19,
   "metadata": {},
   "outputs": [
    {
     "data": {
      "text/plain": [
       "Solid                  49747\n",
       "All over pattern       17165\n",
       "Melange                 5938\n",
       "Stripe                  4990\n",
       "Denim                   4842\n",
       "Front print             3215\n",
       "Placement print         3098\n",
       "Check                   2178\n",
       "Colour blocking         1830\n",
       "Lace                    1513\n",
       "Other structure         1502\n",
       "Application/3D          1341\n",
       "Embroidery              1165\n",
       "Mixed solid/pattern     1132\n",
       "Glittering/Metallic      958\n",
       "Jacquard                 830\n",
       "Sequin                   806\n",
       "Dot                      681\n",
       "Treatment                586\n",
       "Other pattern            515\n",
       "Contrast                 376\n",
       "Metallic                 346\n",
       "Chambray                 322\n",
       "Slub                     153\n",
       "Transparent               86\n",
       "Mesh                      86\n",
       "Neps                      66\n",
       "Unknown                   52\n",
       "Argyle                    15\n",
       "Hologram                   8\n",
       "Name: graphical_appearance_name, dtype: int64"
      ]
     },
     "execution_count": 19,
     "metadata": {},
     "output_type": "execute_result"
    }
   ],
   "source": [
    "adf['graphical_appearance_name'].value_counts()"
   ]
  },
  {
   "cell_type": "code",
   "execution_count": 22,
   "metadata": {},
   "outputs": [
    {
     "data": {
      "text/plain": [
       "Garment Upper body       42741\n",
       "Garment Lower body       19812\n",
       "Garment Full body        13292\n",
       "Accessories              11158\n",
       "Underwear                 5490\n",
       "Shoes                     5283\n",
       "Swimwear                  3127\n",
       "Socks & Tights            2442\n",
       "Nightwear                 1899\n",
       "Unknown                    121\n",
       "Underwear/nightwear         54\n",
       "Cosmetic                    49\n",
       "Bags                        25\n",
       "Items                       17\n",
       "Furniture                   13\n",
       "Garment and Shoe care        9\n",
       "Stationery                   5\n",
       "Interior textile             3\n",
       "Fun                          2\n",
       "Name: product_group_name, dtype: int64"
      ]
     },
     "execution_count": 22,
     "metadata": {},
     "output_type": "execute_result"
    }
   ],
   "source": [
    "adf['product_group_name'].value_counts()"
   ]
  },
  {
   "cell_type": "code",
   "execution_count": null,
   "metadata": {},
   "outputs": [],
   "source": []
  },
  {
   "cell_type": "code",
   "execution_count": 9,
   "metadata": {},
   "outputs": [
    {
     "name": "stdout",
     "output_type": "stream",
     "text": [
      "(1371980, 7)\n"
     ]
    },
    {
     "data": {
      "text/html": [
       "<div>\n",
       "<style scoped>\n",
       "    .dataframe tbody tr th:only-of-type {\n",
       "        vertical-align: middle;\n",
       "    }\n",
       "\n",
       "    .dataframe tbody tr th {\n",
       "        vertical-align: top;\n",
       "    }\n",
       "\n",
       "    .dataframe thead th {\n",
       "        text-align: right;\n",
       "    }\n",
       "</style>\n",
       "<table border=\"1\" class=\"dataframe\">\n",
       "  <thead>\n",
       "    <tr style=\"text-align: right;\">\n",
       "      <th></th>\n",
       "      <th>customer_id</th>\n",
       "      <th>FN</th>\n",
       "      <th>Active</th>\n",
       "      <th>club_member_status</th>\n",
       "      <th>fashion_news_frequency</th>\n",
       "      <th>age</th>\n",
       "      <th>postal_code</th>\n",
       "    </tr>\n",
       "  </thead>\n",
       "  <tbody>\n",
       "    <tr>\n",
       "      <th>0</th>\n",
       "      <td>00000dbacae5abe5e23885899a1fa44253a17956c6d1c3...</td>\n",
       "      <td>NaN</td>\n",
       "      <td>NaN</td>\n",
       "      <td>ACTIVE</td>\n",
       "      <td>NONE</td>\n",
       "      <td>49.0</td>\n",
       "      <td>52043ee2162cf5aa7ee79974281641c6f11a68d276429a...</td>\n",
       "    </tr>\n",
       "    <tr>\n",
       "      <th>1</th>\n",
       "      <td>0000423b00ade91418cceaf3b26c6af3dd342b51fd051e...</td>\n",
       "      <td>NaN</td>\n",
       "      <td>NaN</td>\n",
       "      <td>ACTIVE</td>\n",
       "      <td>NONE</td>\n",
       "      <td>25.0</td>\n",
       "      <td>2973abc54daa8a5f8ccfe9362140c63247c5eee03f1d93...</td>\n",
       "    </tr>\n",
       "    <tr>\n",
       "      <th>2</th>\n",
       "      <td>000058a12d5b43e67d225668fa1f8d618c13dc232df0ca...</td>\n",
       "      <td>NaN</td>\n",
       "      <td>NaN</td>\n",
       "      <td>ACTIVE</td>\n",
       "      <td>NONE</td>\n",
       "      <td>24.0</td>\n",
       "      <td>64f17e6a330a85798e4998f62d0930d14db8db1c054af6...</td>\n",
       "    </tr>\n",
       "    <tr>\n",
       "      <th>3</th>\n",
       "      <td>00005ca1c9ed5f5146b52ac8639a40ca9d57aeff4d1bd2...</td>\n",
       "      <td>NaN</td>\n",
       "      <td>NaN</td>\n",
       "      <td>ACTIVE</td>\n",
       "      <td>NONE</td>\n",
       "      <td>54.0</td>\n",
       "      <td>5d36574f52495e81f019b680c843c443bd343d5ca5b1c2...</td>\n",
       "    </tr>\n",
       "    <tr>\n",
       "      <th>4</th>\n",
       "      <td>00006413d8573cd20ed7128e53b7b13819fe5cfc2d801f...</td>\n",
       "      <td>1.0</td>\n",
       "      <td>1.0</td>\n",
       "      <td>ACTIVE</td>\n",
       "      <td>Regularly</td>\n",
       "      <td>52.0</td>\n",
       "      <td>25fa5ddee9aac01b35208d01736e57942317d756b32ddd...</td>\n",
       "    </tr>\n",
       "    <tr>\n",
       "      <th>5</th>\n",
       "      <td>000064249685c11552da43ef22a5030f35a147f723d5b0...</td>\n",
       "      <td>NaN</td>\n",
       "      <td>NaN</td>\n",
       "      <td>NaN</td>\n",
       "      <td>NaN</td>\n",
       "      <td>NaN</td>\n",
       "      <td>2c29ae653a9282cce4151bd87643c907644e09541abc28...</td>\n",
       "    </tr>\n",
       "    <tr>\n",
       "      <th>6</th>\n",
       "      <td>0000757967448a6cb83efb3ea7a3fb9d418ac7adf2379d...</td>\n",
       "      <td>NaN</td>\n",
       "      <td>NaN</td>\n",
       "      <td>ACTIVE</td>\n",
       "      <td>NONE</td>\n",
       "      <td>20.0</td>\n",
       "      <td>fe7b8e2b3fafb89ca90db17ffeeae0fd29b795d803f749...</td>\n",
       "    </tr>\n",
       "    <tr>\n",
       "      <th>7</th>\n",
       "      <td>00007d2de826758b65a93dd24ce629ed66842531df6699...</td>\n",
       "      <td>1.0</td>\n",
       "      <td>1.0</td>\n",
       "      <td>ACTIVE</td>\n",
       "      <td>Regularly</td>\n",
       "      <td>32.0</td>\n",
       "      <td>8d6f45050876d059c830a0fe63f1a4c022de279bb68ce3...</td>\n",
       "    </tr>\n",
       "    <tr>\n",
       "      <th>8</th>\n",
       "      <td>00007e8d4e54114b5b2a9b51586325a8d0fa74ea23ef77...</td>\n",
       "      <td>NaN</td>\n",
       "      <td>NaN</td>\n",
       "      <td>ACTIVE</td>\n",
       "      <td>NONE</td>\n",
       "      <td>20.0</td>\n",
       "      <td>2c29ae653a9282cce4151bd87643c907644e09541abc28...</td>\n",
       "    </tr>\n",
       "    <tr>\n",
       "      <th>9</th>\n",
       "      <td>00008469a21b50b3d147c97135e25b4201a8c58997f787...</td>\n",
       "      <td>NaN</td>\n",
       "      <td>NaN</td>\n",
       "      <td>ACTIVE</td>\n",
       "      <td>NONE</td>\n",
       "      <td>20.0</td>\n",
       "      <td>2c29ae653a9282cce4151bd87643c907644e09541abc28...</td>\n",
       "    </tr>\n",
       "  </tbody>\n",
       "</table>\n",
       "</div>"
      ],
      "text/plain": [
       "                                         customer_id   FN  Active  \\\n",
       "0  00000dbacae5abe5e23885899a1fa44253a17956c6d1c3...  NaN     NaN   \n",
       "1  0000423b00ade91418cceaf3b26c6af3dd342b51fd051e...  NaN     NaN   \n",
       "2  000058a12d5b43e67d225668fa1f8d618c13dc232df0ca...  NaN     NaN   \n",
       "3  00005ca1c9ed5f5146b52ac8639a40ca9d57aeff4d1bd2...  NaN     NaN   \n",
       "4  00006413d8573cd20ed7128e53b7b13819fe5cfc2d801f...  1.0     1.0   \n",
       "5  000064249685c11552da43ef22a5030f35a147f723d5b0...  NaN     NaN   \n",
       "6  0000757967448a6cb83efb3ea7a3fb9d418ac7adf2379d...  NaN     NaN   \n",
       "7  00007d2de826758b65a93dd24ce629ed66842531df6699...  1.0     1.0   \n",
       "8  00007e8d4e54114b5b2a9b51586325a8d0fa74ea23ef77...  NaN     NaN   \n",
       "9  00008469a21b50b3d147c97135e25b4201a8c58997f787...  NaN     NaN   \n",
       "\n",
       "  club_member_status fashion_news_frequency   age  \\\n",
       "0             ACTIVE                   NONE  49.0   \n",
       "1             ACTIVE                   NONE  25.0   \n",
       "2             ACTIVE                   NONE  24.0   \n",
       "3             ACTIVE                   NONE  54.0   \n",
       "4             ACTIVE              Regularly  52.0   \n",
       "5                NaN                    NaN   NaN   \n",
       "6             ACTIVE                   NONE  20.0   \n",
       "7             ACTIVE              Regularly  32.0   \n",
       "8             ACTIVE                   NONE  20.0   \n",
       "9             ACTIVE                   NONE  20.0   \n",
       "\n",
       "                                         postal_code  \n",
       "0  52043ee2162cf5aa7ee79974281641c6f11a68d276429a...  \n",
       "1  2973abc54daa8a5f8ccfe9362140c63247c5eee03f1d93...  \n",
       "2  64f17e6a330a85798e4998f62d0930d14db8db1c054af6...  \n",
       "3  5d36574f52495e81f019b680c843c443bd343d5ca5b1c2...  \n",
       "4  25fa5ddee9aac01b35208d01736e57942317d756b32ddd...  \n",
       "5  2c29ae653a9282cce4151bd87643c907644e09541abc28...  \n",
       "6  fe7b8e2b3fafb89ca90db17ffeeae0fd29b795d803f749...  \n",
       "7  8d6f45050876d059c830a0fe63f1a4c022de279bb68ce3...  \n",
       "8  2c29ae653a9282cce4151bd87643c907644e09541abc28...  \n",
       "9  2c29ae653a9282cce4151bd87643c907644e09541abc28...  "
      ]
     },
     "execution_count": 9,
     "metadata": {},
     "output_type": "execute_result"
    }
   ],
   "source": [
    "cdf = pd.read_csv(dataset_path + \"/customers.csv\",on_bad_lines='skip')\n",
    "# df['image'] = df.apply(lambda row: str(row['id']) + \".jpg\", axis=1)\n",
    "# df = df.reset_index(drop=True)\n",
    "print(cdf.shape)\n",
    "cdf.head(10)"
   ]
  },
  {
   "cell_type": "code",
   "execution_count": 11,
   "metadata": {},
   "outputs": [
    {
     "name": "stdout",
     "output_type": "stream",
     "text": [
      "(31788324, 5)\n"
     ]
    },
    {
     "data": {
      "text/html": [
       "<div>\n",
       "<style scoped>\n",
       "    .dataframe tbody tr th:only-of-type {\n",
       "        vertical-align: middle;\n",
       "    }\n",
       "\n",
       "    .dataframe tbody tr th {\n",
       "        vertical-align: top;\n",
       "    }\n",
       "\n",
       "    .dataframe thead th {\n",
       "        text-align: right;\n",
       "    }\n",
       "</style>\n",
       "<table border=\"1\" class=\"dataframe\">\n",
       "  <thead>\n",
       "    <tr style=\"text-align: right;\">\n",
       "      <th></th>\n",
       "      <th>t_dat</th>\n",
       "      <th>customer_id</th>\n",
       "      <th>article_id</th>\n",
       "      <th>price</th>\n",
       "      <th>sales_channel_id</th>\n",
       "    </tr>\n",
       "  </thead>\n",
       "  <tbody>\n",
       "    <tr>\n",
       "      <th>0</th>\n",
       "      <td>2018-09-20</td>\n",
       "      <td>000058a12d5b43e67d225668fa1f8d618c13dc232df0ca...</td>\n",
       "      <td>663713001</td>\n",
       "      <td>0.050831</td>\n",
       "      <td>2</td>\n",
       "    </tr>\n",
       "    <tr>\n",
       "      <th>1</th>\n",
       "      <td>2018-09-20</td>\n",
       "      <td>000058a12d5b43e67d225668fa1f8d618c13dc232df0ca...</td>\n",
       "      <td>541518023</td>\n",
       "      <td>0.030492</td>\n",
       "      <td>2</td>\n",
       "    </tr>\n",
       "    <tr>\n",
       "      <th>2</th>\n",
       "      <td>2018-09-20</td>\n",
       "      <td>00007d2de826758b65a93dd24ce629ed66842531df6699...</td>\n",
       "      <td>505221004</td>\n",
       "      <td>0.015237</td>\n",
       "      <td>2</td>\n",
       "    </tr>\n",
       "    <tr>\n",
       "      <th>3</th>\n",
       "      <td>2018-09-20</td>\n",
       "      <td>00007d2de826758b65a93dd24ce629ed66842531df6699...</td>\n",
       "      <td>685687003</td>\n",
       "      <td>0.016932</td>\n",
       "      <td>2</td>\n",
       "    </tr>\n",
       "    <tr>\n",
       "      <th>4</th>\n",
       "      <td>2018-09-20</td>\n",
       "      <td>00007d2de826758b65a93dd24ce629ed66842531df6699...</td>\n",
       "      <td>685687004</td>\n",
       "      <td>0.016932</td>\n",
       "      <td>2</td>\n",
       "    </tr>\n",
       "  </tbody>\n",
       "</table>\n",
       "</div>"
      ],
      "text/plain": [
       "        t_dat                                        customer_id  article_id  \\\n",
       "0  2018-09-20  000058a12d5b43e67d225668fa1f8d618c13dc232df0ca...   663713001   \n",
       "1  2018-09-20  000058a12d5b43e67d225668fa1f8d618c13dc232df0ca...   541518023   \n",
       "2  2018-09-20  00007d2de826758b65a93dd24ce629ed66842531df6699...   505221004   \n",
       "3  2018-09-20  00007d2de826758b65a93dd24ce629ed66842531df6699...   685687003   \n",
       "4  2018-09-20  00007d2de826758b65a93dd24ce629ed66842531df6699...   685687004   \n",
       "\n",
       "      price  sales_channel_id  \n",
       "0  0.050831                 2  \n",
       "1  0.030492                 2  \n",
       "2  0.015237                 2  \n",
       "3  0.016932                 2  \n",
       "4  0.016932                 2  "
      ]
     },
     "execution_count": 11,
     "metadata": {},
     "output_type": "execute_result"
    }
   ],
   "source": [
    "trdf = pd.read_csv(dataset_path + \"/transactions_train.csv\",on_bad_lines='skip')\n",
    "# df['image'] = df.apply(lambda row: str(row['id']) + \".jpg\", axis=1)\n",
    "# df = df.reset_index(drop=True)\n",
    "print(trdf.shape)\n",
    "trdf.head()"
   ]
  },
  {
   "cell_type": "markdown",
   "metadata": {},
   "source": [
    "### images"
   ]
  },
  {
   "cell_type": "code",
   "execution_count": 4,
   "metadata": {},
   "outputs": [
    {
     "data": {
      "text/plain": [
       "105100"
      ]
     },
     "execution_count": 4,
     "metadata": {},
     "output_type": "execute_result"
    }
   ],
   "source": [
    "img_fn=[i for i in Glob(f'{dataset_path}/images/**/*.jpg',recursive=True)]\n",
    "len(img_fn)"
   ]
  },
  {
   "cell_type": "code",
   "execution_count": 5,
   "metadata": {},
   "outputs": [],
   "source": [
    "imsz = [Image.open(im).size for im in img_fn]\n",
    "pd.Series(imsz).value_counts()\n",
    "# plt.imshow(img)"
   ]
  },
  {
   "cell_type": "code",
   "execution_count": 6,
   "metadata": {},
   "outputs": [
    {
     "data": {
      "text/plain": [
       "(1166, 1750)    93377\n",
       "(1167, 1750)      217\n",
       "(1166, 1749)       51\n",
       "(1352, 1750)       21\n",
       "(1300, 1750)       20\n",
       "                ...  \n",
       "(1949, 1749)        1\n",
       "(547, 1750)         1\n",
       "(2822, 1750)        1\n",
       "(2918, 1749)        1\n",
       "(1956, 1750)        1\n",
       "Length: 2804, dtype: int64"
      ]
     },
     "execution_count": 6,
     "metadata": {},
     "output_type": "execute_result"
    }
   ],
   "source": []
  },
  {
   "cell_type": "code",
   "execution_count": null,
   "metadata": {},
   "outputs": [],
   "source": [
    "# find image with a given size\n",
    "im=[img_fn[i] for i in range(len(img_fn)) if imsz[i] == (480,640) ]\n",
    "Image.open(im[0])"
   ]
  },
  {
   "cell_type": "code",
   "execution_count": 7,
   "metadata": {},
   "outputs": [
    {
     "data": {
      "text/plain": [
       "['/data/users/gkoren2/datasets/h-and-m-personalized-fashion-recommendation/images/026/0265071013.jpg',\n",
       " '/data/users/gkoren2/datasets/h-and-m-personalized-fashion-recommendation/images/026/0266873001.jpg',\n",
       " '/data/users/gkoren2/datasets/h-and-m-personalized-fashion-recommendation/images/026/0262277009.jpg',\n",
       " '/data/users/gkoren2/datasets/h-and-m-personalized-fashion-recommendation/images/026/0262277026.jpg',\n",
       " '/data/users/gkoren2/datasets/h-and-m-personalized-fashion-recommendation/images/026/0265071020.jpg',\n",
       " '/data/users/gkoren2/datasets/h-and-m-personalized-fashion-recommendation/images/026/0261606001.jpg',\n",
       " '/data/users/gkoren2/datasets/h-and-m-personalized-fashion-recommendation/images/026/0268450035.jpg',\n",
       " '/data/users/gkoren2/datasets/h-and-m-personalized-fashion-recommendation/images/026/0266875012.jpg',\n",
       " '/data/users/gkoren2/datasets/h-and-m-personalized-fashion-recommendation/images/026/0269342021.jpg',\n",
       " '/data/users/gkoren2/datasets/h-and-m-personalized-fashion-recommendation/images/026/0265071028.jpg']"
      ]
     },
     "execution_count": 7,
     "metadata": {},
     "output_type": "execute_result"
    }
   ],
   "source": [
    "img_fn[:10]"
   ]
  },
  {
   "cell_type": "code",
   "execution_count": 12,
   "metadata": {},
   "outputs": [
    {
     "data": {
      "text/plain": [
       "[(171, 256),\n",
       " (171, 256),\n",
       " (171, 256),\n",
       " (171, 256),\n",
       " (171, 256),\n",
       " (171, 256),\n",
       " (171, 256),\n",
       " (171, 256),\n",
       " (171, 256),\n",
       " (171, 256)]"
      ]
     },
     "execution_count": 12,
     "metadata": {},
     "output_type": "execute_result"
    }
   ],
   "source": [
    "# resize the images with a limit on each axis size, while maintaining aspect ratio\n",
    "size=(256,256)\n",
    "imgs = [Image.open(im) for im in img_fn[100:110]]\n",
    "[i.thumbnail(size) for i in imgs]\n",
    "[im.size for im in imgs]"
   ]
  },
  {
   "cell_type": "code",
   "execution_count": 13,
   "metadata": {},
   "outputs": [
    {
     "data": {
      "image/png": "[encoded data removed]",
      "text/plain": [
       "<PIL.Image.Image image mode=RGB size=855x512>"
      ]
     },
     "execution_count": 13,
     "metadata": {},
     "output_type": "execute_result"
    }
   ],
   "source": [
    "image_grid(imgs,2,5)"
   ]
  },
  {
   "cell_type": "code",
   "execution_count": null,
   "metadata": {},
   "outputs": [],
   "source": [
    "# generation of a dictionary of (title, images)\n",
    "figures = {'im'+str(i): load_image(row.image) for i, row in df.sample(6).iterrows()}\n",
    "# plot of the images in a figure, with 2 rows and 3 columns\n",
    "plot_figures(figures, 2, 3)"
   ]
  },
  {
   "cell_type": "markdown",
   "metadata": {},
   "source": [
    "# Dataset Class\n",
    "The goal is to prepare a dataset class and dataloader that we can use to train the VAE.\n",
    "we can use the code from the `Text2Human` repo\n",
    "\n",
    "here's another [repo](https://github.com/ihciah/deep-fashion-retrieval) that uses the datasets.\n",
    "\n",
    "and here's another repo from the authors of DeepFashion: [mmfashion](https://github.com/open-mmlab/mmfashion)\n",
    "in that repo, look at the [In_shop.py](https://github.com/open-mmlab/mmfashion/blob/master/mmfashion/datasets/In_shop.py) file\n"
   ]
  },
  {
   "cell_type": "code",
   "execution_count": null,
   "metadata": {},
   "outputs": [],
   "source": [
    "import torch\n",
    "from torchvision import transforms as T\n",
    "from torch.utils.data import Dataset, DataLoader\n",
    "from torchvision.io import read_image"
   ]
  },
  {
   "cell_type": "markdown",
   "metadata": {},
   "source": [
    "## Dataset Normalization\n",
    "in order to normalize the dataset, we could either use the pytorch official normalization statistics as derived from ImageNet (see [this discussion](https://stackoverflow.com/questions/58151507/why-pytorch-officially-use-mean-0-485-0-456-0-406-and-std-0-229-0-224-0-2)):  \n",
    "`mean=[0.485, 0.456, 0.406], std=[0.229, 0.224, 0.225])` \n",
    "\n",
    "but we might want to compute the statistics by ourselves as the images in this dataset are not that natural. they all have a clean background.\n",
    "for that, lets define the dataset class without the normalization and then compute its stats"
   ]
  },
  {
   "cell_type": "code",
   "execution_count": null,
   "metadata": {},
   "outputs": [],
   "source": [
    "trn_tfms = T.Compose([\n",
    "#     T.ToPILImage(),\n",
    "    #---------comment out data augmentation------\n",
    "    # T.ColorJitter(brightness=(0.8,1.2), \n",
    "    # contrast=(0.8,1.2), \n",
    "    # saturation=(0.8,1.2), \n",
    "    # hue=0.25),\n",
    "    # T.RandomAffine(5, translate=(0.01,0.1)),\n",
    "    #---------------------------------------------\n",
    "    T.ToTensor(),\n",
    "    # T.Normalize(mean=[0.485, 0.456, 0.406], \n",
    "    #             std=[0.229, 0.224, 0.225]),\n",
    "])\n",
    "\n",
    "val_tfms = T.Compose([\n",
    "#     T.ToPILImage(),\n",
    "    T.ToTensor(),\n",
    "    # T.Normalize(mean=[0.485, 0.456, 0.406], \n",
    "    #             std=[0.229, 0.224, 0.225]),\n",
    "])\n",
    "\n",
    "\n",
    "\n",
    "class DeepFashion(Dataset):\n",
    "    \"\"\"DeepFashion dataset.\"\"\"\n",
    "\n",
    "    def __init__(self, files, transform=None):\n",
    "        self.files = files\n",
    "        self.transform = transform\n",
    "\n",
    "    def __len__(self):\n",
    "        return len(self.files)\n",
    "\n",
    "    def __getitem__(self, ix):\n",
    "        fpath = self.files[ix]\n",
    "#         clss = fname(parent(fpath))  # todo: read the label/attributes\n",
    "        img = read_image(fpath)/255.0\n",
    "        # return a dummy label at this stage as it doesnt matter\n",
    "        return img,1\n",
    "\n",
    "    def choose(self):\n",
    "        return self[np.random.randint(len(self))]\n",
    "\n",
    "    # def collate_fn(self, batch):\n",
    "    #     imgs, classes = list(zip(*batch))\n",
    "    #     if self.transform:\n",
    "    #         imgs = [self.transform(img)[None] for img in imgs]\n",
    "    #     classes = [torch.tensor([id2int[clss]]) for clss in classes]\n",
    "    #     imgs, classes = [torch.cat(i).to(device) for i in [imgs, classes]]\n",
    "    #     return imgs, classes\n",
    "\n",
    "    def collate_fn(self, batch):\n",
    "        imgs, classes = list(zip(*batch))\n",
    "        if self.transform:\n",
    "            imgs = [self.transform(img)[None] for img in imgs]\n",
    "        return imgs\n",
    "\n",
    "\n",
    "dataset = DeepFashion(img_fn,trn_tfms)\n",
    "loader = DataLoader(dataset,batch_size=10,num_workers=0,shuffle=False)"
   ]
  },
  {
   "cell_type": "code",
   "execution_count": null,
   "metadata": {},
   "outputs": [],
   "source": [
    "batch=next(iter(loader))\n",
    "b,c,h,w=next(iter(loader))[0].shape\n",
    "print(b,c,h,w)"
   ]
  },
  {
   "cell_type": "code",
   "execution_count": null,
   "metadata": {},
   "outputs": [],
   "source": [
    "T.ToPILImage()(batch[0][1])\n"
   ]
  },
  {
   "cell_type": "markdown",
   "metadata": {},
   "source": [
    "once we have the dataset defined we can compute the stats as follows ([reference](https://discuss.pytorch.org/t/computing-the-mean-and-std-of-dataset/34949))"
   ]
  },
  {
   "cell_type": "code",
   "execution_count": null,
   "metadata": {},
   "outputs": [],
   "source": [
    "# get dataset statistics. to be used for normalizing the dataset\n",
    "# h,w=next(iter(loader))[0].shape[2:]\n",
    "mean = 0.0\n",
    "for images, _ in loader:\n",
    "    batch_samples = images.size(0) \n",
    "    images = images.view(batch_samples, images.size(1), -1)\n",
    "    mean += images.mean(2).sum(0)\n",
    "mean = mean / len(loader.dataset)\n",
    "\n",
    "var = 0.0\n",
    "for images, _ in loader:\n",
    "    batch_samples = images.size(0)\n",
    "    images = images.view(batch_samples, images.size(1), -1)\n",
    "    var += ((images - mean.unsqueeze(1))**2).sum([0,2])\n",
    "std = torch.sqrt(var / (len(loader.dataset)*h*w))\n",
    "\n",
    "\n",
    "print(f'mean:{mean},std:{std}')"
   ]
  },
  {
   "cell_type": "markdown",
   "metadata": {},
   "source": [
    "## Dataset Class definition\n",
    "now that we have the dataset statistics we can create a dataset that normalizes appropriately.\n"
   ]
  },
  {
   "cell_type": "code",
   "execution_count": null,
   "metadata": {},
   "outputs": [],
   "source": [
    "trn_tfms = T.Compose([\n",
    "    T.ToPILImage(),\n",
    "    T.Resize(256),\n",
    "    T.ToTensor(),\n",
    "    # T.Normalize(mean=[0.8323, 0.8108, 0.8040], \n",
    "    #             std=[0.2332, 0.2500, 0.2564]),\n",
    "])\n",
    "\n",
    "val_tfms = T.Compose([\n",
    "    T.ToPILImage(),\n",
    "    T.Resize(256),\n",
    "    T.ToTensor(),\n",
    "    # T.Normalize(mean=[0.8323, 0.8108, 0.8040], \n",
    "    #             std=[0.2332, 0.2500, 0.2564]),\n",
    "])\n",
    "\n",
    "class DeepFashion(Dataset):\n",
    "    \"\"\"DeepFashion dataset.\"\"\"\n",
    "\n",
    "    def __init__(self, dataset_path, split='train',transform=None):\n",
    "        self.files=[i for i in Glob(f'{dataset_path}/Img/**/*.jpg',recursive=True)] \n",
    "        # read item attributes:\n",
    "        # the attribute can be the cloth attribute or it can be viewing angle or type of item (based on the folder)\n",
    "        # in the following example, we're taking the cloth attributes (463 attributes)\n",
    "        anno_filename = os.path.join(dataset_path,'Anno','attributes','list_attr_items.txt')\n",
    "        with open(anno_filename,'r') as f:\n",
    "            attr_items=f.read().splitlines()\n",
    "        attr_items=attr_items[2:]\n",
    "        attr_items=[i.split() for i in attr_items]\n",
    "        self.attr_items = {i[0]:[int(int(a)>0) for a in i[1:]] for i in attr_items}\n",
    "        # get attributes names\n",
    "        anno_filename = os.path.join(dataset_path,'Anno','attributes','list_attr_cloth.txt')\n",
    "        with open(anno_filename,'r') as f:\n",
    "            attr_cloth=f.read().splitlines()\n",
    "        self.attr_names = attr_cloth[2:]\n",
    "\n",
    "        # split the dataset and throw the irrelevant part\n",
    "        train_fraction=0.8\n",
    "        train_size = int(train_fraction* len(self.attr_items.keys()))\n",
    "\n",
    "        if split=='train':\n",
    "            self.files = self.files[:train_size]\n",
    "        else:\n",
    "            self.files = self.files[train_size:]\n",
    "\n",
    "        self.transform = transform\n",
    "\n",
    "    def __len__(self):\n",
    "        return len(self.files)\n",
    "\n",
    "    def __getitem__(self, ix):\n",
    "        fpath = self.files[ix]\n",
    "        lbl=self.attr_items[fpath.split('/')[-2]]\n",
    "        img = read_image(fpath)/255.0\n",
    "        return img,lbl\n",
    "\n",
    "    def choose(self):\n",
    "        return self[np.random.randint(len(self))]\n",
    "\n",
    "\n",
    "    def collate_fn(self, batch):\n",
    "        imgs, attrs = list(zip(*batch))\n",
    "        if self.transform:\n",
    "            imgs = [self.transform(img)[None] for img in imgs]\n",
    "        else:\n",
    "            imgs = [img[None] for img in imgs]\n",
    "        attrs=[torch.tensor(a)[None] for a in attrs]\n",
    "        imgs,attrs = [torch.cat(i) for i in [imgs,attrs]]\n",
    "        return imgs,attrs\n",
    "\n",
    "dataset = DeepFashion(dataset_path,'train')\n",
    "loader = DataLoader(dataset,batch_size=10,num_workers=0,shuffle=False,collate_fn=dataset.collate_fn)"
   ]
  },
  {
   "cell_type": "code",
   "execution_count": null,
   "metadata": {},
   "outputs": [],
   "source": [
    "dataset.files[:10]"
   ]
  },
  {
   "cell_type": "code",
   "execution_count": null,
   "metadata": {},
   "outputs": [],
   "source": [
    "batch=next(iter(loader))\n",
    "b,c,h,w=batch[0].shape\n",
    "print(b,c,h,w)\n",
    "print(batch[1].shape)"
   ]
  },
  {
   "cell_type": "code",
   "execution_count": null,
   "metadata": {},
   "outputs": [],
   "source": [
    "T.ToPILImage()(batch[0][3])"
   ]
  },
  {
   "cell_type": "code",
   "execution_count": null,
   "metadata": {},
   "outputs": [],
   "source": [
    "batch[1][0].shape"
   ]
  },
  {
   "cell_type": "markdown",
   "metadata": {},
   "source": [
    "# Draft"
   ]
  },
  {
   "cell_type": "markdown",
   "metadata": {},
   "source": [
    "## CelebA\n",
    "this is the dataset considered as a baseline"
   ]
  },
  {
   "cell_type": "markdown",
   "metadata": {},
   "source": [
    "### explore the images"
   ]
  },
  {
   "cell_type": "code",
   "execution_count": 5,
   "metadata": {},
   "outputs": [
    {
     "data": {
      "text/plain": [
       "202599"
      ]
     },
     "execution_count": 5,
     "metadata": {},
     "output_type": "execute_result"
    }
   ],
   "source": [
    "clba_path = '/home/guy/sd1tb/datasets/CelebA/celeba/img_align_celeba'\n",
    "# clba_path = '/data/users/gkoren2/datasets/celeba/celeba/img_align_celeba'   # gpu15\n",
    "imgs_filenames=os.listdir(clba_path)\n",
    "len(imgs_filenames)"
   ]
  },
  {
   "cell_type": "code",
   "execution_count": null,
   "metadata": {},
   "outputs": [],
   "source": [
    "# extract image sizes and make sure they all at sime size\n",
    "imsz = [Image.open(os.path.join(clba_path,im)).size for im in imgs_filenames]\n",
    "np.all([s==imsz[0] for s in imsz])"
   ]
  },
  {
   "cell_type": "markdown",
   "metadata": {},
   "source": [
    "Lets check the alignment by displaying the average of the images"
   ]
  },
  {
   "cell_type": "code",
   "execution_count": null,
   "metadata": {},
   "outputs": [],
   "source": [
    "img_indxs = [i for i in range(1000)]\n",
    "avg_img = np.zeros_like(Image.open(os.path.join(clba_path,imgs_filenames[0])),dtype=np.float64)\n",
    "for i,idx in enumerate(img_indxs):\n",
    "    img=Image.open(os.path.join(clba_path,imgs_filenames[idx]))\n",
    "    avg_img+=np.asarray(img)\n",
    "avg_img = avg_img/len(img_indxs)\n",
    "Image.fromarray(np.uint8(avg_img))"
   ]
  },
  {
   "cell_type": "markdown",
   "metadata": {},
   "source": [
    "ok, we see that the images are pretty much aligned. this is something that should predict the successfulness of the VAE. "
   ]
  },
  {
   "cell_type": "code",
   "execution_count": null,
   "metadata": {},
   "outputs": [],
   "source": [
    "# to make a gif from the images:\n",
    "img_indxs = [i for i in range(1000)]\n",
    "imgs = (Image.open(os.path.join(clba_path,imgs_filenames[i])) for i in img_indxs)\n",
    "img = next(imgs)  # extract first image from iterator\n",
    "img.save(fp='celeba.gif', format='GIF', append_images=imgs,save_all=True, duration=20, loop=0)"
   ]
  },
  {
   "cell_type": "markdown",
   "metadata": {},
   "source": [
    "### load CelebA dataset class\n",
    "Lets import the dataset as it is done in the VAE s.t. we understand how to prepare `DeepFashion` dataset"
   ]
  },
  {
   "cell_type": "code",
   "execution_count": 6,
   "metadata": {},
   "outputs": [
    {
     "data": {
      "text/plain": [
       "['__add__',\n",
       " '__class__',\n",
       " '__class_getitem__',\n",
       " '__delattr__',\n",
       " '__dict__',\n",
       " '__dir__',\n",
       " '__doc__',\n",
       " '__eq__',\n",
       " '__format__',\n",
       " '__ge__',\n",
       " '__getattribute__',\n",
       " '__getitem__',\n",
       " '__gt__',\n",
       " '__hash__',\n",
       " '__init__',\n",
       " '__init_subclass__',\n",
       " '__le__',\n",
       " '__len__',\n",
       " '__lt__',\n",
       " '__module__',\n",
       " '__ne__',\n",
       " '__new__',\n",
       " '__orig_bases__',\n",
       " '__parameters__',\n",
       " '__reduce__',\n",
       " '__reduce_ex__',\n",
       " '__repr__',\n",
       " '__setattr__',\n",
       " '__sizeof__',\n",
       " '__slots__',\n",
       " '__str__',\n",
       " '__subclasshook__',\n",
       " '__weakref__',\n",
       " '_check_integrity',\n",
       " '_format_transform_repr',\n",
       " '_is_protocol',\n",
       " '_load_csv',\n",
       " '_repr_indent',\n",
       " 'attr',\n",
       " 'attr_names',\n",
       " 'base_folder',\n",
       " 'bbox',\n",
       " 'download',\n",
       " 'extra_repr',\n",
       " 'file_list',\n",
       " 'filename',\n",
       " 'identity',\n",
       " 'landmarks_align',\n",
       " 'root',\n",
       " 'split',\n",
       " 'target_transform',\n",
       " 'target_type',\n",
       " 'transform',\n",
       " 'transforms']"
      ]
     },
     "execution_count": 6,
     "metadata": {},
     "output_type": "execute_result"
    }
   ],
   "source": [
    "from torchvision.datasets import CelebA\n",
    "import torch.utils.data as data\n",
    "from torchvision import transforms as T\n",
    "# clba_path = '/data/users/gkoren2/datasets/celeba/'   # gpu15\n",
    "clba_path = '/home/guy/sd1tb/datasets/CelebA/'\n",
    "patch_size=256\n",
    "trn_tfms = T.Compose([      # copied from dataset.py \n",
    "    T.RandomHorizontalFlip(),\n",
    "    T.CenterCrop(148),\n",
    "    T.Resize(patch_size),\n",
    "    T.ToTensor(),\n",
    "    ])\n",
    "\n",
    "clba = CelebA(clba_path, split='train',transform=trn_tfms,download=False)\n",
    "\n",
    "dir(clba)\n"
   ]
  },
  {
   "cell_type": "code",
   "execution_count": null,
   "metadata": {},
   "outputs": [],
   "source": [
    "getattr(clba,'collate_fn',None)"
   ]
  },
  {
   "cell_type": "code",
   "execution_count": null,
   "metadata": {},
   "outputs": [],
   "source": [
    "clba_loader = data.DataLoader(clba,batch_size=10,num_workers=0,shuffle=False)\n",
    "clba_batch=next(iter(clba_loader))"
   ]
  },
  {
   "cell_type": "code",
   "execution_count": null,
   "metadata": {},
   "outputs": [],
   "source": [
    "print(clba_batch[0].shape)       # the images tensor\n",
    "print(clba_batch[1].shape)       # the labels (attributes) tensor\n"
   ]
  },
  {
   "cell_type": "code",
   "execution_count": 7,
   "metadata": {},
   "outputs": [
    {
     "name": "stdout",
     "output_type": "stream",
     "text": [
      "41\n"
     ]
    },
    {
     "data": {
      "text/plain": [
       "['5_o_Clock_Shadow',\n",
       " 'Arched_Eyebrows',\n",
       " 'Attractive',\n",
       " 'Bags_Under_Eyes',\n",
       " 'Bald',\n",
       " 'Bangs',\n",
       " 'Big_Lips',\n",
       " 'Big_Nose',\n",
       " 'Black_Hair',\n",
       " 'Blond_Hair',\n",
       " 'Blurry',\n",
       " 'Brown_Hair',\n",
       " 'Bushy_Eyebrows',\n",
       " 'Chubby',\n",
       " 'Double_Chin',\n",
       " 'Eyeglasses',\n",
       " 'Goatee',\n",
       " 'Gray_Hair',\n",
       " 'Heavy_Makeup',\n",
       " 'High_Cheekbones',\n",
       " 'Male',\n",
       " 'Mouth_Slightly_Open',\n",
       " 'Mustache',\n",
       " 'Narrow_Eyes',\n",
       " 'No_Beard',\n",
       " 'Oval_Face',\n",
       " 'Pale_Skin',\n",
       " 'Pointy_Nose',\n",
       " 'Receding_Hairline',\n",
       " 'Rosy_Cheeks',\n",
       " 'Sideburns',\n",
       " 'Smiling',\n",
       " 'Straight_Hair',\n",
       " 'Wavy_Hair',\n",
       " 'Wearing_Earrings',\n",
       " 'Wearing_Hat',\n",
       " 'Wearing_Lipstick',\n",
       " 'Wearing_Necklace',\n",
       " 'Wearing_Necktie',\n",
       " 'Young',\n",
       " '']"
      ]
     },
     "execution_count": 7,
     "metadata": {},
     "output_type": "execute_result"
    }
   ],
   "source": [
    "print(len(clba.attr_names))\n",
    "clba.attr_names"
   ]
  },
  {
   "cell_type": "code",
   "execution_count": null,
   "metadata": {},
   "outputs": [],
   "source": [
    "clba_batch[0].std()"
   ]
  },
  {
   "cell_type": "markdown",
   "metadata": {},
   "source": [
    "it looks like the only normalization they have applied is scaling s.t. the value of the pixels are in [0,1]. they havent normalized it to `mean=0 , stdev=1`"
   ]
  },
  {
   "cell_type": "code",
   "execution_count": null,
   "metadata": {},
   "outputs": [],
   "source": [
    "T.ToPILImage()(clba_batch[0][1])"
   ]
  },
  {
   "cell_type": "code",
   "execution_count": null,
   "metadata": {},
   "outputs": [],
   "source": [
    "clba_batch[1][0].shape"
   ]
  },
  {
   "cell_type": "code",
   "execution_count": null,
   "metadata": {},
   "outputs": [],
   "source": [
    "clba_batch[1][0]"
   ]
  },
  {
   "cell_type": "markdown",
   "metadata": {},
   "source": [
    "## DeepFashion dataset\n"
   ]
  },
  {
   "cell_type": "markdown",
   "metadata": {},
   "source": [
    "### In-Shop Clothes Retrieval\n",
    "\n",
    "- Images (Img/img.zip):   52,712 in-shop clothes images (~200,000 cross-pose/scale pairs).\n",
    "    - Images are centered and resized to 256*256;\n",
    "    - The aspect ratios of original images are kept unchanged\n",
    "- Bounding Box Annotations (Anno/list_bbox_inshop.txt)\n",
    "- Fashion Landmark Annotations (Anno/list_landmarks_inshop.txt)\n",
    "- Item Annotations (Anno/list_item_inshop.txt)\n",
    "- Description Annotations (Anno/list_description_inshop.json)\n",
    "- Attribute Annotations (Anno/attributes/list_attr_cloth.txt & Anno/attributes/list_attr_items.txt & Anno/attributes/list_color_cloth.txt)\n",
    "- Segmentation Mask Annotations (Anno/segmentation/DeepFashion_instances_train.json & Anno/segmentation/DeepFashion_instances_query.json & Anno/segmentation/DeepFashion_instances_gallery.json)\n",
    "- Dense Pose Annotations (Anno/densepose/img_iuv.zip)\n",
    "- Evaluation Partitions (Eval/list_eval_partition.txt)\n"
   ]
  },
  {
   "cell_type": "code",
   "execution_count": null,
   "metadata": {},
   "outputs": [],
   "source": [
    "dataset_path = '/data/users/gkoren2/datasets/DeepFashion/In-shop-Clothes-Retrieval/In-shop Clothes Retrieval Benchmark' # gpu15\n",
    "# benchmarks = [os.path.basename(bm) for bm in Glob(dataset_path+'/*') if os.path.isdir(bm)]\n",
    "# benchmarks\n",
    "os.listdir(dataset_path)"
   ]
  },
  {
   "cell_type": "markdown",
   "metadata": {},
   "source": [
    "#### Annotations"
   ]
  },
  {
   "cell_type": "code",
   "execution_count": null,
   "metadata": {},
   "outputs": [],
   "source": [
    "anno_filename = os.path.join(dataset_path,'Anno','list_item_inshop.txt')\n",
    "with open(anno_filename,'r') as f:\n",
    "    item_list=f.read().splitlines()\n",
    "\n",
    "len(item_list)"
   ]
  },
  {
   "cell_type": "code",
   "execution_count": null,
   "metadata": {},
   "outputs": [],
   "source": [
    "item_list[:10]"
   ]
  },
  {
   "cell_type": "code",
   "execution_count": null,
   "metadata": {},
   "outputs": [],
   "source": [
    "anno_filename = os.path.join(dataset_path,'Anno','list_description_inshop.json')\n",
    "with open(anno_filename,'r') as f:\n",
    "    item_desc = json.load(f)\n",
    "desc_df=pd.DataFrame(item_desc)"
   ]
  },
  {
   "cell_type": "code",
   "execution_count": null,
   "metadata": {},
   "outputs": [],
   "source": [
    "desc_df.head()"
   ]
  },
  {
   "cell_type": "code",
   "execution_count": null,
   "metadata": {},
   "outputs": [],
   "source": [
    "desc_df.item.value_counts()"
   ]
  },
  {
   "cell_type": "code",
   "execution_count": null,
   "metadata": {},
   "outputs": [],
   "source": [
    "desc_df.loc[desc_df['item']=='id_00000001',:]"
   ]
  },
  {
   "cell_type": "code",
   "execution_count": null,
   "metadata": {},
   "outputs": [],
   "source": [
    "anno_filename = os.path.join(dataset_path,'Anno','attributes','list_attr_cloth.txt')\n",
    "with open(anno_filename,'r') as f:\n",
    "    attr_cloth=f.read().splitlines()\n",
    "attr_cloth = attr_cloth[2:]\n",
    "len(attr_cloth)"
   ]
  },
  {
   "cell_type": "code",
   "execution_count": null,
   "metadata": {},
   "outputs": [],
   "source": [
    "attr_cloth[:10]"
   ]
  },
  {
   "cell_type": "code",
   "execution_count": null,
   "metadata": {},
   "outputs": [],
   "source": [
    "anno_filename = os.path.join(dataset_path,'Anno','attributes','list_attr_items.txt')\n",
    "with open(anno_filename,'r') as f:\n",
    "    attr_items=f.read().splitlines()\n",
    "attr_items=attr_items[2:]\n",
    "attr_items=[i.split() for i in attr_items]\n",
    "attr_items = {i[0]:[int(int(a)>0) for a in i[1:]] for i in attr_items}\n",
    "len(attr_items)"
   ]
  },
  {
   "cell_type": "code",
   "execution_count": null,
   "metadata": {},
   "outputs": [],
   "source": [
    "print(len(attr_items['id_00000013']))\n",
    "attr_items['id_00000013']"
   ]
  },
  {
   "cell_type": "markdown",
   "metadata": {},
   "source": [
    "Notes:\n",
    "1. The order of attribute labels accords with the order of attribute names;\n",
    "2. In attribute labels, \"1\" represents positive while \"-1\" represents negative, '0' represents unknown;\n",
    "3. Attribute prediction is treated as a multi-label tagging problem.\n"
   ]
  },
  {
   "cell_type": "code",
   "execution_count": null,
   "metadata": {},
   "outputs": [],
   "source": [
    "attr_item_desc={i[0]:[attr_cloth[ai] for ai in range(len(attr_cloth)) if i[ai+1]=='1'] for i in attr_items}"
   ]
  },
  {
   "cell_type": "code",
   "execution_count": null,
   "metadata": {},
   "outputs": [],
   "source": [
    "attr_item_desc['id_00000013']"
   ]
  },
  {
   "cell_type": "code",
   "execution_count": null,
   "metadata": {},
   "outputs": [],
   "source": [
    "anno_filename = os.path.join(dataset_path,'Anno','attributes','list_color_cloth.txt')\n",
    "with open(anno_filename,'r') as f:\n",
    "    color_cloth=f.read().splitlines()\n",
    "\n",
    "len(color_cloth)"
   ]
  },
  {
   "cell_type": "code",
   "execution_count": null,
   "metadata": {},
   "outputs": [],
   "source": [
    "color_cloth[:10]"
   ]
  },
  {
   "cell_type": "markdown",
   "metadata": {},
   "source": [
    "#### Eval partitions"
   ]
  },
  {
   "cell_type": "code",
   "execution_count": null,
   "metadata": {},
   "outputs": [],
   "source": [
    "eval_part_filename = os.path.join(dataset_path,'Eval','list_eval_partition.txt')\n",
    "with open(eval_part_filename,'r') as f:\n",
    "    eval_part_list=f.read().splitlines()\n",
    "eval_part_list=eval_part_list[2:]\n",
    "eval_part_list=[i.split() for i in eval_part_list]\n",
    "eval_part_list = {i[1]:i[2] for i in eval_part_list}\n"
   ]
  },
  {
   "cell_type": "code",
   "execution_count": null,
   "metadata": {},
   "outputs": [],
   "source": [
    "pd.DataFrame(eval_part_list.values()).value_counts()"
   ]
  },
  {
   "cell_type": "code",
   "execution_count": null,
   "metadata": {},
   "outputs": [],
   "source": [
    "epl0=eval_part_list[2]\n",
    "epl0.split()"
   ]
  },
  {
   "cell_type": "markdown",
   "metadata": {},
   "source": [
    "#### Images"
   ]
  },
  {
   "cell_type": "markdown",
   "metadata": {},
   "source": [
    "##### explore"
   ]
  },
  {
   "cell_type": "code",
   "execution_count": null,
   "metadata": {},
   "outputs": [],
   "source": [
    "! tree \"{os.path.join(dataset_path,'Img/img')}\" -L 2"
   ]
  },
  {
   "cell_type": "code",
   "execution_count": null,
   "metadata": {},
   "outputs": [],
   "source": [
    "img_fn=[i for i in Glob(f'{dataset_path}/Img/**/*.jpg',recursive=True)] #  if 'side' in i]\n",
    "len(img_fn)"
   ]
  },
  {
   "cell_type": "code",
   "execution_count": null,
   "metadata": {},
   "outputs": [],
   "source": [
    "# base name\n",
    "img_bn=[s.split('img')[1] for s in img_fn]\n",
    "len(img_bn)"
   ]
  },
  {
   "cell_type": "code",
   "execution_count": null,
   "metadata": {},
   "outputs": [],
   "source": [
    "[f for f in img_fn if 'id_00003321' in f]"
   ]
  },
  {
   "cell_type": "code",
   "execution_count": null,
   "metadata": {},
   "outputs": [],
   "source": [
    "! tree \"{os.path.join(os.path.dirname(dataset_path),'img_highres')}\" -L 2"
   ]
  },
  {
   "cell_type": "code",
   "execution_count": null,
   "metadata": {},
   "outputs": [],
   "source": [
    "img_hres_fn = [i for i in Glob(f\"{os.path.join(os.path.dirname(dataset_path),'img_highres')}/**/*.jpg\",recursive=True)]\n",
    "len(img_hres_fn)"
   ]
  },
  {
   "cell_type": "code",
   "execution_count": null,
   "metadata": {},
   "outputs": [],
   "source": [
    "img_hres_fn[:10]"
   ]
  },
  {
   "cell_type": "code",
   "execution_count": null,
   "metadata": {},
   "outputs": [],
   "source": [
    "img_hres_bn=[s.split('img_highres')[1] for s in img_hres_fn]\n",
    "len(img_hres_bn)"
   ]
  },
  {
   "cell_type": "code",
   "execution_count": null,
   "metadata": {},
   "outputs": [],
   "source": [
    "# comapre the names - make sure we have exact copy of each image as highres\n",
    "np.all(np.array(img_bn)==np.array(img_hres_bn))"
   ]
  },
  {
   "cell_type": "code",
   "execution_count": null,
   "metadata": {},
   "outputs": [],
   "source": [
    "# lets see an image and its highres variant\n",
    "img_id = 2345\n",
    "img = Image.open(img_fn[img_id])\n",
    "img_hres=Image.open(img_hres_fn[img_id])\n",
    "print(f'{img.size} , {img_hres.size}')\n"
   ]
  },
  {
   "cell_type": "markdown",
   "metadata": {},
   "source": [
    "we'll ignore the high res images. look only at the low res"
   ]
  },
  {
   "cell_type": "markdown",
   "metadata": {},
   "source": [
    "##### get item images"
   ]
  },
  {
   "cell_type": "code",
   "execution_count": null,
   "metadata": {},
   "outputs": [],
   "source": [
    "img_fn=[i for i in Glob(f'{dataset_path}/Img/**/*.jpg',recursive=True)] #  if 'side' in i]\n",
    "img_hres_fn = [i for i in Glob(f\"{os.path.join(os.path.dirname(dataset_path),'img_highres')}/**/*.jpg\",recursive=True)]"
   ]
  },
  {
   "cell_type": "code",
   "execution_count": null,
   "metadata": {},
   "outputs": [],
   "source": [
    "def get_item_images(item_id,hres=False):\n",
    "    img_fns=img_hres_fn if hres else img_fn\n",
    "    img_filenames = [f for f in img_fns if item_id in f]\n",
    "    if len(img_filenames)==0:\n",
    "        print(f'item {item_id} not found')\n",
    "        return None\n",
    "    else:\n",
    "        imgs = {os.path.basename(f):Image.open(f) for f in img_filenames}\n",
    "        print(f'found {len(imgs)} for item {item_id}')\n",
    "        return imgs"
   ]
  },
  {
   "cell_type": "code",
   "execution_count": null,
   "metadata": {},
   "outputs": [],
   "source": [
    "imgs = get_item_images('id_00000002',False)\n",
    "imgs"
   ]
  },
  {
   "cell_type": "code",
   "execution_count": null,
   "metadata": {},
   "outputs": [],
   "source": [
    "image_grid(list(imgs.values()),2,2)"
   ]
  },
  {
   "cell_type": "code",
   "execution_count": null,
   "metadata": {},
   "outputs": [],
   "source": [
    "# get image stats\n",
    "img_indxs = [i for i in range(len(img_fn))]\n",
    "avg_img = np.zeros_like(Image.open(img_fn[0]),dtype=np.float64)\n",
    "for i,idx in enumerate(img_indxs):\n",
    "    img=Image.open(img_fn[idx])\n",
    "    avg_img+=np.asarray(img)\n",
    "avg_img = avg_img/len(img_indxs)\n",
    "# Image.fromarray(np.uint8(avg_img))"
   ]
  },
  {
   "cell_type": "code",
   "execution_count": null,
   "metadata": {},
   "outputs": [],
   "source": [
    "len(img_fn)"
   ]
  },
  {
   "cell_type": "code",
   "execution_count": null,
   "metadata": {},
   "outputs": [],
   "source": [
    "img_fn[:10]"
   ]
  },
  {
   "cell_type": "code",
   "execution_count": null,
   "metadata": {},
   "outputs": [],
   "source": [
    "img_fn[0].split('/')[-2]"
   ]
  },
  {
   "cell_type": "code",
   "execution_count": null,
   "metadata": {},
   "outputs": [],
   "source": [
    "avg_img.shape"
   ]
  },
  {
   "cell_type": "code",
   "execution_count": null,
   "metadata": {},
   "outputs": [],
   "source": [
    "avg_img[:,:,0].mean()/255"
   ]
  },
  {
   "cell_type": "code",
   "execution_count": null,
   "metadata": {},
   "outputs": [],
   "source": [
    "ai1=avg_img.reshape([-1,3]).mean(axis=0)/255\n",
    "ai1"
   ]
  },
  {
   "cell_type": "code",
   "execution_count": null,
   "metadata": {},
   "outputs": [],
   "source": [
    "ai1-np.array([0.485, 0.456, 0.406])/np.array([0.229, 0.224, 0.225])"
   ]
  },
  {
   "cell_type": "markdown",
   "metadata": {},
   "source": [
    "### Category and Attribute Prediction\n",
    "\n",
    "- Images (Img/img.zip):  289,222 diverse clothes images. \n",
    "    - The long side of images are resized to 300;\n",
    "    - The aspect ratios of original images are kept unchanged.\n",
    "- Bounding Box Annotations (Anno/list_bbox.txt) bounding box labels. \n",
    "- Fashion Landmark Annotations (Anno/list_landmarks.txt) fashion landmark labels\n",
    "- Category Annotations (Anno/list_category_cloth.txt & Anno/list_category_img.txt) clothing category labels. \n",
    "- Attribute Annotations (Anno/list_attr_cloth.txt & Anno/list_attr_img.txt) clothing attribute labels. \n",
    "- Evaluation Partitions (Eval/list_eval_partition.txt) image names for training, validation and testing set respectively.\n"
   ]
  },
  {
   "cell_type": "code",
   "execution_count": null,
   "metadata": {},
   "outputs": [],
   "source": [
    "dataset_path = '/data/users/gkoren2/datasets/DeepFashion/Category-and-Attribute-Prediction' # gpu15\n",
    "# benchmarks = [os.path.basename(bm) for bm in Glob(dataset_path+'/*') if os.path.isdir(bm)]\n",
    "# benchmarks\n",
    "os.listdir(dataset_path)"
   ]
  },
  {
   "cell_type": "markdown",
   "metadata": {},
   "source": [
    "#### Annotations"
   ]
  },
  {
   "cell_type": "code",
   "execution_count": null,
   "metadata": {},
   "outputs": [],
   "source": []
  },
  {
   "cell_type": "markdown",
   "metadata": {},
   "source": [
    "#### Images"
   ]
  },
  {
   "cell_type": "code",
   "execution_count": null,
   "metadata": {},
   "outputs": [],
   "source": [
    "img_fn=[i for i in Glob(f'{dataset_path}/img/**/*.jpg',recursive=True)] #  if 'side' in i]\n",
    "img_hres_fn = [i for i in Glob(f\"{os.path.join(dataset_path,'img_highres')}/**/*.jpg\",recursive=True)]"
   ]
  },
  {
   "cell_type": "code",
   "execution_count": null,
   "metadata": {},
   "outputs": [],
   "source": [
    "print(len(img_fn))\n",
    "print(len(img_hres_fn))"
   ]
  },
  {
   "cell_type": "code",
   "execution_count": null,
   "metadata": {},
   "outputs": [],
   "source": [
    "img_fn[:10]"
   ]
  },
  {
   "cell_type": "code",
   "execution_count": null,
   "metadata": {},
   "outputs": [],
   "source": [
    "os.path.basename(os.path.dirname(img_fn[0]))"
   ]
  },
  {
   "cell_type": "code",
   "execution_count": null,
   "metadata": {},
   "outputs": [],
   "source": [
    "imgs=[Image.open(f) for f in img_fn[100:110]]\n",
    "image_grid(imgs,2,5)"
   ]
  },
  {
   "cell_type": "markdown",
   "metadata": {},
   "source": [
    "### Other Benchmarks"
   ]
  },
  {
   "cell_type": "code",
   "execution_count": null,
   "metadata": {},
   "outputs": [],
   "source": [
    "dataset_path = '/data/users/gkoren2/datasets/DeepFashion/In-shop-Clothes-Retrieval' # gpu15\n",
    "# dataset_path = '/home/guy/sd1tb/datasets/deep_fashion/DeepFashion' # guy-x\n",
    "benchmarks = [os.path.basename(bm) for bm in Glob(dataset_path+'/*') if os.path.isdir(bm)]\n",
    "benchmarks"
   ]
  },
  {
   "cell_type": "code",
   "execution_count": null,
   "metadata": {},
   "outputs": [],
   "source": [
    "img_fn=[i for i in Glob(f'{dataset_path}/{benchmarks[0]}/Img/**/*.jpg',recursive=True)] #  if 'side' in i]\n",
    "len(img_fn)"
   ]
  },
  {
   "cell_type": "code",
   "execution_count": null,
   "metadata": {},
   "outputs": [],
   "source": [
    "imsz = [Image.open(im).size for im in img_fn]\n",
    "df=pd.DataFrame(imsz,columns=['x','y'])\n",
    "df['new_col'] = list(zip(df.x, df.y))\n",
    "df['img_fn']=img_fn\n",
    "df['new_col'].value_counts()"
   ]
  },
  {
   "cell_type": "code",
   "execution_count": null,
   "metadata": {},
   "outputs": [],
   "source": [
    "# display the smallest image in the dataset\n",
    "# img=Image.open(df.loc[df['x']==70,'img_fn'])\n",
    "img=Image.open(df.loc[df['x']==df['x'].min(),'img_fn'].values[0])\n",
    "print(img.size)\n",
    "img"
   ]
  },
  {
   "cell_type": "code",
   "execution_count": null,
   "metadata": {},
   "outputs": [],
   "source": [
    "df['y'].hist()"
   ]
  },
  {
   "cell_type": "code",
   "execution_count": null,
   "metadata": {},
   "outputs": [],
   "source": [
    "df['x'].sort_values"
   ]
  },
  {
   "cell_type": "code",
   "execution_count": null,
   "metadata": {},
   "outputs": [],
   "source": [
    "imgs=[Image.open(m) for m in img_fn[200:225]]\n",
    "image_grid(imgs,5,5)\n"
   ]
  },
  {
   "cell_type": "code",
   "execution_count": null,
   "metadata": {},
   "outputs": [],
   "source": [
    "# show the average image \n",
    "img_indxs = [i for i in range(len(img_fn))]\n",
    "avg_img = np.zeros_like(Image.open(img_fn[0]),dtype=np.float64)\n",
    "for i,idx in enumerate(img_indxs):\n",
    "    img=Image.open(img_fn[idx])\n",
    "    avg_img+=np.asarray(img)\n",
    "avg_img = avg_img/len(img_indxs)\n",
    "Image.fromarray(np.uint8(avg_img))"
   ]
  },
  {
   "cell_type": "markdown",
   "metadata": {},
   "source": [
    "OK, the average image looks poor. it would be interesting to see whether the VAE can capture the variance in the dataset and get farther from the average image."
   ]
  },
  {
   "cell_type": "markdown",
   "metadata": {},
   "source": [
    "OK, lets start with the `In-Shop-Clothes-Retreival-Benchmark` dataset and try to find a disentangled representation using VAEs"
   ]
  },
  {
   "cell_type": "markdown",
   "metadata": {},
   "source": []
  },
  {
   "cell_type": "code",
   "execution_count": null,
   "metadata": {},
   "outputs": [],
   "source": [
    "import os.path\n",
    "\n",
    "import numpy as np\n",
    "import torch\n",
    "import torch.utils.data as data\n",
    "from torchvision.io import read_image\n",
    "from torchvision import transforms as T"
   ]
  },
  {
   "cell_type": "code",
   "execution_count": null,
   "metadata": {},
   "outputs": [],
   "source": [
    "dataset_path = '/data/users/gkoren2/datasets/DeepFashion/In-shop-Clothes-Retrieval/In-shop Clothes Retrieval Benchmark' # gpu15"
   ]
  },
  {
   "cell_type": "code",
   "execution_count": null,
   "metadata": {},
   "outputs": [],
   "source": [
    "os.listdir(dataset_path)"
   ]
  },
  {
   "cell_type": "markdown",
   "metadata": {},
   "source": [
    "things we'll need to do:\n",
    "- transform to tensor\n",
    "- normalize the dataset\n",
    "\n",
    "we wont do any further adjustments or augmentations at this stage.\n",
    "\n",
    "\n"
   ]
  }
 ],
 "metadata": {
  "kernelspec": {
   "display_name": "Python 3.9.13 ('ptvae')",
   "language": "python",
   "name": "python3"
  },
  "language_info": {
   "codemirror_mode": {
    "name": "ipython",
    "version": 3
   },
   "file_extension": ".py",
   "mimetype": "text/x-python",
   "name": "python",
   "nbconvert_exporter": "python",
   "pygments_lexer": "ipython3",
   "version": "3.9.13"
  },
  "vscode": {
   "interpreter": {
    "hash": "56681f32b047566157fb60ffac65a2814c6eb720e5ca2d0a1d28762cefafd161"
   }
  }
 },
 "nbformat": 4,
 "nbformat_minor": 2
}

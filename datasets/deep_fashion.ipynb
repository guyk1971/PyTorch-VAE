{
 "cells": [
  {
   "cell_type": "markdown",
   "metadata": {},
   "source": [
    "# DeepFashion Dataset\n",
    "a notebook to explore the DeepFashion dataset in order to prepare a `Dataset` class and `Dataloader` \n",
    "\n",
    "Note that the data used for Text2Human project was processed vs the original DeepFashion-MultiModal thus we might want to use this dataset, as the images are already aligned\n"
   ]
  },
  {
   "cell_type": "code",
   "execution_count": null,
   "metadata": {},
   "outputs": [],
   "source": [
    "!jt -t onedork -cellw 90% -T"
   ]
  },
  {
   "cell_type": "code",
   "execution_count": 2,
   "metadata": {
    "ExecuteTime": {
     "end_time": "2022-11-30T17:01:32.352721Z",
     "start_time": "2022-11-30T17:01:31.329711Z"
    }
   },
   "outputs": [
    {
     "name": "stdout",
     "output_type": "stream",
     "text": [
      "/bin/bash: /home/guy/anaconda3/envs/dis_ir/lib/libtinfo.so.6: no version information available (required by /bin/bash)\r\n",
      "/home/guy/anaconda3/envs/dis_ir/bin/python\r\n"
     ]
    }
   ],
   "source": [
    "%load_ext autoreload\n",
    "%autoreload 2\n",
    "\n",
    "import os\n",
    "import matplotlib.pyplot as plt\n",
    "import numpy as np\n",
    "from PIL import Image\n",
    "from tqdm.notebook import tqdm\n",
    "import pandas as pd\n",
    "from glob import glob as Glob\n",
    "import json\n",
    "%matplotlib inline\n",
    "\n",
    "!which python"
   ]
  },
  {
   "cell_type": "markdown",
   "metadata": {},
   "source": [
    "# Datasets Exploration and preprocessing"
   ]
  },
  {
   "cell_type": "markdown",
   "metadata": {
    "heading_collapsed": true
   },
   "source": [
    "## CelebA\n",
    "this is the dataset considered as a baseline"
   ]
  },
  {
   "cell_type": "code",
   "execution_count": null,
   "metadata": {
    "hidden": true
   },
   "outputs": [],
   "source": [
    "if os.uname()[1]=='guy-x':\n",
    "    clba_path = '/home/guy/sd1tb/datasets/CelebA/celeba/img_align_celeba'\n",
    "\n",
    "else:   # assuming gpu15\n",
    "    clba_path = '/data/users/gkoren2/datasets/celeba/celeba/img_align_celeba'   # gpu15\n",
    "\n",
    "print(f\"assuming we're on {os.uname()[1]} so data is in {clba_path}\")\n",
    "\n",
    "imgs_filenames=os.listdir(clba_path)\n",
    "len(imgs_filenames)"
   ]
  },
  {
   "cell_type": "code",
   "execution_count": null,
   "metadata": {
    "hidden": true
   },
   "outputs": [],
   "source": [
    "# extract image sizes and make sure they all at sime size\n",
    "imsz = [Image.open(os.path.join(clba_path,im)).size for im in imgs_filenames]\n",
    "np.all([s==imsz[0] for s in imsz])"
   ]
  },
  {
   "cell_type": "markdown",
   "metadata": {
    "hidden": true
   },
   "source": [
    "Lets check the alignment by displaying the average of the images"
   ]
  },
  {
   "cell_type": "code",
   "execution_count": null,
   "metadata": {
    "hidden": true
   },
   "outputs": [],
   "source": [
    "img_indxs = [i for i in range(1000)]\n",
    "avg_img = np.zeros_like(Image.open(os.path.join(clba_path,imgs_filenames[0])),dtype=np.float64)\n",
    "for i,idx in enumerate(img_indxs):\n",
    "    img=Image.open(os.path.join(clba_path,imgs_filenames[idx]))\n",
    "    avg_img+=np.asarray(img)\n",
    "avg_img = avg_img/len(img_indxs)\n",
    "Image.fromarray(np.uint8(avg_img))"
   ]
  },
  {
   "cell_type": "markdown",
   "metadata": {
    "hidden": true
   },
   "source": [
    "ok, we see that the images are pretty much aligned. this is something that should predict the successfulness of the VAE. "
   ]
  },
  {
   "cell_type": "code",
   "execution_count": null,
   "metadata": {
    "hidden": true
   },
   "outputs": [],
   "source": [
    "# to make a gif from the images:\n",
    "img_indxs = [i for i in range(1000)]\n",
    "imgs = (Image.open(os.path.join(clba_path,imgs_filenames[i])) for i in img_indxs)\n",
    "img = next(imgs)  # extract first image from iterator\n",
    "img.save(fp='celeba.gif', format='GIF', append_images=imgs,save_all=True, duration=20, loop=0)"
   ]
  },
  {
   "cell_type": "markdown",
   "metadata": {
    "hidden": true
   },
   "source": [
    "Lets import the dataset as it is done in the VAE s.t. we understand how to prepare `DeepFashion` dataset"
   ]
  },
  {
   "cell_type": "code",
   "execution_count": null,
   "metadata": {
    "hidden": true
   },
   "outputs": [],
   "source": [
    "from torchvision.datasets import CelebA\n",
    "import torch.utils.data as data\n",
    "from torchvision import transforms as T\n",
    "# clba_path = '/data/users/gkoren2/datasets/celeba/'   # gpu15\n",
    "clba_path = '/home/guy/sd1tb/datasets/CelebA/'\n",
    "patch_size=256\n",
    "trn_tfms = T.Compose([      # copied from dataset.py \n",
    "    T.RandomHorizontalFlip(),\n",
    "    T.CenterCrop(148),\n",
    "    T.Resize(patch_size),\n",
    "    T.ToTensor(),\n",
    "    ])\n",
    "\n",
    "clba = CelebA(clba_path, split='train',transform=trn_tfms,download=False)\n",
    "\n",
    "dir(clba)\n"
   ]
  },
  {
   "cell_type": "code",
   "execution_count": null,
   "metadata": {
    "hidden": true
   },
   "outputs": [],
   "source": [
    "getattr(clba,'collate_fn',None)"
   ]
  },
  {
   "cell_type": "code",
   "execution_count": null,
   "metadata": {
    "hidden": true
   },
   "outputs": [],
   "source": [
    "clba_loader = data.DataLoader(clba,batch_size=10,num_workers=0,shuffle=False)\n",
    "clba_batch=next(iter(clba_loader))"
   ]
  },
  {
   "cell_type": "code",
   "execution_count": null,
   "metadata": {
    "hidden": true
   },
   "outputs": [],
   "source": [
    "print(clba_batch[0].shape)       # the images tensor\n",
    "print(clba_batch[1].shape)       # the labels (attributes) tensor\n"
   ]
  },
  {
   "cell_type": "code",
   "execution_count": null,
   "metadata": {
    "hidden": true
   },
   "outputs": [],
   "source": [
    "print(len(clba.attr_names))\n",
    "clba.attr_names"
   ]
  },
  {
   "cell_type": "code",
   "execution_count": null,
   "metadata": {
    "hidden": true
   },
   "outputs": [],
   "source": [
    "clba_batch[0].std()"
   ]
  },
  {
   "cell_type": "markdown",
   "metadata": {
    "hidden": true
   },
   "source": [
    "it looks like the only normalization they have applied is scaling s.t. the value of the pixels are in [0,1]. they havent normalized it to `mean=0 , stdev=1`"
   ]
  },
  {
   "cell_type": "code",
   "execution_count": null,
   "metadata": {
    "hidden": true
   },
   "outputs": [],
   "source": [
    "T.ToPILImage()(clba_batch[0][1])"
   ]
  },
  {
   "cell_type": "code",
   "execution_count": null,
   "metadata": {
    "hidden": true
   },
   "outputs": [],
   "source": [
    "clba_batch[1][0].shape"
   ]
  },
  {
   "cell_type": "code",
   "execution_count": null,
   "metadata": {
    "hidden": true
   },
   "outputs": [],
   "source": [
    "clba_batch[1][0]"
   ]
  },
  {
   "cell_type": "markdown",
   "metadata": {
    "heading_collapsed": true
   },
   "source": [
    "## DeepFashion-MultiModal"
   ]
  },
  {
   "cell_type": "code",
   "execution_count": null,
   "metadata": {
    "hidden": true
   },
   "outputs": [],
   "source": [
    "dfmm_path = '/home/guy/sd1tb/datasets/deep_fashion/DeepFashion-MultiModal/images'\n",
    "imgs_filenames=os.listdir(dfmm_path)\n",
    "len(imgs_filenames)\n"
   ]
  },
  {
   "cell_type": "code",
   "execution_count": null,
   "metadata": {
    "hidden": true
   },
   "outputs": [],
   "source": [
    "imsz = [Image.open(os.path.join(dfmm_path,im)).size for im in imgs_filenames]\n",
    "imgs = [Image.open(os.path.join(dfmm_path,im)) for im in imgs_filenames[100:110]]\n",
    "# plt.imshow(img)"
   ]
  },
  {
   "cell_type": "code",
   "execution_count": null,
   "metadata": {
    "hidden": true
   },
   "outputs": [],
   "source": [
    "np.all([s==imsz[0] for s in imsz])"
   ]
  },
  {
   "cell_type": "code",
   "execution_count": null,
   "metadata": {
    "hidden": true
   },
   "outputs": [],
   "source": [
    "[s for s in imsz if s != imsz[0] ]"
   ]
  },
  {
   "cell_type": "code",
   "execution_count": null,
   "metadata": {
    "hidden": true
   },
   "outputs": [],
   "source": [
    "df=pd.DataFrame(imsz,columns=['x','y'])\n",
    "df['new_col'] = list(zip(df.x, df.y))\n",
    "df.head()"
   ]
  },
  {
   "cell_type": "code",
   "execution_count": null,
   "metadata": {
    "hidden": true
   },
   "outputs": [],
   "source": [
    "df.new_col.value_counts()"
   ]
  },
  {
   "cell_type": "code",
   "execution_count": null,
   "metadata": {
    "hidden": true
   },
   "outputs": [],
   "source": [
    "# resize the images with a limit on each axis size, while maintaining aspect ratio\n",
    "size=(256,256)\n",
    "[i.thumbnail(size) for i in imgs]\n",
    "[im.size for im in imgs]"
   ]
  },
  {
   "cell_type": "code",
   "execution_count": null,
   "metadata": {
    "hidden": true
   },
   "outputs": [],
   "source": [
    "[im.size for im in imgs]"
   ]
  },
  {
   "cell_type": "markdown",
   "metadata": {
    "heading_collapsed": true
   },
   "source": [
    "## Text2Human Processed dataset"
   ]
  },
  {
   "cell_type": "code",
   "execution_count": null,
   "metadata": {
    "hidden": true
   },
   "outputs": [],
   "source": [
    "t2h_path = '/home/guy/sd1tb/datasets/deep_fashion/Text2Human/train_images'\n",
    "imgs_filenames=os.listdir(t2h_path)\n",
    "len(imgs_filenames)\n"
   ]
  },
  {
   "cell_type": "code",
   "execution_count": null,
   "metadata": {
    "hidden": true
   },
   "outputs": [],
   "source": [
    "# extract image sizes and make sure they all at sime size\n",
    "t2h_imsz = [Image.open(os.path.join(t2h_path,im)).size for im in imgs_filenames]\n",
    "np.all([s==t2h_imsz[0] for s in t2h_imsz])"
   ]
  },
  {
   "cell_type": "code",
   "execution_count": null,
   "metadata": {
    "hidden": true
   },
   "outputs": [],
   "source": [
    "t2h_imsz[0]"
   ]
  },
  {
   "cell_type": "code",
   "execution_count": null,
   "metadata": {
    "hidden": true
   },
   "outputs": [],
   "source": [
    "imgs = [Image.open(os.path.join(t2h_path,im)) for im in imgs_filenames[:20]]\n"
   ]
  },
  {
   "cell_type": "code",
   "execution_count": null,
   "metadata": {
    "hidden": true
   },
   "outputs": [],
   "source": [
    "size"
   ]
  },
  {
   "cell_type": "code",
   "execution_count": null,
   "metadata": {
    "hidden": true
   },
   "outputs": [],
   "source": [
    "size=(256,256)\n",
    "imgs_tn=imgs.copy()\n",
    "[i.thumbnail(size) for i in imgs_tn]\n",
    "image_grid(imgs_tn,4,5)"
   ]
  },
  {
   "cell_type": "markdown",
   "metadata": {
    "heading_collapsed": true
   },
   "source": [
    "## DeepFashion - Fashion Synthesis Benchmark"
   ]
  },
  {
   "cell_type": "code",
   "execution_count": null,
   "metadata": {
    "hidden": true
   },
   "outputs": [],
   "source": [
    "import h5py"
   ]
  },
  {
   "cell_type": "code",
   "execution_count": null,
   "metadata": {
    "hidden": true
   },
   "outputs": [],
   "source": [
    "f = h5py.File('/home/guy/sd1tb/datasets/deep_fashion/G2.h5','r')\n",
    "for k in f.keys():\n",
    "    print(k)\n",
    "    print(type(f[k]))"
   ]
  },
  {
   "cell_type": "code",
   "execution_count": null,
   "metadata": {
    "hidden": true
   },
   "outputs": [],
   "source": [
    "b=f['b_']\n",
    "for k in b.keys():\n",
    "    print(k)"
   ]
  },
  {
   "cell_type": "markdown",
   "metadata": {
    "heading_collapsed": true
   },
   "source": [
    "## DeepFashion In-Shop Clothes Retrieval\n",
    "\n",
    "- Images (Img/img.zip):   52,712 in-shop clothes images (~200,000 cross-pose/scale pairs).\n",
    "    - Images are centered and resized to 256*256;\n",
    "    - The aspect ratios of original images are kept unchanged\n",
    "- Bounding Box Annotations (Anno/list_bbox_inshop.txt)\n",
    "- Fashion Landmark Annotations (Anno/list_landmarks_inshop.txt)\n",
    "- Item Annotations (Anno/list_item_inshop.txt)\n",
    "- Description Annotations (Anno/list_description_inshop.json)\n",
    "- Attribute Annotations (Anno/attributes/list_attr_cloth.txt & Anno/attributes/list_attr_items.txt & Anno/attributes/list_color_cloth.txt)\n",
    "- Segmentation Mask Annotations (Anno/segmentation/DeepFashion_instances_train.json & Anno/segmentation/DeepFashion_instances_query.json & Anno/segmentation/DeepFashion_instances_gallery.json)\n",
    "- Dense Pose Annotations (Anno/densepose/img_iuv.zip)\n",
    "- Evaluation Partitions (Eval/list_eval_partition.txt)\n"
   ]
  },
  {
   "cell_type": "code",
   "execution_count": null,
   "metadata": {
    "hidden": true
   },
   "outputs": [],
   "source": [
    "if os.uname()[1]=='guy-x':\n",
    "    dataset_path = '/home/guy/sd1tb/datasets/deep_fashion/DeepFashion/In-shop Clothes Retrieval Benchmark'\n",
    "else:   # assuming gpu15\n",
    "    dataset_path = '/data/users/gkoren2/datasets/DeepFashion/In-shop-Clothes-Retrieval/In-shop Clothes Retrieval Benchmark' # gpu15\n",
    "\n",
    "print(f\"assuming we're on {os.uname()[1]} so data is in {dataset_path}\")\n",
    "\n",
    "# os.listdir(dataset_path)\n",
    "!tree '{dataset_path}' -L 3"
   ]
  },
  {
   "cell_type": "markdown",
   "metadata": {
    "heading_collapsed": true,
    "hidden": true
   },
   "source": [
    "### Exploration"
   ]
  },
  {
   "cell_type": "markdown",
   "metadata": {
    "hidden": true
   },
   "source": [
    "#### Annotations"
   ]
  },
  {
   "cell_type": "code",
   "execution_count": null,
   "metadata": {
    "hidden": true
   },
   "outputs": [],
   "source": [
    "anno_filename = os.path.join(dataset_path,'Anno','list_item_inshop.txt')\n",
    "with open(anno_filename,'r') as f:\n",
    "    item_list=f.read().splitlines()\n",
    "\n",
    "len(item_list)"
   ]
  },
  {
   "cell_type": "code",
   "execution_count": null,
   "metadata": {
    "hidden": true
   },
   "outputs": [],
   "source": [
    "item_list[:10]"
   ]
  },
  {
   "cell_type": "code",
   "execution_count": null,
   "metadata": {
    "hidden": true
   },
   "outputs": [],
   "source": [
    "anno_filename = os.path.join(dataset_path,'Anno','list_description_inshop.json')\n",
    "with open(anno_filename,'r') as f:\n",
    "    item_desc = json.load(f)\n",
    "desc_df=pd.DataFrame(item_desc)"
   ]
  },
  {
   "cell_type": "code",
   "execution_count": null,
   "metadata": {
    "hidden": true
   },
   "outputs": [],
   "source": [
    "desc_df.head()"
   ]
  },
  {
   "cell_type": "code",
   "execution_count": null,
   "metadata": {
    "hidden": true
   },
   "outputs": [],
   "source": [
    "desc_df.item.value_counts()"
   ]
  },
  {
   "cell_type": "code",
   "execution_count": null,
   "metadata": {
    "hidden": true
   },
   "outputs": [],
   "source": [
    "desc_df.loc[desc_df['item']=='id_00000001',:]"
   ]
  },
  {
   "cell_type": "code",
   "execution_count": null,
   "metadata": {
    "hidden": true
   },
   "outputs": [],
   "source": [
    "anno_filename = os.path.join(dataset_path,'Anno','attributes','list_attr_cloth.txt')\n",
    "with open(anno_filename,'r') as f:\n",
    "    attr_cloth=f.read().splitlines()\n",
    "attr_cloth = attr_cloth[2:]\n",
    "len(attr_cloth)"
   ]
  },
  {
   "cell_type": "code",
   "execution_count": null,
   "metadata": {
    "hidden": true
   },
   "outputs": [],
   "source": [
    "attr_cloth[:10]"
   ]
  },
  {
   "cell_type": "code",
   "execution_count": null,
   "metadata": {
    "hidden": true
   },
   "outputs": [],
   "source": [
    "anno_filename = os.path.join(dataset_path,'Anno','attributes','list_attr_items.txt')\n",
    "with open(anno_filename,'r') as f:\n",
    "    attr_items=f.read().splitlines()\n",
    "attr_items=attr_items[2:]\n",
    "attr_items=[i.split() for i in attr_items]\n",
    "attr_items = {i[0]:[int(int(a)>0) for a in i[1:]] for i in attr_items}\n",
    "len(attr_items)"
   ]
  },
  {
   "cell_type": "code",
   "execution_count": null,
   "metadata": {
    "hidden": true
   },
   "outputs": [],
   "source": [
    "print(len(attr_items['id_00000013']))\n",
    "attr_items['id_00000013']"
   ]
  },
  {
   "cell_type": "markdown",
   "metadata": {
    "hidden": true
   },
   "source": [
    "Notes:\n",
    "1. The order of attribute labels accords with the order of attribute names;\n",
    "2. In attribute labels, \"1\" represents positive while \"-1\" represents negative, '0' represents unknown;\n",
    "3. Attribute prediction is treated as a multi-label tagging problem.\n"
   ]
  },
  {
   "cell_type": "code",
   "execution_count": null,
   "metadata": {
    "hidden": true
   },
   "outputs": [],
   "source": [
    "attr_item_desc={i[0]:[attr_cloth[ai] for ai in range(len(attr_cloth)) if i[ai+1]=='1'] for i in attr_items}"
   ]
  },
  {
   "cell_type": "code",
   "execution_count": null,
   "metadata": {
    "hidden": true
   },
   "outputs": [],
   "source": [
    "attr_item_desc['id_00000013']"
   ]
  },
  {
   "cell_type": "code",
   "execution_count": null,
   "metadata": {
    "hidden": true
   },
   "outputs": [],
   "source": [
    "anno_filename = os.path.join(dataset_path,'Anno','attributes','list_color_cloth.txt')\n",
    "with open(anno_filename,'r') as f:\n",
    "    color_cloth=f.read().splitlines()\n",
    "\n",
    "len(color_cloth)"
   ]
  },
  {
   "cell_type": "code",
   "execution_count": null,
   "metadata": {
    "hidden": true
   },
   "outputs": [],
   "source": [
    "color_cloth[:10]"
   ]
  },
  {
   "cell_type": "markdown",
   "metadata": {
    "hidden": true
   },
   "source": [
    "#### Eval partitions"
   ]
  },
  {
   "cell_type": "code",
   "execution_count": null,
   "metadata": {
    "hidden": true
   },
   "outputs": [],
   "source": [
    "eval_part_filename = os.path.join(dataset_path,'Eval','list_eval_partition.txt')\n",
    "with open(eval_part_filename,'r') as f:\n",
    "    eval_part_list=f.read().splitlines()\n",
    "eval_part_list=eval_part_list[2:]\n",
    "eval_part_list=[i.split() for i in eval_part_list]\n",
    "eval_part_list = {i[1]:i[2] for i in eval_part_list}\n"
   ]
  },
  {
   "cell_type": "code",
   "execution_count": null,
   "metadata": {
    "hidden": true
   },
   "outputs": [],
   "source": [
    "pd.DataFrame(eval_part_list.values()).value_counts()"
   ]
  },
  {
   "cell_type": "code",
   "execution_count": null,
   "metadata": {
    "hidden": true
   },
   "outputs": [],
   "source": [
    "epl0=eval_part_list[2]\n",
    "epl0.split()"
   ]
  },
  {
   "cell_type": "markdown",
   "metadata": {
    "hidden": true
   },
   "source": [
    "#### Images"
   ]
  },
  {
   "cell_type": "markdown",
   "metadata": {
    "hidden": true
   },
   "source": [
    "##### explore"
   ]
  },
  {
   "cell_type": "code",
   "execution_count": null,
   "metadata": {
    "hidden": true
   },
   "outputs": [],
   "source": [
    "! tree \"{os.path.join(dataset_path,'Img/img')}\" -L 2"
   ]
  },
  {
   "cell_type": "code",
   "execution_count": null,
   "metadata": {
    "hidden": true
   },
   "outputs": [],
   "source": [
    "img_fn=[i for i in Glob(f'{dataset_path}/Img/**/*.jpg',recursive=True)] #  if 'side' in i]\n",
    "len(img_fn)"
   ]
  },
  {
   "cell_type": "code",
   "execution_count": null,
   "metadata": {
    "hidden": true
   },
   "outputs": [],
   "source": [
    "# base name\n",
    "img_bn=[s.split('img')[1] for s in img_fn]\n",
    "len(img_bn)"
   ]
  },
  {
   "cell_type": "code",
   "execution_count": null,
   "metadata": {
    "hidden": true
   },
   "outputs": [],
   "source": [
    "[f for f in img_fn if 'id_00003321' in f]"
   ]
  },
  {
   "cell_type": "code",
   "execution_count": null,
   "metadata": {
    "hidden": true
   },
   "outputs": [],
   "source": [
    "! tree \"{os.path.join(os.path.dirname(dataset_path),'img_highres')}\" -L 2"
   ]
  },
  {
   "cell_type": "code",
   "execution_count": null,
   "metadata": {
    "hidden": true
   },
   "outputs": [],
   "source": [
    "img_hres_fn = [i for i in Glob(f\"{os.path.join(os.path.dirname(dataset_path),'img_highres')}/**/*.jpg\",recursive=True)]\n",
    "len(img_hres_fn)"
   ]
  },
  {
   "cell_type": "code",
   "execution_count": null,
   "metadata": {
    "hidden": true
   },
   "outputs": [],
   "source": [
    "img_hres_fn[:10]"
   ]
  },
  {
   "cell_type": "code",
   "execution_count": null,
   "metadata": {
    "hidden": true
   },
   "outputs": [],
   "source": [
    "img_hres_bn=[s.split('img_highres')[1] for s in img_hres_fn]\n",
    "len(img_hres_bn)"
   ]
  },
  {
   "cell_type": "code",
   "execution_count": null,
   "metadata": {
    "hidden": true
   },
   "outputs": [],
   "source": [
    "# comapre the names - make sure we have exact copy of each image as highres\n",
    "np.all(np.array(img_bn)==np.array(img_hres_bn))"
   ]
  },
  {
   "cell_type": "code",
   "execution_count": null,
   "metadata": {
    "hidden": true
   },
   "outputs": [],
   "source": [
    "# lets see an image and its highres variant\n",
    "img_id = 2345\n",
    "img = Image.open(img_fn[img_id])\n",
    "img_hres=Image.open(img_hres_fn[img_id])\n",
    "print(f'{img.size} , {img_hres.size}')\n"
   ]
  },
  {
   "cell_type": "markdown",
   "metadata": {
    "hidden": true
   },
   "source": [
    "we'll ignore the high res images. look only at the low res"
   ]
  },
  {
   "cell_type": "markdown",
   "metadata": {
    "hidden": true
   },
   "source": [
    "##### get item images"
   ]
  },
  {
   "cell_type": "code",
   "execution_count": null,
   "metadata": {
    "hidden": true
   },
   "outputs": [],
   "source": [
    "img_fn=[i for i in Glob(f'{dataset_path}/Img/**/*.jpg',recursive=True)] #  if 'side' in i]\n",
    "img_hres_fn = [i for i in Glob(f\"{os.path.join(os.path.dirname(dataset_path),'img_highres')}/**/*.jpg\",recursive=True)]"
   ]
  },
  {
   "cell_type": "code",
   "execution_count": null,
   "metadata": {
    "hidden": true
   },
   "outputs": [],
   "source": [
    "def get_item_images(item_id,hres=False):\n",
    "    img_fns=img_hres_fn if hres else img_fn\n",
    "    img_filenames = [f for f in img_fns if item_id in f]\n",
    "    if len(img_filenames)==0:\n",
    "        print(f'item {item_id} not found')\n",
    "        return None\n",
    "    else:\n",
    "        imgs = {os.path.basename(f):Image.open(f) for f in img_filenames}\n",
    "        print(f'found {len(imgs)} for item {item_id}')\n",
    "        return imgs"
   ]
  },
  {
   "cell_type": "code",
   "execution_count": null,
   "metadata": {
    "hidden": true
   },
   "outputs": [],
   "source": [
    "imgs = get_item_images('id_00000002',False)\n",
    "imgs"
   ]
  },
  {
   "cell_type": "code",
   "execution_count": null,
   "metadata": {
    "hidden": true
   },
   "outputs": [],
   "source": [
    "image_grid(list(imgs.values()),2,2)"
   ]
  },
  {
   "cell_type": "code",
   "execution_count": null,
   "metadata": {
    "hidden": true
   },
   "outputs": [],
   "source": [
    "# get image stats\n",
    "img_indxs = [i for i in range(len(img_fn))]\n",
    "avg_img = np.zeros_like(Image.open(img_fn[0]),dtype=np.float64)\n",
    "for i,idx in enumerate(img_indxs):\n",
    "    img=Image.open(img_fn[idx])\n",
    "    avg_img+=np.asarray(img)\n",
    "avg_img = avg_img/len(img_indxs)\n",
    "# Image.fromarray(np.uint8(avg_img))"
   ]
  },
  {
   "cell_type": "code",
   "execution_count": null,
   "metadata": {
    "hidden": true
   },
   "outputs": [],
   "source": [
    "len(img_fn)"
   ]
  },
  {
   "cell_type": "code",
   "execution_count": null,
   "metadata": {
    "hidden": true
   },
   "outputs": [],
   "source": [
    "img_fn[:10]"
   ]
  },
  {
   "cell_type": "code",
   "execution_count": null,
   "metadata": {
    "hidden": true
   },
   "outputs": [],
   "source": [
    "img_fn[0].split('/')[-2]"
   ]
  },
  {
   "cell_type": "code",
   "execution_count": null,
   "metadata": {
    "hidden": true
   },
   "outputs": [],
   "source": [
    "avg_img.shape"
   ]
  },
  {
   "cell_type": "code",
   "execution_count": null,
   "metadata": {
    "hidden": true
   },
   "outputs": [],
   "source": [
    "avg_img[:,:,0].mean()/255"
   ]
  },
  {
   "cell_type": "code",
   "execution_count": null,
   "metadata": {
    "hidden": true
   },
   "outputs": [],
   "source": [
    "ai1=avg_img.reshape([-1,3]).mean(axis=0)/255\n",
    "ai1"
   ]
  },
  {
   "cell_type": "code",
   "execution_count": null,
   "metadata": {
    "hidden": true
   },
   "outputs": [],
   "source": [
    "ai1-np.array([0.485, 0.456, 0.406])/np.array([0.229, 0.224, 0.225])"
   ]
  },
  {
   "cell_type": "markdown",
   "metadata": {
    "heading_collapsed": true,
    "hidden": true
   },
   "source": [
    "### Preprocess"
   ]
  },
  {
   "cell_type": "code",
   "execution_count": null,
   "metadata": {
    "hidden": true
   },
   "outputs": [],
   "source": [
    "# TODO"
   ]
  },
  {
   "cell_type": "markdown",
   "metadata": {},
   "source": [
    "## DeepFashion - Category and Attribute Prediction\n",
    "\n",
    "- Images (Img/img.zip):  289,222 diverse clothes images. \n",
    "    - The long side of images are resized to 300;\n",
    "    - The aspect ratios of original images are kept unchanged.\n",
    "- Bounding Box Annotations (Anno/list_bbox.txt) bounding box labels. \n",
    "- Fashion Landmark Annotations (Anno/list_landmarks.txt) fashion landmark labels\n",
    "- Category Annotations (Anno/list_category_cloth.txt & Anno/list_category_img.txt) clothing category labels. \n",
    "- Attribute Annotations (Anno/list_attr_cloth.txt & Anno/list_attr_img.txt) clothing attribute labels. \n",
    "- Evaluation Partitions (Eval/list_eval_partition.txt) image names for training, validation and testing set respectively.\n"
   ]
  },
  {
   "cell_type": "code",
   "execution_count": 3,
   "metadata": {
    "ExecuteTime": {
     "end_time": "2022-11-30T17:01:37.350804Z",
     "start_time": "2022-11-30T17:01:37.209053Z"
    },
    "collapsed": true
   },
   "outputs": [
    {
     "name": "stdout",
     "output_type": "stream",
     "text": [
      "assuming we're on guy-x so data is in /home/guy/sd1tb/datasets/deep_fashion/DeepFashion/Category and Attribute Prediction Benchmark\n",
      "/bin/bash: /home/guy/anaconda3/envs/dis_ir/lib/libtinfo.so.6: no version information available (required by /bin/bash)\r\n",
      "\u001b[01;34m/home/guy/sd1tb/datasets/deep_fashion/DeepFashion/Category and Attribute Prediction Benchmark\u001b[00m\r\n",
      "├── \u001b[01;34mAnno_coarse\u001b[00m\r\n",
      "│   ├── list_attr_cloth.txt\r\n",
      "│   ├── list_attr_img.txt\r\n",
      "│   ├── list_bbox.txt\r\n",
      "│   ├── list_category_cloth.txt\r\n",
      "│   ├── list_category_img.txt\r\n",
      "│   └── list_landmarks.txt\r\n",
      "├── \u001b[01;34mAnno_fine\u001b[00m\r\n",
      "│   ├── list_attr_cloth.txt\r\n",
      "│   ├── list_attr_img.txt\r\n",
      "│   ├── list_category_cloth.txt\r\n",
      "│   ├── test_attr.txt\r\n",
      "│   ├── test_bbox.txt\r\n",
      "│   ├── test_cate.txt\r\n",
      "│   ├── test_landmarks.txt\r\n",
      "│   ├── test.txt\r\n",
      "│   ├── train_attr.txt\r\n",
      "│   ├── train_bbox.txt\r\n",
      "│   ├── train_cate.txt\r\n",
      "│   ├── train_landmarks.txt\r\n",
      "│   ├── train.txt\r\n",
      "│   ├── val_attr.txt\r\n",
      "│   ├── val_bbox.txt\r\n",
      "│   ├── val_cate.txt\r\n",
      "│   ├── val_landmarks.txt\r\n",
      "│   └── val.txt\r\n",
      "├── \u001b[01;34mEval\u001b[00m\r\n",
      "│   └── list_eval_partition.txt\r\n",
      "├── \u001b[01;34mImg\u001b[00m\r\n",
      "│   ├── \u001b[01;34mimg\u001b[00m\r\n",
      "│   ├── \u001b[01;31mimg-001.zip\u001b[00m\r\n",
      "│   └── \u001b[01;31mimg_highres-002.zip\u001b[00m\r\n",
      "└── README.txt\r\n",
      "\r\n",
      "5 directories, 28 files\r\n"
     ]
    }
   ],
   "source": [
    "if os.uname()[1]=='guy-x':\n",
    "    dataset_path = '/home/guy/sd1tb/datasets/deep_fashion/DeepFashion/Category and Attribute Prediction Benchmark'\n",
    "else:   # assuming gpu15\n",
    "    dataset_path = '/data/users/gkoren2/datasets/DeepFashion/Category-and-Attribute-Prediction' # gpu15\n",
    "\n",
    "print(f\"assuming we're on {os.uname()[1]} so data is in {dataset_path}\")\n",
    "\n",
    "# os.listdir(dataset_path)\n",
    "!tree '{dataset_path}' -L 2"
   ]
  },
  {
   "cell_type": "markdown",
   "metadata": {},
   "source": [
    "### Exploration"
   ]
  },
  {
   "cell_type": "markdown",
   "metadata": {
    "heading_collapsed": true
   },
   "source": [
    "#### Annotations"
   ]
  },
  {
   "cell_type": "markdown",
   "metadata": {
    "hidden": true
   },
   "source": [
    "##### Coarse"
   ]
  },
  {
   "cell_type": "code",
   "execution_count": null,
   "metadata": {
    "ExecuteTime": {
     "end_time": "2022-11-29T12:30:03.612598Z",
     "start_time": "2022-11-29T12:30:03.606527Z"
    },
    "hidden": true
   },
   "outputs": [],
   "source": [
    "anno_path = os.path.join(dataset_path,'Anno_coarse')"
   ]
  },
  {
   "cell_type": "markdown",
   "metadata": {
    "heading_collapsed": true,
    "hidden": true
   },
   "source": [
    "###### **list_attr_cloth.txt** and **list_attr_img.txt**"
   ]
  },
  {
   "cell_type": "code",
   "execution_count": null,
   "metadata": {
    "ExecuteTime": {
     "end_time": "2022-11-25T15:15:28.466808Z",
     "start_time": "2022-11-25T15:15:28.419232Z"
    },
    "hidden": true
   },
   "outputs": [],
   "source": [
    "anno_filename = os.path.join(anno_path,'list_attr_cloth.txt')\n",
    "with open(anno_filename,'r') as f:\n",
    "    attr_cloth=f.read().splitlines()\n",
    "cols=attr_cloth[1].split()\n",
    "attr_cloth=attr_cloth[2:]\n",
    "\n",
    "attr_cloth_df = pd.DataFrame.from_dict({i: {cols[0]:attr_cloth[i].rstrip('  0123456789'),cols[1]:int(attr_cloth[i].split()[-1])} for i in range(len(attr_cloth))},orient='index')\n",
    "attr_cloth_df.head()"
   ]
  },
  {
   "cell_type": "markdown",
   "metadata": {
    "hidden": true
   },
   "source": [
    "it looks like there are 1000 attributes categorized to 5 groups (1 to 5). not clear what are these groups"
   ]
  },
  {
   "cell_type": "code",
   "execution_count": null,
   "metadata": {
    "ExecuteTime": {
     "end_time": "2022-11-25T15:15:36.556629Z",
     "start_time": "2022-11-25T15:15:36.538381Z"
    },
    "hidden": true
   },
   "outputs": [],
   "source": [
    "attr_cloth_df['attribute_type'].value_counts()"
   ]
  },
  {
   "cell_type": "code",
   "execution_count": null,
   "metadata": {
    "ExecuteTime": {
     "end_time": "2022-11-25T15:16:57.276910Z",
     "start_time": "2022-11-25T15:15:45.351726Z"
    },
    "hidden": true
   },
   "outputs": [],
   "source": [
    "anno_filename = os.path.join(anno_path,'list_attr_img.txt')\n",
    "with open(anno_filename,'r') as f:\n",
    "    attr_img=f.read().splitlines()\n",
    "cols=attr_img[1].split()\n",
    "attr_img=attr_img[2:]\n",
    "attr_img=[i.split() for i in attr_img]\n",
    "attr_img = {i[0]:[int(int(a)>0) for a in i[1:]] for i in attr_img}\n",
    "len(attr_img)"
   ]
  },
  {
   "cell_type": "code",
   "execution_count": null,
   "metadata": {
    "ExecuteTime": {
     "end_time": "2022-11-25T15:18:16.444020Z",
     "start_time": "2022-11-25T15:17:56.280324Z"
    },
    "hidden": true
   },
   "outputs": [],
   "source": [
    "n_attr = len(attr_cloth_df['attribute_name'].values) \n",
    "attr_item_desc={i:[attr_cloth_df['attribute_name'].values[ai] for ai in range(n_attr) if attr_img[i][ai]==1] for i in tqdm(attr_img)}"
   ]
  },
  {
   "cell_type": "code",
   "execution_count": null,
   "metadata": {
    "hidden": true
   },
   "outputs": [],
   "source": [
    "list(attr_img.keys())[0]"
   ]
  },
  {
   "cell_type": "code",
   "execution_count": null,
   "metadata": {
    "ExecuteTime": {
     "end_time": "2022-11-25T15:18:38.702616Z",
     "start_time": "2022-11-25T15:18:38.649194Z"
    },
    "hidden": true
   },
   "outputs": [],
   "source": [
    "attr_img['img/Sheer_Pleated-Front_Blouse/img_00000001.jpg']"
   ]
  },
  {
   "cell_type": "code",
   "execution_count": null,
   "metadata": {
    "ExecuteTime": {
     "end_time": "2022-11-25T15:18:50.450869Z",
     "start_time": "2022-11-25T15:18:50.439211Z"
    },
    "hidden": true
   },
   "outputs": [],
   "source": [
    "attr_item_desc['img/Sheer_Pleated-Front_Blouse/img_00000012.jpg']"
   ]
  },
  {
   "cell_type": "markdown",
   "metadata": {
    "heading_collapsed": true,
    "hidden": true
   },
   "source": [
    "###### **list_category_cloth.txt** and **list_category_img.txt**"
   ]
  },
  {
   "cell_type": "code",
   "execution_count": null,
   "metadata": {
    "ExecuteTime": {
     "end_time": "2022-11-25T15:22:06.851970Z",
     "start_time": "2022-11-25T15:22:06.821590Z"
    },
    "hidden": true
   },
   "outputs": [],
   "source": [
    "anno_filename = os.path.join(anno_path,'list_category_cloth.txt')\n",
    "with open(anno_filename,'r') as f:\n",
    "    cat_cloth=f.read().splitlines()\n",
    "cols=cat_cloth[1].split()\n",
    "cat_cloth=cat_cloth[2:]\n",
    "\n",
    "cat_cloth_df = pd.DataFrame.from_dict({i: {cols[0]:cat_cloth[i].rstrip('  0123456789'),cols[1]:int(cat_cloth[i].split()[-1])} for i in range(len(cat_cloth))},orient='index')\n",
    "cat_cloth_df.head()"
   ]
  },
  {
   "cell_type": "code",
   "execution_count": null,
   "metadata": {
    "ExecuteTime": {
     "end_time": "2022-11-25T15:22:09.467104Z",
     "start_time": "2022-11-25T15:22:09.452912Z"
    },
    "hidden": true
   },
   "outputs": [],
   "source": [
    "cat_cloth_df['category_type'].value_counts()"
   ]
  },
  {
   "cell_type": "code",
   "execution_count": null,
   "metadata": {
    "ExecuteTime": {
     "end_time": "2022-11-25T15:22:11.822373Z",
     "start_time": "2022-11-25T15:22:11.317049Z"
    },
    "hidden": true
   },
   "outputs": [],
   "source": [
    "anno_filename = os.path.join(anno_path,'list_category_img.txt')\n",
    "with open(anno_filename,'r') as f:\n",
    "    cat_img=f.read().splitlines()\n",
    "cols=cat_img[1].split()\n",
    "cat_img=cat_img[2:]\n",
    "cat_img_df = pd.DataFrame.from_dict({i: {cols[0]:cat_img[i].split()[0],cols[1]:int(cat_img[i].split()[-1])} for i in range(len(cat_img))},orient='index')\n",
    "cat_img_df['category_name']=cat_img_df['category_label'].map(cat_cloth_df['category_name'])\n",
    "cat_img_df.head()"
   ]
  },
  {
   "cell_type": "code",
   "execution_count": null,
   "metadata": {
    "ExecuteTime": {
     "end_time": "2022-11-25T15:22:12.673633Z",
     "start_time": "2022-11-25T15:22:12.655172Z"
    },
    "hidden": true
   },
   "outputs": [],
   "source": [
    "len(cat_img_df['category_label'].value_counts())"
   ]
  },
  {
   "cell_type": "code",
   "execution_count": null,
   "metadata": {
    "ExecuteTime": {
     "end_time": "2022-11-25T15:22:20.361624Z",
     "start_time": "2022-11-25T15:22:20.339752Z"
    },
    "hidden": true
   },
   "outputs": [],
   "source": [
    "cat_img_df['category_name']=cat_img_df['category_label'].map(cat_cloth_df['category_name'])"
   ]
  },
  {
   "cell_type": "code",
   "execution_count": null,
   "metadata": {
    "ExecuteTime": {
     "end_time": "2022-11-25T15:22:22.535100Z",
     "start_time": "2022-11-25T15:22:22.522942Z"
    },
    "hidden": true
   },
   "outputs": [],
   "source": [
    "cat_img_df['image_name'].values"
   ]
  },
  {
   "cell_type": "code",
   "execution_count": null,
   "metadata": {
    "ExecuteTime": {
     "end_time": "2022-11-25T15:22:25.249511Z",
     "start_time": "2022-11-25T15:22:24.676249Z"
    },
    "hidden": true
   },
   "outputs": [],
   "source": [
    "n_cat = len(cat_cloth_df['category_name'].values) \n",
    "cat_item_desc={i:cat_cloth_df['category_name'] for i in tqdm(cat_img)}"
   ]
  },
  {
   "cell_type": "markdown",
   "metadata": {
    "hidden": true
   },
   "source": [
    "###### **list_bbox.list**"
   ]
  },
  {
   "cell_type": "code",
   "execution_count": null,
   "metadata": {
    "ExecuteTime": {
     "end_time": "2022-11-29T12:43:10.602380Z",
     "start_time": "2022-11-29T12:43:09.241062Z"
    },
    "hidden": true
   },
   "outputs": [],
   "source": [
    "anno_filename = os.path.join(anno_path,'list_bbox.txt')\n",
    "with open(anno_filename,'r') as f:\n",
    "    bbox=f.read().splitlines()\n",
    "cols=bbox[1].split()\n",
    "bbox=bbox[2:]\n",
    "bbox=[i.split() for i in bbox]\n",
    "bbox = {i[0]:[int(a) for a in i[1:]] for i in bbox}\n",
    "bbox = pd.DataFrame.from_dict(bbox,orient='index',columns=cols[1:])\n",
    "# check that it is loaded ok\n",
    "# bbox.loc['img/Sheer_Pleated-Front_Blouse/img_00000001.jpg']\n",
    "print(len(bbox))\n",
    "bbox.head()"
   ]
  },
  {
   "cell_type": "markdown",
   "metadata": {
    "heading_collapsed": true,
    "hidden": true
   },
   "source": [
    "##### Fine"
   ]
  },
  {
   "cell_type": "code",
   "execution_count": null,
   "metadata": {
    "hidden": true
   },
   "outputs": [],
   "source": [
    "anno_path = os.path.join(dataset_path,'Anno_fine')\n",
    "os.listdir(anno_path)"
   ]
  },
  {
   "cell_type": "markdown",
   "metadata": {
    "hidden": true
   },
   "source": [
    "**list_attr_cloth.txt** and "
   ]
  },
  {
   "cell_type": "code",
   "execution_count": null,
   "metadata": {
    "hidden": true
   },
   "outputs": [],
   "source": [
    "anno_filename = os.path.join(anno_path,'list_attr_cloth.txt')\n",
    "with open(anno_filename,'r') as f:\n",
    "    fine_attr_cloth=f.read().splitlines()\n",
    "cols=fine_attr_cloth[1].split()\n",
    "fine_attr_cloth=fine_attr_cloth[2:]\n",
    "\n",
    "fine_attr_cloth_df = pd.DataFrame.from_dict({i: {cols[0]:fine_attr_cloth[i].rstrip('  0123456789'),cols[1]:int(fine_attr_cloth[i].split()[-1])} for i in range(len(fine_attr_cloth))},orient='index')\n",
    "fine_attr_cloth_df.head()"
   ]
  },
  {
   "cell_type": "code",
   "execution_count": null,
   "metadata": {
    "hidden": true
   },
   "outputs": [],
   "source": [
    "len(fine_attr_cloth_df)"
   ]
  },
  {
   "cell_type": "markdown",
   "metadata": {
    "hidden": true
   },
   "source": [
    "for some reason, in the fine annotation we have only 26 attributes (vs 1000 we had in the coarse)\n",
    "and there are some attributes in the fine annotation that are not in the 1000 attributes of the coarse. lets see what are they:"
   ]
  },
  {
   "cell_type": "code",
   "execution_count": null,
   "metadata": {
    "hidden": true
   },
   "outputs": [],
   "source": [
    "attr_diff=set(fine_attr_cloth_df['attribute_name'].values).difference(attr_cloth_df['attribute_name'].values)\n",
    "attr_diff"
   ]
  },
  {
   "cell_type": "markdown",
   "metadata": {
    "heading_collapsed": true
   },
   "source": [
    "#### Images"
   ]
  },
  {
   "cell_type": "code",
   "execution_count": null,
   "metadata": {
    "ExecuteTime": {
     "end_time": "2022-11-29T12:44:40.495042Z",
     "start_time": "2022-11-29T12:44:37.589400Z"
    },
    "hidden": true
   },
   "outputs": [],
   "source": [
    "img_fn=[i for i in Glob(f'{dataset_path}/Img/img/**/*.jpg',recursive=True)] #  if 'side' in i]\n",
    "# img_hres_fn = [i for i in Glob(f\"{os.path.join(dataset_path,'img_highres')}/**/*.jpg\",recursive=True)]\n",
    "\n",
    "print(len(img_fn))\n",
    "# print(len(img_hres_fn))"
   ]
  },
  {
   "cell_type": "code",
   "execution_count": null,
   "metadata": {
    "ExecuteTime": {
     "end_time": "2022-11-25T15:23:52.577300Z",
     "start_time": "2022-11-25T15:23:52.489171Z"
    },
    "hidden": true
   },
   "outputs": [],
   "source": [
    "# 'img/Mid-Rise_-_Acid_Wash_Skinny_Jeans/img_00000010.jpg' in img_fn\n",
    "np.any(['img/Mid-Rise_-_Acid_Wash_Skinny_Jeans/img_00000010.jpg' in i for i in img_fn])"
   ]
  },
  {
   "cell_type": "code",
   "execution_count": null,
   "metadata": {
    "ExecuteTime": {
     "end_time": "2022-11-29T12:47:44.627772Z",
     "start_time": "2022-11-29T12:47:44.616640Z"
    },
    "hidden": true
   },
   "outputs": [],
   "source": [
    "bbox.index[0]"
   ]
  },
  {
   "cell_type": "code",
   "execution_count": null,
   "metadata": {
    "hidden": true
   },
   "outputs": [],
   "source": [
    "img_fn[0].split('Img/')[1]"
   ]
  },
  {
   "cell_type": "code",
   "execution_count": null,
   "metadata": {
    "ExecuteTime": {
     "end_time": "2022-11-29T13:05:29.620583Z",
     "start_time": "2022-11-29T13:05:29.511101Z"
    },
    "hidden": true
   },
   "outputs": [],
   "source": [
    "import cv2\n",
    "def show_img_bbox(imgname):\n",
    "    img=Image.open(imgname)\n",
    "    img = np.array(img)\n",
    "    bb = bbox.loc[imgname.split('Img/')[1]]\n",
    "    img = cv2.rectangle(img,tuple(bb[:2]),tuple(bb[2:]),(255,0,0),2)\n",
    "    return Image.fromarray(img)\n",
    "\n",
    "def crop_img_bbox(imgname,size=256,value=(255,255,255)):\n",
    "    img=Image.open(imgname)\n",
    "    img = np.array(img)\n",
    "    x1,y1,x2,y2 = bbox.loc[imgname.split('Img/')[1]] # x1 y1 x2 y2\n",
    "    w=x2-x1\n",
    "    h=y2-y1\n",
    "    rsz = size/h if h>w else size/w\n",
    "    w=int(w*rsz)\n",
    "    h=int(h*rsz)\n",
    "    new_img = cv2.resize(img[y1:y2,x1:x2],(w,h))\n",
    "    new_img = cv2.copyMakeBorder(new_img,(size-h)//2,(size-h)//2,(size-w)//2,(size-w)//2,cv2.BORDER_CONSTANT,value = (255,255,255))\n",
    "    new_img=Image.fromarray(new_img)    \n",
    "    return new_img"
   ]
  },
  {
   "cell_type": "code",
   "execution_count": null,
   "metadata": {
    "ExecuteTime": {
     "end_time": "2022-11-29T13:05:38.626146Z",
     "start_time": "2022-11-29T13:05:38.592448Z"
    },
    "hidden": true
   },
   "outputs": [],
   "source": [
    "show_img_bbox(img_fn[151])"
   ]
  },
  {
   "cell_type": "code",
   "execution_count": null,
   "metadata": {
    "ExecuteTime": {
     "end_time": "2022-11-29T13:05:48.729590Z",
     "start_time": "2022-11-29T13:05:48.703065Z"
    },
    "hidden": true
   },
   "outputs": [],
   "source": [
    "crop_img_bbox(img_fn[151])"
   ]
  },
  {
   "cell_type": "code",
   "execution_count": null,
   "metadata": {
    "ExecuteTime": {
     "end_time": "2022-11-29T13:06:23.975895Z",
     "start_time": "2022-11-29T13:06:23.964988Z"
    },
    "hidden": true
   },
   "outputs": [],
   "source": [
    "img_fn[0]"
   ]
  },
  {
   "cell_type": "code",
   "execution_count": null,
   "metadata": {
    "ExecuteTime": {
     "end_time": "2022-11-29T13:13:31.014870Z",
     "start_time": "2022-11-29T13:13:31.003076Z"
    },
    "hidden": true
   },
   "outputs": [],
   "source": [
    "img_fn[0].split('Img/')[0]+'Img/preprocessed_'+img_fn[0].split('Img/')[1]"
   ]
  },
  {
   "cell_type": "markdown",
   "metadata": {},
   "source": [
    "### Preprocess\n",
    "The goal is to create a folder that is a duplicate of the original dataset in structure, but where the images are already preprocessed in order to save the time during training.\n",
    "any deterministic operation that doesnt harm any future augmentation should be done in this stage "
   ]
  },
  {
   "cell_type": "markdown",
   "metadata": {},
   "source": [
    "It looks like its better working with the bounding box to make it cleaner for the model. \n",
    "I prefer to process the dataset offline to do the following:\n",
    "- crop the image by the bounding box\n",
    "- resize to (256,256) by doing the following:\n",
    "    - the long dimension of the image is scaled to 256\n",
    "    - the short dimension is scaled with this factor\n",
    "    - padd the short dimension to 256 using white background\n",
    " \n",
    "I will prepare the dataset with the same structure as the original dataset. s.t. I can use all the annotations (attributes) "
   ]
  },
  {
   "cell_type": "code",
   "execution_count": 4,
   "metadata": {
    "ExecuteTime": {
     "end_time": "2022-11-30T17:01:44.692966Z",
     "start_time": "2022-11-30T17:01:44.646211Z"
    }
   },
   "outputs": [],
   "source": [
    "from deep_fashion_utils import *"
   ]
  },
  {
   "cell_type": "code",
   "execution_count": 5,
   "metadata": {
    "ExecuteTime": {
     "end_time": "2022-11-30T17:02:04.132381Z",
     "start_time": "2022-11-30T17:02:03.183170Z"
    }
   },
   "outputs": [
    {
     "name": "stdout",
     "output_type": "stream",
     "text": [
      "found 289229 images, printing first 5:\n"
     ]
    },
    {
     "data": {
      "text/plain": [
       "['/home/guy/sd1tb/datasets/deep_fashion/DeepFashion/Category and Attribute Prediction Benchmark/Img/img/Free_Spirit_Muscle_Tee/img_00000034.jpg',\n",
       " '/home/guy/sd1tb/datasets/deep_fashion/DeepFashion/Category and Attribute Prediction Benchmark/Img/img/Free_Spirit_Muscle_Tee/img_00000039.jpg',\n",
       " '/home/guy/sd1tb/datasets/deep_fashion/DeepFashion/Category and Attribute Prediction Benchmark/Img/img/Free_Spirit_Muscle_Tee/img_00000045.jpg',\n",
       " '/home/guy/sd1tb/datasets/deep_fashion/DeepFashion/Category and Attribute Prediction Benchmark/Img/img/Free_Spirit_Muscle_Tee/img_00000055.jpg',\n",
       " '/home/guy/sd1tb/datasets/deep_fashion/DeepFashion/Category and Attribute Prediction Benchmark/Img/img/Free_Spirit_Muscle_Tee/img_00000037.jpg']"
      ]
     },
     "execution_count": 5,
     "metadata": {},
     "output_type": "execute_result"
    }
   ],
   "source": [
    "# read images\n",
    "img_fn=[i for i in Glob(f'{dataset_path}/Img/img/**/*.jpg',recursive=True)] #  if 'side' in i]\n",
    "print(f'found {len(img_fn)} images, printing first 5:')\n",
    "img_fn[:5]"
   ]
  },
  {
   "cell_type": "code",
   "execution_count": 6,
   "metadata": {
    "ExecuteTime": {
     "end_time": "2022-11-30T17:02:09.209924Z",
     "start_time": "2022-11-30T17:02:07.788596Z"
    }
   },
   "outputs": [
    {
     "data": {
      "text/html": [
       "<div>\n",
       "<style scoped>\n",
       "    .dataframe tbody tr th:only-of-type {\n",
       "        vertical-align: middle;\n",
       "    }\n",
       "\n",
       "    .dataframe tbody tr th {\n",
       "        vertical-align: top;\n",
       "    }\n",
       "\n",
       "    .dataframe thead th {\n",
       "        text-align: right;\n",
       "    }\n",
       "</style>\n",
       "<table border=\"1\" class=\"dataframe\">\n",
       "  <thead>\n",
       "    <tr style=\"text-align: right;\">\n",
       "      <th></th>\n",
       "      <th>x_1</th>\n",
       "      <th>y_1</th>\n",
       "      <th>x_2</th>\n",
       "      <th>y_2</th>\n",
       "    </tr>\n",
       "  </thead>\n",
       "  <tbody>\n",
       "    <tr>\n",
       "      <th>img/Sheer_Pleated-Front_Blouse/img_00000001.jpg</th>\n",
       "      <td>72</td>\n",
       "      <td>79</td>\n",
       "      <td>232</td>\n",
       "      <td>273</td>\n",
       "    </tr>\n",
       "    <tr>\n",
       "      <th>img/Sheer_Pleated-Front_Blouse/img_00000002.jpg</th>\n",
       "      <td>67</td>\n",
       "      <td>59</td>\n",
       "      <td>155</td>\n",
       "      <td>161</td>\n",
       "    </tr>\n",
       "    <tr>\n",
       "      <th>img/Sheer_Pleated-Front_Blouse/img_00000003.jpg</th>\n",
       "      <td>65</td>\n",
       "      <td>65</td>\n",
       "      <td>156</td>\n",
       "      <td>200</td>\n",
       "    </tr>\n",
       "    <tr>\n",
       "      <th>img/Sheer_Pleated-Front_Blouse/img_00000004.jpg</th>\n",
       "      <td>51</td>\n",
       "      <td>62</td>\n",
       "      <td>167</td>\n",
       "      <td>182</td>\n",
       "    </tr>\n",
       "    <tr>\n",
       "      <th>img/Sheer_Pleated-Front_Blouse/img_00000005.jpg</th>\n",
       "      <td>46</td>\n",
       "      <td>88</td>\n",
       "      <td>166</td>\n",
       "      <td>262</td>\n",
       "    </tr>\n",
       "  </tbody>\n",
       "</table>\n",
       "</div>"
      ],
      "text/plain": [
       "                                                 x_1  y_1  x_2  y_2\n",
       "img/Sheer_Pleated-Front_Blouse/img_00000001.jpg   72   79  232  273\n",
       "img/Sheer_Pleated-Front_Blouse/img_00000002.jpg   67   59  155  161\n",
       "img/Sheer_Pleated-Front_Blouse/img_00000003.jpg   65   65  156  200\n",
       "img/Sheer_Pleated-Front_Blouse/img_00000004.jpg   51   62  167  182\n",
       "img/Sheer_Pleated-Front_Blouse/img_00000005.jpg   46   88  166  262"
      ]
     },
     "execution_count": 6,
     "metadata": {},
     "output_type": "execute_result"
    }
   ],
   "source": [
    "# reading the bounding boxes\n",
    "bbox_path = os.path.join(dataset_path,'Anno_coarse','list_bbox.txt')\n",
    "bbox_df=catp_read_bbox_to_df(bbox_path)\n",
    "bbox_df.head()"
   ]
  },
  {
   "cell_type": "code",
   "execution_count": 7,
   "metadata": {
    "ExecuteTime": {
     "end_time": "2022-11-30T17:02:13.461836Z",
     "start_time": "2022-11-30T17:02:13.396861Z"
    }
   },
   "outputs": [
    {
     "data": {
      "image/png": "[encoded data removed]",
      "text/plain": [
       "<PIL.Image.Image image mode=RGB size=256x256 at 0x7FBCDC1687C0>"
      ]
     },
     "execution_count": 7,
     "metadata": {},
     "output_type": "execute_result"
    }
   ],
   "source": [
    "# test before batch processing\n",
    "imgname=img_fn[15]\n",
    "img=crop_img_bbox(imgname,bbox_df.loc[imgname.split('Img/')[1]])\n",
    "# img=crop_img_bbox(imgname,None)\n",
    "img"
   ]
  },
  {
   "cell_type": "code",
   "execution_count": null,
   "metadata": {
    "ExecuteTime": {
     "start_time": "2022-11-30T17:02:20.268Z"
    }
   },
   "outputs": [
    {
     "name": "stdout",
     "output_type": "stream",
     "text": [
      "creating /home/guy/sd1tb/datasets/deep_fashion/DeepFashion/Category and Attribute Prediction Benchmark/Img/preprocessed_img\n"
     ]
    },
    {
     "data": {
      "application/vnd.jupyter.widget-view+json": {
       "model_id": "2ec6001c93114e659f897b3bff604bbe",
       "version_major": 2,
       "version_minor": 0
      },
      "text/plain": [
       "  0%|          | 0/289229 [00:00<?, ?it/s]"
      ]
     },
     "metadata": {},
     "output_type": "display_data"
    },
    {
     "name": "stdout",
     "output_type": "stream",
     "text": [
      "/home/guy/sd1tb/datasets/deep_fashion/DeepFashion/Category and Attribute Prediction Benchmark/Img/img/Buttoned_Collarless_Blouse/img_00000080.jpg:(300, 200)\n"
     ]
    }
   ],
   "source": [
    "# create dst folder\n",
    "dst_folder = os.path.join(dataset_path,'Img','preprocessed_img') \n",
    "print(f'creating {dst_folder}')\n",
    "os.makedirs(dst_folder)\n",
    "\n",
    "# go over all images in the dataset and preprocess using the crop_img_bbox\n",
    "n_missing_boxes=0\n",
    "for img in tqdm(img_fn):\n",
    "    dst_img_fn = img.split('Img/')[0]+'Img/preprocessed_'+img.split('Img/')[1]\n",
    "    dst_img_folder = os.path.dirname(dst_img_fn)\n",
    "    if not os.path.isdir(dst_img_folder):\n",
    "        os.makedirs(dst_img_folder)\n",
    "    try:\n",
    "        bbox = bbox_df.loc[img.split('Img/')[1]]\n",
    "    except KeyError:\n",
    "        n_missing_boxes += 1\n",
    "        print(f'{img}:{np.array(Image.open(img)).shape}')\n",
    "#         bbox=None\n",
    "        continue\n",
    "    dst_img = crop_img_bbox(img,bbox)\n",
    "    dst_img.save(dst_img_fn)\n",
    "\n",
    "    \n",
    "print(f'there are {n_missing_boxes} bboxes missing')"
   ]
  },
  {
   "cell_type": "code",
   "execution_count": null,
   "metadata": {
    "ExecuteTime": {
     "end_time": "2022-11-30T07:30:49.771208Z",
     "start_time": "2022-11-30T07:30:49.669951Z"
    }
   },
   "outputs": [],
   "source": [
    "# debug: find the row with specific index value\n",
    "bbox_df.loc[bbox_df.index.str.contains('Buttoned_Collarless_Blouse/img_00000081.jpg')]"
   ]
  },
  {
   "cell_type": "markdown",
   "metadata": {},
   "source": [
    "# Preparing the dataset\n",
    "The goal is to prepare a dataset class and dataloader that we can use to train the VAE.\n",
    "we can use the code from the `Text2Human` repo\n",
    "\n",
    "here's another [repo](https://github.com/ihciah/deep-fashion-retrieval) that uses the datasets.\n",
    "\n",
    "and here's another repo from the authors of DeepFashion: [mmfashion](https://github.com/open-mmlab/mmfashion)\n",
    "in that repo, look at the [In_shop.py](https://github.com/open-mmlab/mmfashion/blob/master/mmfashion/datasets/In_shop.py) file\n"
   ]
  },
  {
   "cell_type": "code",
   "execution_count": null,
   "metadata": {
    "ExecuteTime": {
     "end_time": "2022-11-30T16:47:57.598755Z",
     "start_time": "2022-11-30T16:47:56.975965Z"
    }
   },
   "outputs": [],
   "source": [
    "import os\n",
    "from glob import glob as Glob\n",
    "import numpy as np\n",
    "import torch\n",
    "import torch.utils.data as data\n",
    "from torchvision.io import read_image\n",
    "from torchvision import transforms as T"
   ]
  },
  {
   "cell_type": "code",
   "execution_count": null,
   "metadata": {
    "ExecuteTime": {
     "end_time": "2022-11-30T16:47:35.016501Z",
     "start_time": "2022-11-30T16:47:34.063327Z"
    }
   },
   "outputs": [],
   "source": [
    "if os.uname()[1]=='guy-x':\n",
    "    dataset_path = '/home/guy/sd1tb/datasets/deep_fashion/DeepFashion/Category and Attribute Prediction Benchmark'\n",
    "#     dataset_path = '/home/guy/sd1tb/datasets/deep_fashion/DeepFashion/In-shop Clothes Retrieval Benchmark'\n",
    "else:   # assuming gpu15\n",
    "    dataset_path = '/data/users/gkoren2/datasets/DeepFashion/Category-and-Attribute-Prediction' # gpu15\n",
    "#     dataset_path = '/data/users/gkoren2/datasets/DeepFashion/In-shop-Clothes-Retrieval/In-shop Clothes Retrieval Benchmark' # gpu15\n",
    "\n",
    "print(f\"assuming we're on {os.uname()[1]} so data is in {dataset_path}\")\n",
    "\n",
    "img_fn=[i for i in Glob(f'{dataset_path}/Img/preprocessed_img/**/*.jpg',recursive=True)]      # Category-and-Attribute-Prediction\n",
    "# img_fn=[i for i in Glob(f'{dataset_path}/Img/**/*.jpg',recursive=True)] #  In-shop-Clothes-Retrieval\n",
    "img_fn[29540:29540+10]"
   ]
  },
  {
   "cell_type": "code",
   "execution_count": null,
   "metadata": {
    "ExecuteTime": {
     "end_time": "2022-11-30T16:56:22.654351Z",
     "start_time": "2022-11-30T16:56:22.621820Z"
    }
   },
   "outputs": [],
   "source": [
    "img_fn[29540:29540+10]"
   ]
  },
  {
   "cell_type": "code",
   "execution_count": null,
   "metadata": {
    "ExecuteTime": {
     "end_time": "2022-11-30T16:55:51.496768Z",
     "start_time": "2022-11-30T16:55:51.454714Z"
    }
   },
   "outputs": [],
   "source": [
    "[np.array(Image.open(f)).shape for f in img_fn[29540:29540+10]]"
   ]
  },
  {
   "cell_type": "code",
   "execution_count": null,
   "metadata": {
    "ExecuteTime": {
     "end_time": "2022-11-30T16:57:26.671468Z",
     "start_time": "2022-11-30T16:57:26.632959Z"
    }
   },
   "outputs": [],
   "source": [
    "Image.open(img_fn[29540])"
   ]
  },
  {
   "cell_type": "code",
   "execution_count": null,
   "metadata": {
    "ExecuteTime": {
     "end_time": "2022-11-30T12:37:53.784264Z",
     "start_time": "2022-11-30T12:37:35.345008Z"
    }
   },
   "outputs": [],
   "source": [
    "imsz={f.split('preprocessed_img/')[1]:Image.open(f).size for f in img_fn}"
   ]
  },
  {
   "cell_type": "markdown",
   "metadata": {},
   "source": [
    "things we'll need to do:\n",
    "- transform to tensor\n",
    "- normalize the dataset\n",
    "\n",
    "we wont do any further adjustments or augmentations at this stage.\n",
    "\n",
    "\n"
   ]
  },
  {
   "cell_type": "code",
   "execution_count": null,
   "metadata": {
    "ExecuteTime": {
     "end_time": "2022-11-30T12:38:41.748324Z",
     "start_time": "2022-11-30T12:38:41.674839Z"
    }
   },
   "outputs": [],
   "source": [
    "imsz"
   ]
  },
  {
   "cell_type": "code",
   "execution_count": null,
   "metadata": {
    "ExecuteTime": {
     "end_time": "2022-11-29T13:33:50.861878Z",
     "start_time": "2022-11-29T13:33:50.832399Z"
    }
   },
   "outputs": [],
   "source": [
    "imgname=img_fn[0]\n",
    "crop_img_bbox(imgname,bbox.loc[imgname.split('Img/')[1]])"
   ]
  },
  {
   "cell_type": "markdown",
   "metadata": {},
   "source": [
    "## Dataset Normalization\n",
    "in order to normalize the dataset, we could either use the pytorch official normalization statistics as derived from ImageNet (see [this discussion](https://stackoverflow.com/questions/58151507/why-pytorch-officially-use-mean-0-485-0-456-0-406-and-std-0-229-0-224-0-2)):  \n",
    "`mean=[0.485, 0.456, 0.406], std=[0.229, 0.224, 0.225])` \n",
    "\n",
    "but we might want to compute the statistics by ourselves as the images in this dataset are not that natural. they all have a clean background.\n",
    "for that, lets define the dataset class without the normalization and then compute its stats"
   ]
  },
  {
   "cell_type": "code",
   "execution_count": null,
   "metadata": {
    "ExecuteTime": {
     "end_time": "2022-11-30T16:48:01.698570Z",
     "start_time": "2022-11-30T16:48:01.623079Z"
    }
   },
   "outputs": [],
   "source": [
    "trn_tfms = T.Compose([\n",
    "#     T.ToPILImage(),\n",
    "    #---------comment out data augmentation------\n",
    "    # T.ColorJitter(brightness=(0.8,1.2), \n",
    "    # contrast=(0.8,1.2), \n",
    "    # saturation=(0.8,1.2), \n",
    "    # hue=0.25),\n",
    "    # T.RandomAffine(5, translate=(0.01,0.1)),\n",
    "    #---------------------------------------------\n",
    "    T.ToTensor(),\n",
    "    # T.Normalize(mean=[0.485, 0.456, 0.406], \n",
    "    #             std=[0.229, 0.224, 0.225]),\n",
    "])\n",
    "\n",
    "val_tfms = T.Compose([\n",
    "#     T.ToPILImage(),\n",
    "    T.ToTensor(),\n",
    "    # T.Normalize(mean=[0.485, 0.456, 0.406], \n",
    "    #             std=[0.229, 0.224, 0.225]),\n",
    "])\n",
    "\n",
    "\n",
    "\n",
    "class DeepFashion(data.Dataset):\n",
    "    \"\"\"DeepFashion dataset.\"\"\"\n",
    "\n",
    "    def __init__(self, files, transform=None):\n",
    "        self.files = files\n",
    "        self.transform = transform\n",
    "\n",
    "    def __len__(self):\n",
    "        return len(self.files)\n",
    "\n",
    "    def __getitem__(self, ix):\n",
    "        fpath = self.files[ix]\n",
    "#         clss = fname(parent(fpath))  # todo: read the label/attributes\n",
    "        img = read_image(fpath)/255.0\n",
    "        # return a dummy label at this stage as it doesnt matter\n",
    "        return img,1\n",
    "\n",
    "    def choose(self):\n",
    "        return self[np.random.randint(len(self))]\n",
    "\n",
    "    # def collate_fn(self, batch):\n",
    "    #     imgs, classes = list(zip(*batch))\n",
    "    #     if self.transform:\n",
    "    #         imgs = [self.transform(img)[None] for img in imgs]\n",
    "    #     classes = [torch.tensor([id2int[clss]]) for clss in classes]\n",
    "    #     imgs, classes = [torch.cat(i).to(device) for i in [imgs, classes]]\n",
    "    #     return imgs, classes\n",
    "\n",
    "    def collate_fn(self, batch):\n",
    "        imgs, classes = list(zip(*batch))\n",
    "        if self.transform:\n",
    "            imgs = [self.transform(img)[None] for img in imgs]\n",
    "        return imgs\n",
    "\n",
    "\n",
    "dataset = DeepFashion(img_fn,trn_tfms)\n",
    "loader = data.DataLoader(dataset,batch_size=10,num_workers=0,shuffle=False)"
   ]
  },
  {
   "cell_type": "code",
   "execution_count": null,
   "metadata": {
    "ExecuteTime": {
     "end_time": "2022-11-30T16:48:06.269943Z",
     "start_time": "2022-11-30T16:48:06.218013Z"
    }
   },
   "outputs": [],
   "source": [
    "batch=next(iter(loader))\n",
    "b,c,h,w=next(iter(loader))[0].shape\n",
    "print(b,c,h,w)"
   ]
  },
  {
   "cell_type": "code",
   "execution_count": null,
   "metadata": {
    "ExecuteTime": {
     "end_time": "2022-11-30T16:48:13.198898Z",
     "start_time": "2022-11-30T16:48:13.161212Z"
    }
   },
   "outputs": [],
   "source": [
    "T.ToPILImage()(batch[0][1])\n"
   ]
  },
  {
   "cell_type": "markdown",
   "metadata": {},
   "source": [
    "once we have the dataset defined we can compute the stats as follows ([reference](https://discuss.pytorch.org/t/computing-the-mean-and-std-of-dataset/34949))"
   ]
  },
  {
   "cell_type": "code",
   "execution_count": null,
   "metadata": {
    "ExecuteTime": {
     "end_time": "2022-11-30T16:50:37.627941Z",
     "start_time": "2022-11-30T16:50:08.471601Z"
    }
   },
   "outputs": [],
   "source": [
    "# get dataset statistics. to be used for normalizing the dataset\n",
    "# h,w=next(iter(loader))[0].shape[2:]\n",
    "mean = 0.0\n",
    "for images, _ in tqdm(loader):\n",
    "    batch_samples = images.size(0) \n",
    "    images = images.view(batch_samples, images.size(1), -1)\n",
    "    mean += images.mean(2).sum(0)\n",
    "mean = mean / len(loader.dataset)\n",
    "\n",
    "var = 0.0\n",
    "for images, _ in tqdm(loader):\n",
    "    batch_samples = images.size(0)\n",
    "    images = images.view(batch_samples, images.size(1), -1)\n",
    "    var += ((images - mean.unsqueeze(1))**2).sum([0,2])\n",
    "std = torch.sqrt(var / (len(loader.dataset)*h*w))\n",
    "\n",
    "\n",
    "print(f'mean:{mean},std:{std}')"
   ]
  },
  {
   "cell_type": "code",
   "execution_count": null,
   "metadata": {},
   "outputs": [],
   "source": []
  },
  {
   "cell_type": "markdown",
   "metadata": {
    "heading_collapsed": true
   },
   "source": [
    "## Dataset Class definition\n",
    "now that we have the dataset statistics we can create a dataset that normalizes appropriately.\n"
   ]
  },
  {
   "cell_type": "code",
   "execution_count": null,
   "metadata": {
    "hidden": true
   },
   "outputs": [],
   "source": [
    "trn_tfms = T.Compose([\n",
    "    T.ToPILImage(),\n",
    "    T.Resize(256),\n",
    "    T.ToTensor(),\n",
    "    # T.Normalize(mean=[0.8323, 0.8108, 0.8040], \n",
    "    #             std=[0.2332, 0.2500, 0.2564]),\n",
    "])\n",
    "\n",
    "val_tfms = T.Compose([\n",
    "    T.ToPILImage(),\n",
    "    T.Resize(256),\n",
    "    T.ToTensor(),\n",
    "    # T.Normalize(mean=[0.8323, 0.8108, 0.8040], \n",
    "    #             std=[0.2332, 0.2500, 0.2564]),\n",
    "])\n",
    "\n",
    "class DeepFashion(data.Dataset):\n",
    "    \"\"\"DeepFashion dataset.\"\"\"\n",
    "\n",
    "    def __init__(self, dataset_path, split='train',transform=None):\n",
    "        self.files=[i for i in Glob(f'{dataset_path}/Img/**/*.jpg',recursive=True)] \n",
    "        # read item attributes:\n",
    "        # the attribute can be the cloth attribute or it can be viewing angle or type of item (based on the folder)\n",
    "        # in the following example, we're taking the cloth attributes (463 attributes)\n",
    "        anno_filename = os.path.join(dataset_path,'Anno','attributes','list_attr_items.txt')\n",
    "        with open(anno_filename,'r') as f:\n",
    "            attr_items=f.read().splitlines()\n",
    "        attr_items=attr_items[2:]\n",
    "        attr_items=[i.split() for i in attr_items]\n",
    "        self.attr_items = {i[0]:[int(int(a)>0) for a in i[1:]] for i in attr_items}\n",
    "        # get attributes names\n",
    "        anno_filename = os.path.join(dataset_path,'Anno','attributes','list_attr_cloth.txt')\n",
    "        with open(anno_filename,'r') as f:\n",
    "            attr_cloth=f.read().splitlines()\n",
    "        self.attr_names = attr_cloth[2:]\n",
    "\n",
    "        # split the dataset and throw the irrelevant part\n",
    "        train_fraction=0.8\n",
    "        train_size = int(train_fraction* len(self.attr_items.keys()))\n",
    "\n",
    "        if split=='train':\n",
    "            self.files = self.files[:train_size]\n",
    "        else:\n",
    "            self.files = self.files[train_size:]\n",
    "\n",
    "        self.transform = transform\n",
    "\n",
    "    def __len__(self):\n",
    "        return len(self.files)\n",
    "\n",
    "    def __getitem__(self, ix):\n",
    "        fpath = self.files[ix]\n",
    "        lbl=self.attr_items[fpath.split('/')[-2]]\n",
    "        img = read_image(fpath)/255.0\n",
    "        return img,lbl\n",
    "\n",
    "    def choose(self):\n",
    "        return self[np.random.randint(len(self))]\n",
    "\n",
    "\n",
    "    def collate_fn(self, batch):\n",
    "        imgs, attrs = list(zip(*batch))\n",
    "        if self.transform:\n",
    "            imgs = [self.transform(img)[None] for img in imgs]\n",
    "        else:\n",
    "            imgs = [img[None] for img in imgs]\n",
    "        attrs=[torch.tensor(a)[None] for a in attrs]\n",
    "        imgs,attrs = [torch.cat(i) for i in [imgs,attrs]]\n",
    "        return imgs,attrs\n",
    "\n",
    "dataset = DeepFashion(dataset_path,'train')\n",
    "loader = data.DataLoader(dataset,batch_size=10,num_workers=0,shuffle=False,collate_fn=dataset.collate_fn)"
   ]
  },
  {
   "cell_type": "code",
   "execution_count": null,
   "metadata": {
    "hidden": true
   },
   "outputs": [],
   "source": [
    "dataset.files[:10]"
   ]
  },
  {
   "cell_type": "code",
   "execution_count": null,
   "metadata": {
    "hidden": true
   },
   "outputs": [],
   "source": [
    "batch=next(iter(loader))\n",
    "b,c,h,w=batch[0].shape\n",
    "print(b,c,h,w)\n",
    "print(batch[1].shape)"
   ]
  },
  {
   "cell_type": "code",
   "execution_count": null,
   "metadata": {
    "hidden": true
   },
   "outputs": [],
   "source": [
    "T.ToPILImage()(batch[0][3])"
   ]
  },
  {
   "cell_type": "code",
   "execution_count": null,
   "metadata": {
    "hidden": true
   },
   "outputs": [],
   "source": [
    "batch[1][0].shape"
   ]
  },
  {
   "cell_type": "markdown",
   "metadata": {
    "hidden": true
   },
   "source": [
    "The following cell presents the InshopDataset as taken from ... (I dont remember)"
   ]
  },
  {
   "cell_type": "code",
   "execution_count": null,
   "metadata": {
    "hidden": true
   },
   "outputs": [],
   "source": [
    "import os\n",
    "import random\n",
    "\n",
    "import numpy as np\n",
    "import torch\n",
    "import torch.nn.parallel\n",
    "import torch.optim\n",
    "import torch.utils.data\n",
    "import torchvision.transforms as transforms\n",
    "from PIL import Image\n",
    "from torch.utils.data.dataset import Dataset\n",
    "\n",
    "class InShopDataset(Dataset):\n",
    "    CLASSES = None\n",
    "\n",
    "    def __init__(self,\n",
    "                 img_path,\n",
    "                 img_file,\n",
    "                 label_file,\n",
    "                 id_file,\n",
    "                 bbox_file,\n",
    "                 landmark_file,\n",
    "                 img_size,\n",
    "                 roi_plane_size=7,\n",
    "                 retrieve=False,\n",
    "                 find_three=False):\n",
    "        self.img_path = img_path\n",
    "        # see https://stackoverflow.com/questions/58151507/why-pytorch-officially-use-mean-0-485-0-456-0-406-and-std-0-229-0-224-0-2\n",
    "        normalize = transforms.Normalize(\n",
    "            mean=[0.485, 0.456, 0.406], std=[0.229, 0.224, 0.225])  # these are imagenet statistics. is this correct for DeepFashion ?\n",
    "        self.transform = transforms.Compose([\n",
    "            transforms.RandomResizedCrop(img_size[0]),\n",
    "            transforms.RandomHorizontalFlip(),\n",
    "            transforms.ToTensor(),\n",
    "            normalize,\n",
    "        ])\n",
    "\n",
    "        # read img names\n",
    "        fp = open(img_file, 'r')\n",
    "        self.img_list = [x.strip() for x in fp]\n",
    "\n",
    "        # collect id\n",
    "        self.ids = []\n",
    "        id_fn = open(id_file).readlines()\n",
    "        self.id2idx, self.idx2id = {}, {}\n",
    "        for idx, line in enumerate(id_fn):\n",
    "            img_id = int(line.strip('\\n'))\n",
    "            self.ids.append(img_id)\n",
    "            self.idx2id[idx] = img_id\n",
    "\n",
    "            if img_id not in self.id2idx:\n",
    "                self.id2idx[img_id] = [idx]\n",
    "            else:\n",
    "                self.id2idx[img_id].append(idx)\n",
    "        fp.close()\n",
    "\n",
    "        # read labels\n",
    "        self.labels = np.loadtxt(label_file, dtype=np.float32)\n",
    "\n",
    "        self.img_size = img_size\n",
    "        self.roi_plane_size = roi_plane_size\n",
    "\n",
    "        # load bbox\n",
    "        if bbox_file:\n",
    "            self.with_bbox = True\n",
    "            self.bboxes = np.loadtxt(bbox_file, usecols=(0, 1, 2, 3))\n",
    "        else:\n",
    "            self.with_bbox = False\n",
    "            self.bboxes = None\n",
    "\n",
    "        # load landmarks\n",
    "        if landmark_file:\n",
    "            self.landmarks = np.loadtxt(landmark_file)\n",
    "        else:\n",
    "            self.landmarks = None\n",
    "\n",
    "        self.find_three = find_three\n",
    "\n",
    "    def get_basic_item(self, idx):\n",
    "        img = Image.open(os.path.join(self.img_path, self.img_list[idx]))\n",
    "        img_id = self.ids[idx]\n",
    "        width, height = img.size\n",
    "\n",
    "        if self.with_bbox:\n",
    "            bbox_cor = self.bboxes[idx]\n",
    "            x1 = max(0, int(bbox_cor[0]) - 20)\n",
    "            y1 = max(0, int(bbox_cor[1]) - 20)\n",
    "            x2 = int(bbox_cor[2]) + 20\n",
    "            y2 = int(bbox_cor[3]) + 20\n",
    "            img = img.crop(box=(x1, y1, x2, y2))\n",
    "\n",
    "        img.thumbnail(self.img_size, Image.ANTIALIAS)\n",
    "        img = img.convert('RGB')\n",
    "\n",
    "        label = torch.from_numpy(self.labels[idx])\n",
    "        landmark = []\n",
    "        # compute the shifted variety\n",
    "\n",
    "        origin_landmark = self.landmarks[idx]\n",
    "        for i, l in enumerate(origin_landmark):\n",
    "            if i % 2 == 0:  # x\n",
    "                l_x = max(0, l - x1)\n",
    "                l_x = float(l_x) / width * self.roi_plane_size\n",
    "                landmark.append(l_x)\n",
    "            else:  # y\n",
    "                l_y = max(0, l - y1)\n",
    "                l_y = float(l_y) / height * self.roi_plane_size\n",
    "                landmark.append(l_y)\n",
    "\n",
    "        landmark = torch.from_numpy(np.array(landmark)).float()\n",
    "        img = self.transform(img)\n",
    "        data = {'img': img, 'landmark': landmark, 'id': img_id, 'attr': label}\n",
    "        return data\n",
    "\n",
    "    def get_three_items(self, idx):\n",
    "        \"\"\"return anchor, positive and negative\n",
    "        \"\"\"\n",
    "        anchor_data = self.get_basic_item(idx)\n",
    "        anchor_id = self.ids[idx]\n",
    "\n",
    "        # get positive example\n",
    "        pos_idxes = self.id2idx[anchor_id]\n",
    "        if len(pos_idxes) == 1:  # just one item\n",
    "            pos_data = anchor_data\n",
    "        else:\n",
    "            random_pos_idx = pos_idxes[random.randint(0, len(pos_idxes) - 1)]\n",
    "            while random_pos_idx == idx:\n",
    "                random_pos_idx = pos_idxes[random.randint(\n",
    "                    0,\n",
    "                    len(pos_idxes) - 1)]\n",
    "            pos_data = self.get_basic_item(random_pos_idx)\n",
    "\n",
    "        # get negative example\n",
    "        id_len = len(self.ids)\n",
    "        random_id = self.ids[random.randint(0, id_len - 1)]\n",
    "        while random_id == anchor_id:\n",
    "            random_id = self.ids[random.randint(0, id_len - 1)]\n",
    "        neg_id = random_id\n",
    "        neg_idxes = self.id2idx[neg_id]\n",
    "        neg_idx = neg_idxes[random.randint(0, len(neg_idxes) - 1)]\n",
    "        neg_data = self.get_basic_item(neg_idx)\n",
    "\n",
    "        # create label for triplet loss\n",
    "        triplet_pos_label = np.float32(1)\n",
    "        triplet_neg_label = np.float32(-1)\n",
    "\n",
    "        data = {\n",
    "            'img': anchor_data['img'],\n",
    "            'landmark': anchor_data['landmark'],\n",
    "            'id': anchor_data['id'],\n",
    "            'attr': anchor_data['attr'],\n",
    "            'pos': pos_data['img'],\n",
    "            'neg': neg_data['img'],\n",
    "            'pos_lm': pos_data['landmark'],\n",
    "            'neg_lm': neg_data['landmark'],\n",
    "            'triplet_pos_label': triplet_pos_label,\n",
    "            'triplet_neg_label': triplet_neg_label\n",
    "        }\n",
    "        return data\n",
    "\n",
    "    def __getitem__(self, idx):\n",
    "        if self.find_three:\n",
    "            return self.get_three_items(idx)\n",
    "        else:\n",
    "            return self.get_basic_item(idx)\n",
    "\n",
    "    def __len__(self):\n",
    "        return len(self.img_list)"
   ]
  }
 ],
 "metadata": {
  "kernelspec": {
   "display_name": "Python 3 (ipykernel)",
   "language": "python",
   "name": "python3"
  },
  "language_info": {
   "codemirror_mode": {
    "name": "ipython",
    "version": 3
   },
   "file_extension": ".py",
   "mimetype": "text/x-python",
   "name": "python",
   "nbconvert_exporter": "python",
   "pygments_lexer": "ipython3",
   "version": "3.9.12"
  },
  "toc": {
   "base_numbering": 1,
   "nav_menu": {},
   "number_sections": true,
   "sideBar": true,
   "skip_h1_title": false,
   "title_cell": "Table of Contents",
   "title_sidebar": "Contents",
   "toc_cell": false,
   "toc_position": {
    "height": "calc(100% - 180px)",
    "left": "10px",
    "top": "150px",
    "width": "497.594px"
   },
   "toc_section_display": true,
   "toc_window_display": true
  },
  "vscode": {
   "interpreter": {
    "hash": "6d4a6bc45846aab54e7d9593687b4f0ac37d84ff54eabfefe731b4bf11ea2c68"
   }
  }
 },
 "nbformat": 4,
 "nbformat_minor": 2
}
